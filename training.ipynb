{
 "cells": [
  {
   "cell_type": "code",
   "execution_count": 1,
   "metadata": {},
   "outputs": [
    {
     "name": "stdout",
     "output_type": "stream",
     "text": [
      "Tue Mar 09 23:46:38 2021       \n",
      "+-----------------------------------------------------------------------------+\n",
      "| NVIDIA-SMI 456.71       Driver Version: 456.71       CUDA Version: 11.1     |\n",
      "|-------------------------------+----------------------+----------------------+\n",
      "| GPU  Name            TCC/WDDM | Bus-Id        Disp.A | Volatile Uncorr. ECC |\n",
      "| Fan  Temp  Perf  Pwr:Usage/Cap|         Memory-Usage | GPU-Util  Compute M. |\n",
      "|===============================+======================+======================|\n",
      "|   0  GeForce GTX 106... WDDM  | 00000000:02:00.0  On |                  N/A |\n",
      "|  0%   49C    P0    26W / 120W |    426MiB /  6144MiB |      2%      Default |\n",
      "+-------------------------------+----------------------+----------------------+\n",
      "                                                                               \n",
      "+-----------------------------------------------------------------------------+\n",
      "| Processes:                                                                  |\n",
      "|  GPU   GI   CI        PID   Type   Process name                  GPU Memory |\n",
      "|        ID   ID                                                   Usage      |\n",
      "|=============================================================================|\n",
      "|    0   N/A  N/A      1032    C+G   Insufficient Permissions        N/A      |\n",
      "|    0   N/A  N/A      1200    C+G   ...lPanel\\SystemSettings.exe    N/A      |\n",
      "|    0   N/A  N/A      2884    C+G   ...8wekyb3d8bbwe\\GameBar.exe    N/A      |\n",
      "|    0   N/A  N/A      5192    C+G   C:\\Windows\\explorer.exe         N/A      |\n",
      "|    0   N/A  N/A      5520    C+G   ...me\\Application\\chrome.exe    N/A      |\n",
      "|    0   N/A  N/A      5908    C+G   ...nputApp\\TextInputHost.exe    N/A      |\n",
      "|    0   N/A  N/A      6128    C+G   ...artMenuExperienceHost.exe    N/A      |\n",
      "|    0   N/A  N/A      6192    C+G   ...5n1h2txyewy\\SearchApp.exe    N/A      |\n",
      "|    0   N/A  N/A      6976    C+G   ...ekyb3d8bbwe\\YourPhone.exe    N/A      |\n",
      "|    0   N/A  N/A      8204    C+G   ...in7x64\\steamwebhelper.exe    N/A      |\n",
      "|    0   N/A  N/A      9284    C+G   ...kyb3d8bbwe\\Calculator.exe    N/A      |\n",
      "|    0   N/A  N/A      9688    C+G   ...b3d8bbwe\\WinStore.App.exe    N/A      |\n",
      "|    0   N/A  N/A     10140    C+G   ...y\\ShellExperienceHost.exe    N/A      |\n",
      "+-----------------------------------------------------------------------------+\n"
     ]
    }
   ],
   "source": [
    "!nvidia-smi\n",
    "# https://medium.com/analytics-vidhya/install-tensorflow-gpu-2-4-0-with-cuda-11-0-and-cudnn-8-using-anaconda-8c6472c9653f"
   ]
  },
  {
   "cell_type": "markdown",
   "metadata": {},
   "source": [
    "# Pre-Processing and Training the Model\n",
    "This notebook goes through the steps in turning the cleaned data into a representation that can be used to train a pre-trained BERT model for sentiment analysis.\n",
    "\n",
    "__Columns__\n",
    "- `target` sentiment of tweet (0=positive, 1=negative)\n",
    "- `tweet` cleaned tweet text\n",
    "\n",
    "The processes used in this notebook were inspired by the [this tutorial](https://www.tensorflow.org/tutorials/text/classify_text_with_bert) in the TensorFlow Docs.\n",
    "\n",
    "_Note:_\n",
    "_This notebook expects the zipped datasets to be in the ./resources sub-directory with the names train_twitter_data.zip, test_twitter_data, and validate_twitter_data (e.g., ./resources/train_twitter_data.zip). If the datasets do not exist open and run the `cleaning.ipynb` notebook to generate them._"
   ]
  },
  {
   "cell_type": "code",
   "execution_count": 6,
   "metadata": {
    "scrolled": true
   },
   "outputs": [
    {
     "name": "stdout",
     "output_type": "stream",
     "text": [
      "Requirement already satisfied: tensorflow in c:\\users\\ryand\\appdata\\roaming\\python\\python38\\site-packages (2.4.1)\n",
      "Requirement already satisfied: google-pasta~=0.2 in c:\\users\\ryand\\appdata\\roaming\\python\\python38\\site-packages (from tensorflow) (0.2.0)\n",
      "Requirement already satisfied: opt-einsum~=3.3.0 in c:\\users\\ryand\\appdata\\roaming\\python\\python38\\site-packages (from tensorflow) (3.3.0)\n",
      "Requirement already satisfied: wheel~=0.35 in c:\\developer\\lib\\anaconda3\\envs\\tf_v1\\lib\\site-packages (from tensorflow) (0.36.2)\n",
      "Requirement already satisfied: grpcio~=1.32.0 in c:\\users\\ryand\\appdata\\roaming\\python\\python38\\site-packages (from tensorflow) (1.32.0)\n",
      "Requirement already satisfied: astunparse~=1.6.3 in c:\\users\\ryand\\appdata\\roaming\\python\\python38\\site-packages (from tensorflow) (1.6.3)\n",
      "Requirement already satisfied: keras-preprocessing~=1.1.2 in c:\\users\\ryand\\appdata\\roaming\\python\\python38\\site-packages (from tensorflow) (1.1.2)\n",
      "Requirement already satisfied: protobuf>=3.9.2 in c:\\users\\ryand\\appdata\\roaming\\python\\python38\\site-packages (from tensorflow) (3.15.5)\n",
      "Requirement already satisfied: termcolor~=1.1.0 in c:\\users\\ryand\\appdata\\roaming\\python\\python38\\site-packages (from tensorflow) (1.1.0)\n",
      "Requirement already satisfied: h5py~=2.10.0 in c:\\users\\ryand\\appdata\\roaming\\python\\python38\\site-packages (from tensorflow) (2.10.0)\n",
      "Requirement already satisfied: gast==0.3.3 in c:\\users\\ryand\\appdata\\roaming\\python\\python38\\site-packages (from tensorflow) (0.3.3)\n",
      "Requirement already satisfied: tensorboard~=2.4 in c:\\users\\ryand\\appdata\\roaming\\python\\python38\\site-packages (from tensorflow) (2.4.1)\n",
      "Requirement already satisfied: tensorflow-estimator<2.5.0,>=2.4.0 in c:\\users\\ryand\\appdata\\roaming\\python\\python38\\site-packages (from tensorflow) (2.4.0)\n",
      "Requirement already satisfied: absl-py~=0.10 in c:\\developer\\lib\\anaconda3\\envs\\tf_v1\\lib\\site-packages (from tensorflow) (0.10.0)\n",
      "Requirement already satisfied: wrapt~=1.12.1 in c:\\users\\ryand\\appdata\\roaming\\python\\python38\\site-packages (from tensorflow) (1.12.1)\n",
      "Requirement already satisfied: six~=1.15.0 in c:\\developer\\lib\\anaconda3\\envs\\tf_v1\\lib\\site-packages (from tensorflow) (1.15.0)\n",
      "Requirement already satisfied: flatbuffers~=1.12.0 in c:\\users\\ryand\\appdata\\roaming\\python\\python38\\site-packages (from tensorflow) (1.12)\n",
      "Requirement already satisfied: typing-extensions~=3.7.4 in c:\\users\\ryand\\appdata\\roaming\\python\\python38\\site-packages (from tensorflow) (3.7.4.3)\n",
      "Requirement already satisfied: numpy~=1.19.2 in c:\\users\\ryand\\appdata\\roaming\\python\\python38\\site-packages (from tensorflow) (1.19.5)\n",
      "Requirement already satisfied: requests<3,>=2.21.0 in c:\\users\\ryand\\appdata\\roaming\\python\\python38\\site-packages (from tensorboard~=2.4->tensorflow) (2.25.1)\n",
      "Requirement already satisfied: google-auth-oauthlib<0.5,>=0.4.1 in c:\\users\\ryand\\appdata\\roaming\\python\\python38\\site-packages (from tensorboard~=2.4->tensorflow) (0.4.3)\n",
      "Requirement already satisfied: tensorboard-plugin-wit>=1.6.0 in c:\\users\\ryand\\appdata\\roaming\\python\\python38\\site-packages (from tensorboard~=2.4->tensorflow) (1.8.0)\n",
      "Requirement already satisfied: setuptools>=41.0.0 in c:\\developer\\lib\\anaconda3\\envs\\tf_v1\\lib\\site-packages (from tensorboard~=2.4->tensorflow) (52.0.0.post20210125)\n",
      "Requirement already satisfied: werkzeug>=0.11.15 in c:\\users\\ryand\\appdata\\roaming\\python\\python38\\site-packages (from tensorboard~=2.4->tensorflow) (1.0.1)\n",
      "Requirement already satisfied: markdown>=2.6.8 in c:\\users\\ryand\\appdata\\roaming\\python\\python38\\site-packages (from tensorboard~=2.4->tensorflow) (3.3.4)\n",
      "Requirement already satisfied: google-auth<2,>=1.6.3 in c:\\users\\ryand\\appdata\\roaming\\python\\python38\\site-packages (from tensorboard~=2.4->tensorflow) (1.27.1)\n",
      "Requirement already satisfied: pyasn1-modules>=0.2.1 in c:\\users\\ryand\\appdata\\roaming\\python\\python38\\site-packages (from google-auth<2,>=1.6.3->tensorboard~=2.4->tensorflow) (0.2.8)\n",
      "Requirement already satisfied: rsa<5,>=3.1.4 in c:\\users\\ryand\\appdata\\roaming\\python\\python38\\site-packages (from google-auth<2,>=1.6.3->tensorboard~=2.4->tensorflow) (4.7.2)\n",
      "Requirement already satisfied: cachetools<5.0,>=2.0.0 in c:\\users\\ryand\\appdata\\roaming\\python\\python38\\site-packages (from google-auth<2,>=1.6.3->tensorboard~=2.4->tensorflow) (4.2.1)\n",
      "Requirement already satisfied: requests-oauthlib>=0.7.0 in c:\\users\\ryand\\appdata\\roaming\\python\\python38\\site-packages (from google-auth-oauthlib<0.5,>=0.4.1->tensorboard~=2.4->tensorflow) (1.3.0)\n",
      "Requirement already satisfied: pyasn1<0.5.0,>=0.4.6 in c:\\users\\ryand\\appdata\\roaming\\python\\python38\\site-packages (from pyasn1-modules>=0.2.1->google-auth<2,>=1.6.3->tensorboard~=2.4->tensorflow) (0.4.8)\n",
      "Requirement already satisfied: certifi>=2017.4.17 in c:\\developer\\lib\\anaconda3\\envs\\tf_v1\\lib\\site-packages (from requests<3,>=2.21.0->tensorboard~=2.4->tensorflow) (2020.12.5)\n",
      "Requirement already satisfied: idna<3,>=2.5 in c:\\users\\ryand\\appdata\\roaming\\python\\python38\\site-packages (from requests<3,>=2.21.0->tensorboard~=2.4->tensorflow) (2.10)\n",
      "Requirement already satisfied: chardet<5,>=3.0.2 in c:\\users\\ryand\\appdata\\roaming\\python\\python38\\site-packages (from requests<3,>=2.21.0->tensorboard~=2.4->tensorflow) (4.0.0)\n",
      "Requirement already satisfied: urllib3<1.27,>=1.21.1 in c:\\users\\ryand\\appdata\\roaming\\python\\python38\\site-packages (from requests<3,>=2.21.0->tensorboard~=2.4->tensorflow) (1.26.3)\n",
      "Requirement already satisfied: oauthlib>=3.0.0 in c:\\users\\ryand\\appdata\\roaming\\python\\python38\\site-packages (from requests-oauthlib>=0.7.0->google-auth-oauthlib<0.5,>=0.4.1->tensorboard~=2.4->tensorflow) (3.1.0)\n",
      "Requirement already satisfied: tensorflow-text in c:\\developer\\lib\\anaconda3\\envs\\tf_v1\\lib\\site-packages (2.4.3)\n",
      "Requirement already satisfied: tensorflow<2.5,>=2.4.0 in c:\\users\\ryand\\appdata\\roaming\\python\\python38\\site-packages (from tensorflow-text) (2.4.1)\n",
      "Requirement already satisfied: tensorflow-hub>=0.8.0 in c:\\users\\ryand\\appdata\\roaming\\python\\python38\\site-packages (from tensorflow-text) (0.11.0)\n",
      "Requirement already satisfied: tensorflow-estimator<2.5.0,>=2.4.0 in c:\\users\\ryand\\appdata\\roaming\\python\\python38\\site-packages (from tensorflow<2.5,>=2.4.0->tensorflow-text) (2.4.0)\n",
      "Requirement already satisfied: wheel~=0.35 in c:\\developer\\lib\\anaconda3\\envs\\tf_v1\\lib\\site-packages (from tensorflow<2.5,>=2.4.0->tensorflow-text) (0.36.2)\n",
      "Requirement already satisfied: protobuf>=3.9.2 in c:\\users\\ryand\\appdata\\roaming\\python\\python38\\site-packages (from tensorflow<2.5,>=2.4.0->tensorflow-text) (3.15.5)\n",
      "Requirement already satisfied: six~=1.15.0 in c:\\developer\\lib\\anaconda3\\envs\\tf_v1\\lib\\site-packages (from tensorflow<2.5,>=2.4.0->tensorflow-text) (1.15.0)\n",
      "Requirement already satisfied: grpcio~=1.32.0 in c:\\users\\ryand\\appdata\\roaming\\python\\python38\\site-packages (from tensorflow<2.5,>=2.4.0->tensorflow-text) (1.32.0)\n",
      "Requirement already satisfied: h5py~=2.10.0 in c:\\users\\ryand\\appdata\\roaming\\python\\python38\\site-packages (from tensorflow<2.5,>=2.4.0->tensorflow-text) (2.10.0)\n",
      "Requirement already satisfied: astunparse~=1.6.3 in c:\\users\\ryand\\appdata\\roaming\\python\\python38\\site-packages (from tensorflow<2.5,>=2.4.0->tensorflow-text) (1.6.3)\n",
      "Requirement already satisfied: numpy~=1.19.2 in c:\\users\\ryand\\appdata\\roaming\\python\\python38\\site-packages (from tensorflow<2.5,>=2.4.0->tensorflow-text) (1.19.5)\n",
      "Requirement already satisfied: termcolor~=1.1.0 in c:\\users\\ryand\\appdata\\roaming\\python\\python38\\site-packages (from tensorflow<2.5,>=2.4.0->tensorflow-text) (1.1.0)\n",
      "Requirement already satisfied: keras-preprocessing~=1.1.2 in c:\\users\\ryand\\appdata\\roaming\\python\\python38\\site-packages (from tensorflow<2.5,>=2.4.0->tensorflow-text) (1.1.2)\n",
      "Requirement already satisfied: opt-einsum~=3.3.0 in c:\\users\\ryand\\appdata\\roaming\\python\\python38\\site-packages (from tensorflow<2.5,>=2.4.0->tensorflow-text) (3.3.0)\n",
      "Requirement already satisfied: gast==0.3.3 in c:\\users\\ryand\\appdata\\roaming\\python\\python38\\site-packages (from tensorflow<2.5,>=2.4.0->tensorflow-text) (0.3.3)\n",
      "Requirement already satisfied: absl-py~=0.10 in c:\\developer\\lib\\anaconda3\\envs\\tf_v1\\lib\\site-packages (from tensorflow<2.5,>=2.4.0->tensorflow-text) (0.10.0)\n",
      "Requirement already satisfied: typing-extensions~=3.7.4 in c:\\users\\ryand\\appdata\\roaming\\python\\python38\\site-packages (from tensorflow<2.5,>=2.4.0->tensorflow-text) (3.7.4.3)\n",
      "Requirement already satisfied: tensorboard~=2.4 in c:\\users\\ryand\\appdata\\roaming\\python\\python38\\site-packages (from tensorflow<2.5,>=2.4.0->tensorflow-text) (2.4.1)\n",
      "Requirement already satisfied: flatbuffers~=1.12.0 in c:\\users\\ryand\\appdata\\roaming\\python\\python38\\site-packages (from tensorflow<2.5,>=2.4.0->tensorflow-text) (1.12)\n",
      "Requirement already satisfied: google-pasta~=0.2 in c:\\users\\ryand\\appdata\\roaming\\python\\python38\\site-packages (from tensorflow<2.5,>=2.4.0->tensorflow-text) (0.2.0)\n",
      "Requirement already satisfied: wrapt~=1.12.1 in c:\\users\\ryand\\appdata\\roaming\\python\\python38\\site-packages (from tensorflow<2.5,>=2.4.0->tensorflow-text) (1.12.1)\n",
      "Requirement already satisfied: google-auth<2,>=1.6.3 in c:\\users\\ryand\\appdata\\roaming\\python\\python38\\site-packages (from tensorboard~=2.4->tensorflow<2.5,>=2.4.0->tensorflow-text) (1.27.1)\n",
      "Requirement already satisfied: markdown>=2.6.8 in c:\\users\\ryand\\appdata\\roaming\\python\\python38\\site-packages (from tensorboard~=2.4->tensorflow<2.5,>=2.4.0->tensorflow-text) (3.3.4)\n",
      "Requirement already satisfied: werkzeug>=0.11.15 in c:\\users\\ryand\\appdata\\roaming\\python\\python38\\site-packages (from tensorboard~=2.4->tensorflow<2.5,>=2.4.0->tensorflow-text) (1.0.1)\n",
      "Requirement already satisfied: requests<3,>=2.21.0 in c:\\users\\ryand\\appdata\\roaming\\python\\python38\\site-packages (from tensorboard~=2.4->tensorflow<2.5,>=2.4.0->tensorflow-text) (2.25.1)\n",
      "Requirement already satisfied: tensorboard-plugin-wit>=1.6.0 in c:\\users\\ryand\\appdata\\roaming\\python\\python38\\site-packages (from tensorboard~=2.4->tensorflow<2.5,>=2.4.0->tensorflow-text) (1.8.0)\n",
      "Requirement already satisfied: setuptools>=41.0.0 in c:\\developer\\lib\\anaconda3\\envs\\tf_v1\\lib\\site-packages (from tensorboard~=2.4->tensorflow<2.5,>=2.4.0->tensorflow-text) (52.0.0.post20210125)\n",
      "Requirement already satisfied: google-auth-oauthlib<0.5,>=0.4.1 in c:\\users\\ryand\\appdata\\roaming\\python\\python38\\site-packages (from tensorboard~=2.4->tensorflow<2.5,>=2.4.0->tensorflow-text) (0.4.3)\n",
      "Requirement already satisfied: rsa<5,>=3.1.4 in c:\\users\\ryand\\appdata\\roaming\\python\\python38\\site-packages (from google-auth<2,>=1.6.3->tensorboard~=2.4->tensorflow<2.5,>=2.4.0->tensorflow-text) (4.7.2)\n",
      "Requirement already satisfied: pyasn1-modules>=0.2.1 in c:\\users\\ryand\\appdata\\roaming\\python\\python38\\site-packages (from google-auth<2,>=1.6.3->tensorboard~=2.4->tensorflow<2.5,>=2.4.0->tensorflow-text) (0.2.8)\n",
      "Requirement already satisfied: cachetools<5.0,>=2.0.0 in c:\\users\\ryand\\appdata\\roaming\\python\\python38\\site-packages (from google-auth<2,>=1.6.3->tensorboard~=2.4->tensorflow<2.5,>=2.4.0->tensorflow-text) (4.2.1)\n",
      "Requirement already satisfied: requests-oauthlib>=0.7.0 in c:\\users\\ryand\\appdata\\roaming\\python\\python38\\site-packages (from google-auth-oauthlib<0.5,>=0.4.1->tensorboard~=2.4->tensorflow<2.5,>=2.4.0->tensorflow-text) (1.3.0)\n",
      "Requirement already satisfied: pyasn1<0.5.0,>=0.4.6 in c:\\users\\ryand\\appdata\\roaming\\python\\python38\\site-packages (from pyasn1-modules>=0.2.1->google-auth<2,>=1.6.3->tensorboard~=2.4->tensorflow<2.5,>=2.4.0->tensorflow-text) (0.4.8)\n",
      "Requirement already satisfied: chardet<5,>=3.0.2 in c:\\users\\ryand\\appdata\\roaming\\python\\python38\\site-packages (from requests<3,>=2.21.0->tensorboard~=2.4->tensorflow<2.5,>=2.4.0->tensorflow-text) (4.0.0)\n",
      "Requirement already satisfied: urllib3<1.27,>=1.21.1 in c:\\users\\ryand\\appdata\\roaming\\python\\python38\\site-packages (from requests<3,>=2.21.0->tensorboard~=2.4->tensorflow<2.5,>=2.4.0->tensorflow-text) (1.26.3)\n",
      "Requirement already satisfied: certifi>=2017.4.17 in c:\\developer\\lib\\anaconda3\\envs\\tf_v1\\lib\\site-packages (from requests<3,>=2.21.0->tensorboard~=2.4->tensorflow<2.5,>=2.4.0->tensorflow-text) (2020.12.5)\n",
      "Requirement already satisfied: idna<3,>=2.5 in c:\\users\\ryand\\appdata\\roaming\\python\\python38\\site-packages (from requests<3,>=2.21.0->tensorboard~=2.4->tensorflow<2.5,>=2.4.0->tensorflow-text) (2.10)\n",
      "Requirement already satisfied: oauthlib>=3.0.0 in c:\\users\\ryand\\appdata\\roaming\\python\\python38\\site-packages (from requests-oauthlib>=0.7.0->google-auth-oauthlib<0.5,>=0.4.1->tensorboard~=2.4->tensorflow<2.5,>=2.4.0->tensorflow-text) (3.1.0)\n"
     ]
    },
    {
     "name": "stdout",
     "output_type": "stream",
     "text": [
      "Requirement already satisfied: tf-models-official in c:\\developer\\lib\\anaconda3\\envs\\tf_v1\\lib\\site-packages (2.4.0)\n",
      "Requirement already satisfied: oauth2client in c:\\developer\\lib\\anaconda3\\envs\\tf_v1\\lib\\site-packages (from tf-models-official) (4.1.3)\n",
      "Requirement already satisfied: dataclasses in c:\\developer\\lib\\anaconda3\\envs\\tf_v1\\lib\\site-packages (from tf-models-official) (0.6)\n",
      "Requirement already satisfied: sentencepiece in c:\\developer\\lib\\anaconda3\\envs\\tf_v1\\lib\\site-packages (from tf-models-official) (0.1.95)\n",
      "Requirement already satisfied: pandas>=0.22.0 in c:\\developer\\lib\\anaconda3\\envs\\tf_v1\\lib\\site-packages (from tf-models-official) (1.2.3)\n",
      "Requirement already satisfied: psutil>=5.4.3 in c:\\developer\\lib\\anaconda3\\envs\\tf_v1\\lib\\site-packages (from tf-models-official) (5.8.0)\n",
      "Requirement already satisfied: kaggle>=1.3.9 in c:\\developer\\lib\\anaconda3\\envs\\tf_v1\\lib\\site-packages (from tf-models-official) (1.5.10)\n",
      "Requirement already satisfied: matplotlib in c:\\developer\\lib\\anaconda3\\envs\\tf_v1\\lib\\site-packages (from tf-models-official) (3.3.4)\n",
      "Requirement already satisfied: pyyaml>=5.1 in c:\\developer\\lib\\anaconda3\\envs\\tf_v1\\lib\\site-packages (from tf-models-official) (5.4.1)\n",
      "Requirement already satisfied: tf-slim>=1.1.0 in c:\\developer\\lib\\anaconda3\\envs\\tf_v1\\lib\\site-packages (from tf-models-official) (1.1.0)\n",
      "Requirement already satisfied: Pillow in c:\\developer\\lib\\anaconda3\\envs\\tf_v1\\lib\\site-packages (from tf-models-official) (8.1.2)\n",
      "Requirement already satisfied: google-cloud-bigquery>=0.31.0 in c:\\developer\\lib\\anaconda3\\envs\\tf_v1\\lib\\site-packages (from tf-models-official) (2.11.0)\n",
      "Requirement already satisfied: tensorflow-hub>=0.6.0 in c:\\users\\ryand\\appdata\\roaming\\python\\python38\\site-packages (from tf-models-official) (0.11.0)\n",
      "Requirement already satisfied: pycocotools in c:\\developer\\lib\\anaconda3\\envs\\tf_v1\\lib\\site-packages (from tf-models-official) (2.0.2)\n",
      "Requirement already satisfied: tensorflow-addons in c:\\developer\\lib\\anaconda3\\envs\\tf_v1\\lib\\site-packages (from tf-models-official) (0.12.1)\n",
      "Requirement already satisfied: seqeval in c:\\developer\\lib\\anaconda3\\envs\\tf_v1\\lib\\site-packages (from tf-models-official) (1.2.2)\n",
      "Requirement already satisfied: Cython in c:\\developer\\lib\\anaconda3\\envs\\tf_v1\\lib\\site-packages (from tf-models-official) (0.29.22)\n",
      "Requirement already satisfied: numpy>=1.15.4 in c:\\users\\ryand\\appdata\\roaming\\python\\python38\\site-packages (from tf-models-official) (1.19.5)\n",
      "Requirement already satisfied: tensorflow-model-optimization>=0.4.1 in c:\\developer\\lib\\anaconda3\\envs\\tf_v1\\lib\\site-packages (from tf-models-official) (0.5.0)\n",
      "Requirement already satisfied: scipy>=0.19.1 in c:\\developer\\lib\\anaconda3\\envs\\tf_v1\\lib\\site-packages (from tf-models-official) (1.6.1)\n",
      "Requirement already satisfied: google-api-python-client>=1.6.7 in c:\\developer\\lib\\anaconda3\\envs\\tf_v1\\lib\\site-packages (from tf-models-official) (2.0.2)\n",
      "Requirement already satisfied: py-cpuinfo>=3.3.0 in c:\\developer\\lib\\anaconda3\\envs\\tf_v1\\lib\\site-packages (from tf-models-official) (7.0.0)\n",
      "Requirement already satisfied: gin-config in c:\\developer\\lib\\anaconda3\\envs\\tf_v1\\lib\\site-packages (from tf-models-official) (0.4.0)\n",
      "Requirement already satisfied: tensorflow-datasets in c:\\developer\\lib\\anaconda3\\envs\\tf_v1\\lib\\site-packages (from tf-models-official) (4.2.0)\n",
      "Requirement already satisfied: tensorflow>=2.4.0 in c:\\users\\ryand\\appdata\\roaming\\python\\python38\\site-packages (from tf-models-official) (2.4.1)\n",
      "Requirement already satisfied: six in c:\\developer\\lib\\anaconda3\\envs\\tf_v1\\lib\\site-packages (from tf-models-official) (1.15.0)\n",
      "Requirement already satisfied: opencv-python-headless in c:\\developer\\lib\\anaconda3\\envs\\tf_v1\\lib\\site-packages (from tf-models-official) (4.5.1.48)\n",
      "Requirement already satisfied: google-auth-httplib2>=0.0.3 in c:\\developer\\lib\\anaconda3\\envs\\tf_v1\\lib\\site-packages (from google-api-python-client>=1.6.7->tf-models-official) (0.1.0)\n",
      "Requirement already satisfied: google-api-core<2dev,>=1.21.0 in c:\\developer\\lib\\anaconda3\\envs\\tf_v1\\lib\\site-packages (from google-api-python-client>=1.6.7->tf-models-official) (1.26.1)\n",
      "Requirement already satisfied: google-auth<2dev,>=1.16.0 in c:\\users\\ryand\\appdata\\roaming\\python\\python38\\site-packages (from google-api-python-client>=1.6.7->tf-models-official) (1.27.1)\n",
      "Requirement already satisfied: uritemplate<4dev,>=3.0.0 in c:\\developer\\lib\\anaconda3\\envs\\tf_v1\\lib\\site-packages (from google-api-python-client>=1.6.7->tf-models-official) (3.0.1)\n",
      "Requirement already satisfied: httplib2<1dev,>=0.15.0 in c:\\developer\\lib\\anaconda3\\envs\\tf_v1\\lib\\site-packages (from google-api-python-client>=1.6.7->tf-models-official) (0.19.0)\n",
      "Requirement already satisfied: protobuf>=3.12.0 in c:\\users\\ryand\\appdata\\roaming\\python\\python38\\site-packages (from google-api-core<2dev,>=1.21.0->google-api-python-client>=1.6.7->tf-models-official) (3.15.5)\n",
      "Requirement already satisfied: googleapis-common-protos<2.0dev,>=1.6.0 in c:\\developer\\lib\\anaconda3\\envs\\tf_v1\\lib\\site-packages (from google-api-core<2dev,>=1.21.0->google-api-python-client>=1.6.7->tf-models-official) (1.53.0)\n",
      "Requirement already satisfied: setuptools>=40.3.0 in c:\\developer\\lib\\anaconda3\\envs\\tf_v1\\lib\\site-packages (from google-api-core<2dev,>=1.21.0->google-api-python-client>=1.6.7->tf-models-official) (52.0.0.post20210125)\n",
      "Requirement already satisfied: packaging>=14.3 in c:\\developer\\lib\\anaconda3\\envs\\tf_v1\\lib\\site-packages (from google-api-core<2dev,>=1.21.0->google-api-python-client>=1.6.7->tf-models-official) (20.9)\n",
      "Requirement already satisfied: pytz in c:\\developer\\lib\\anaconda3\\envs\\tf_v1\\lib\\site-packages (from google-api-core<2dev,>=1.21.0->google-api-python-client>=1.6.7->tf-models-official) (2021.1)\n",
      "Requirement already satisfied: requests<3.0.0dev,>=2.18.0 in c:\\users\\ryand\\appdata\\roaming\\python\\python38\\site-packages (from google-api-core<2dev,>=1.21.0->google-api-python-client>=1.6.7->tf-models-official) (2.25.1)\n",
      "Requirement already satisfied: pyasn1-modules>=0.2.1 in c:\\users\\ryand\\appdata\\roaming\\python\\python38\\site-packages (from google-auth<2dev,>=1.16.0->google-api-python-client>=1.6.7->tf-models-official) (0.2.8)\n",
      "Requirement already satisfied: cachetools<5.0,>=2.0.0 in c:\\users\\ryand\\appdata\\roaming\\python\\python38\\site-packages (from google-auth<2dev,>=1.16.0->google-api-python-client>=1.6.7->tf-models-official) (4.2.1)\n",
      "Requirement already satisfied: rsa<5,>=3.1.4 in c:\\users\\ryand\\appdata\\roaming\\python\\python38\\site-packages (from google-auth<2dev,>=1.16.0->google-api-python-client>=1.6.7->tf-models-official) (4.7.2)\n",
      "Requirement already satisfied: proto-plus>=1.10.0 in c:\\developer\\lib\\anaconda3\\envs\\tf_v1\\lib\\site-packages (from google-cloud-bigquery>=0.31.0->tf-models-official) (1.14.2)\n",
      "Requirement already satisfied: google-resumable-media<2.0dev,>=0.6.0 in c:\\developer\\lib\\anaconda3\\envs\\tf_v1\\lib\\site-packages (from google-cloud-bigquery>=0.31.0->tf-models-official) (1.2.0)\n",
      "Requirement already satisfied: google-cloud-core<2.0dev,>=1.4.1 in c:\\developer\\lib\\anaconda3\\envs\\tf_v1\\lib\\site-packages (from google-cloud-bigquery>=0.31.0->tf-models-official) (1.6.0)\n",
      "Requirement already satisfied: grpcio<2.0dev,>=1.29.0 in c:\\users\\ryand\\appdata\\roaming\\python\\python38\\site-packages (from google-api-core<2dev,>=1.21.0->google-api-python-client>=1.6.7->tf-models-official) (1.32.0)\n",
      "Requirement already satisfied: google-crc32c<2.0dev,>=1.0 in c:\\developer\\lib\\anaconda3\\envs\\tf_v1\\lib\\site-packages (from google-resumable-media<2.0dev,>=0.6.0->google-cloud-bigquery>=0.31.0->tf-models-official) (1.1.2)\n",
      "Requirement already satisfied: cffi>=1.0.0 in c:\\developer\\lib\\anaconda3\\envs\\tf_v1\\lib\\site-packages (from google-crc32c<2.0dev,>=1.0->google-resumable-media<2.0dev,>=0.6.0->google-cloud-bigquery>=0.31.0->tf-models-official) (1.14.5)\n",
      "Requirement already satisfied: pycparser in c:\\developer\\lib\\anaconda3\\envs\\tf_v1\\lib\\site-packages (from cffi>=1.0.0->google-crc32c<2.0dev,>=1.0->google-resumable-media<2.0dev,>=0.6.0->google-cloud-bigquery>=0.31.0->tf-models-official) (2.20)\n",
      "Requirement already satisfied: pyparsing<3,>=2.4.2 in c:\\developer\\lib\\anaconda3\\envs\\tf_v1\\lib\\site-packages (from httplib2<1dev,>=0.15.0->google-api-python-client>=1.6.7->tf-models-official) (2.4.7)\n",
      "Requirement already satisfied: python-slugify in c:\\developer\\lib\\anaconda3\\envs\\tf_v1\\lib\\site-packages (from kaggle>=1.3.9->tf-models-official) (4.0.1)\n",
      "Requirement already satisfied: urllib3 in c:\\users\\ryand\\appdata\\roaming\\python\\python38\\site-packages (from kaggle>=1.3.9->tf-models-official) (1.26.3)\n",
      "Requirement already satisfied: tqdm in c:\\developer\\lib\\anaconda3\\envs\\tf_v1\\lib\\site-packages (from kaggle>=1.3.9->tf-models-official) (4.59.0)\n",
      "Requirement already satisfied: certifi in c:\\developer\\lib\\anaconda3\\envs\\tf_v1\\lib\\site-packages (from kaggle>=1.3.9->tf-models-official) (2020.12.5)\n",
      "Requirement already satisfied: python-dateutil in c:\\developer\\lib\\anaconda3\\envs\\tf_v1\\lib\\site-packages (from kaggle>=1.3.9->tf-models-official) (2.8.1)\n",
      "Requirement already satisfied: pyasn1<0.5.0,>=0.4.6 in c:\\users\\ryand\\appdata\\roaming\\python\\python38\\site-packages (from pyasn1-modules>=0.2.1->google-auth<2dev,>=1.16.0->google-api-python-client>=1.6.7->tf-models-official) (0.4.8)\n",
      "Requirement already satisfied: chardet<5,>=3.0.2 in c:\\users\\ryand\\appdata\\roaming\\python\\python38\\site-packages (from requests<3.0.0dev,>=2.18.0->google-api-core<2dev,>=1.21.0->google-api-python-client>=1.6.7->tf-models-official) (4.0.0)\n",
      "Requirement already satisfied: idna<3,>=2.5 in c:\\users\\ryand\\appdata\\roaming\\python\\python38\\site-packages (from requests<3.0.0dev,>=2.18.0->google-api-core<2dev,>=1.21.0->google-api-python-client>=1.6.7->tf-models-official) (2.10)\n",
      "Requirement already satisfied: keras-preprocessing~=1.1.2 in c:\\users\\ryand\\appdata\\roaming\\python\\python38\\site-packages (from tensorflow>=2.4.0->tf-models-official) (1.1.2)\n",
      "Requirement already satisfied: wheel~=0.35 in c:\\developer\\lib\\anaconda3\\envs\\tf_v1\\lib\\site-packages (from tensorflow>=2.4.0->tf-models-official) (0.36.2)\n",
      "Requirement already satisfied: tensorboard~=2.4 in c:\\users\\ryand\\appdata\\roaming\\python\\python38\\site-packages (from tensorflow>=2.4.0->tf-models-official) (2.4.1)\n",
      "Requirement already satisfied: google-pasta~=0.2 in c:\\users\\ryand\\appdata\\roaming\\python\\python38\\site-packages (from tensorflow>=2.4.0->tf-models-official) (0.2.0)\n",
      "Requirement already satisfied: tensorflow-estimator<2.5.0,>=2.4.0 in c:\\users\\ryand\\appdata\\roaming\\python\\python38\\site-packages (from tensorflow>=2.4.0->tf-models-official) (2.4.0)\n",
      "Requirement already satisfied: astunparse~=1.6.3 in c:\\users\\ryand\\appdata\\roaming\\python\\python38\\site-packages (from tensorflow>=2.4.0->tf-models-official) (1.6.3)\n",
      "Requirement already satisfied: typing-extensions~=3.7.4 in c:\\users\\ryand\\appdata\\roaming\\python\\python38\\site-packages (from tensorflow>=2.4.0->tf-models-official) (3.7.4.3)\n",
      "Requirement already satisfied: wrapt~=1.12.1 in c:\\users\\ryand\\appdata\\roaming\\python\\python38\\site-packages (from tensorflow>=2.4.0->tf-models-official) (1.12.1)\n",
      "Requirement already satisfied: h5py~=2.10.0 in c:\\users\\ryand\\appdata\\roaming\\python\\python38\\site-packages (from tensorflow>=2.4.0->tf-models-official) (2.10.0)\n",
      "Requirement already satisfied: termcolor~=1.1.0 in c:\\users\\ryand\\appdata\\roaming\\python\\python38\\site-packages (from tensorflow>=2.4.0->tf-models-official) (1.1.0)\n",
      "Requirement already satisfied: absl-py~=0.10 in c:\\developer\\lib\\anaconda3\\envs\\tf_v1\\lib\\site-packages (from tensorflow>=2.4.0->tf-models-official) (0.10.0)\n",
      "Requirement already satisfied: flatbuffers~=1.12.0 in c:\\users\\ryand\\appdata\\roaming\\python\\python38\\site-packages (from tensorflow>=2.4.0->tf-models-official) (1.12)\n",
      "Requirement already satisfied: gast==0.3.3 in c:\\users\\ryand\\appdata\\roaming\\python\\python38\\site-packages (from tensorflow>=2.4.0->tf-models-official) (0.3.3)\n",
      "Requirement already satisfied: opt-einsum~=3.3.0 in c:\\users\\ryand\\appdata\\roaming\\python\\python38\\site-packages (from tensorflow>=2.4.0->tf-models-official) (3.3.0)\n",
      "Requirement already satisfied: google-auth-oauthlib<0.5,>=0.4.1 in c:\\users\\ryand\\appdata\\roaming\\python\\python38\\site-packages (from tensorboard~=2.4->tensorflow>=2.4.0->tf-models-official) (0.4.3)\n",
      "Requirement already satisfied: markdown>=2.6.8 in c:\\users\\ryand\\appdata\\roaming\\python\\python38\\site-packages (from tensorboard~=2.4->tensorflow>=2.4.0->tf-models-official) (3.3.4)\n",
      "Requirement already satisfied: werkzeug>=0.11.15 in c:\\users\\ryand\\appdata\\roaming\\python\\python38\\site-packages (from tensorboard~=2.4->tensorflow>=2.4.0->tf-models-official) (1.0.1)\n",
      "Requirement already satisfied: tensorboard-plugin-wit>=1.6.0 in c:\\users\\ryand\\appdata\\roaming\\python\\python38\\site-packages (from tensorboard~=2.4->tensorflow>=2.4.0->tf-models-official) (1.8.0)\n",
      "Requirement already satisfied: requests-oauthlib>=0.7.0 in c:\\users\\ryand\\appdata\\roaming\\python\\python38\\site-packages (from google-auth-oauthlib<0.5,>=0.4.1->tensorboard~=2.4->tensorflow>=2.4.0->tf-models-official) (1.3.0)\n",
      "Requirement already satisfied: oauthlib>=3.0.0 in c:\\users\\ryand\\appdata\\roaming\\python\\python38\\site-packages (from requests-oauthlib>=0.7.0->google-auth-oauthlib<0.5,>=0.4.1->tensorboard~=2.4->tensorflow>=2.4.0->tf-models-official) (3.1.0)\n",
      "Requirement already satisfied: dm-tree~=0.1.1 in c:\\developer\\lib\\anaconda3\\envs\\tf_v1\\lib\\site-packages (from tensorflow-model-optimization>=0.4.1->tf-models-official) (0.1.5)\n",
      "Requirement already satisfied: cycler>=0.10 in c:\\developer\\lib\\anaconda3\\envs\\tf_v1\\lib\\site-packages (from matplotlib->tf-models-official) (0.10.0)\n",
      "Requirement already satisfied: kiwisolver>=1.0.1 in c:\\developer\\lib\\anaconda3\\envs\\tf_v1\\lib\\site-packages (from matplotlib->tf-models-official) (1.3.1)\n",
      "Requirement already satisfied: text-unidecode>=1.3 in c:\\developer\\lib\\anaconda3\\envs\\tf_v1\\lib\\site-packages (from python-slugify->kaggle>=1.3.9->tf-models-official) (1.3)\n",
      "Requirement already satisfied: scikit-learn>=0.21.3 in c:\\developer\\lib\\anaconda3\\envs\\tf_v1\\lib\\site-packages (from seqeval->tf-models-official) (0.24.1)\n",
      "Requirement already satisfied: threadpoolctl>=2.0.0 in c:\\developer\\lib\\anaconda3\\envs\\tf_v1\\lib\\site-packages (from scikit-learn>=0.21.3->seqeval->tf-models-official) (2.1.0)\n",
      "Requirement already satisfied: joblib>=0.11 in c:\\developer\\lib\\anaconda3\\envs\\tf_v1\\lib\\site-packages (from scikit-learn>=0.21.3->seqeval->tf-models-official) (1.0.1)\n",
      "Requirement already satisfied: typeguard>=2.7 in c:\\developer\\lib\\anaconda3\\envs\\tf_v1\\lib\\site-packages (from tensorflow-addons->tf-models-official) (2.11.1)\n",
      "Requirement already satisfied: dill in c:\\developer\\lib\\anaconda3\\envs\\tf_v1\\lib\\site-packages (from tensorflow-datasets->tf-models-official) (0.3.3)\n",
      "Requirement already satisfied: tensorflow-metadata in c:\\developer\\lib\\anaconda3\\envs\\tf_v1\\lib\\site-packages (from tensorflow-datasets->tf-models-official) (0.28.0)\n",
      "Requirement already satisfied: attrs>=18.1.0 in c:\\developer\\lib\\anaconda3\\envs\\tf_v1\\lib\\site-packages (from tensorflow-datasets->tf-models-official) (20.3.0)\n",
      "Requirement already satisfied: promise in c:\\developer\\lib\\anaconda3\\envs\\tf_v1\\lib\\site-packages (from tensorflow-datasets->tf-models-official) (2.3)\n",
      "Requirement already satisfied: future in c:\\developer\\lib\\anaconda3\\envs\\tf_v1\\lib\\site-packages (from tensorflow-datasets->tf-models-official) (0.18.2)\n",
      "Requirement already satisfied: importlib-resources in c:\\developer\\lib\\anaconda3\\envs\\tf_v1\\lib\\site-packages (from tensorflow-datasets->tf-models-official) (5.1.2)\n"
     ]
    },
    {
     "name": "stdout",
     "output_type": "stream",
     "text": [
      "Requirement already satisfied: pydot in c:\\developer\\lib\\anaconda3\\envs\\tf_v1\\lib\\site-packages (1.4.2)\n",
      "Requirement already satisfied: pyparsing>=2.1.4 in c:\\developer\\lib\\anaconda3\\envs\\tf_v1\\lib\\site-packages (from pydot) (2.4.7)\n"
     ]
    }
   ],
   "source": [
    "import sys \n",
    "!conda install --yes --prefix {sys.prefix} tf-nightly\n",
    "!conda install --yes --prefix {sys.prefix} tensorflow-text-nightly\n",
    "!conda install --yes --prefix {sys.prefix} tf-models-nightly\n",
    "!conda install --yes --prefix {sys.prefix} pydot"
   ]
  },
  {
   "cell_type": "code",
   "execution_count": 7,
   "metadata": {},
   "outputs": [
    {
     "ename": "AttributeError",
     "evalue": "module 'tensorflow' has no attribute '__version__'",
     "output_type": "error",
     "traceback": [
      "\u001b[1;31m---------------------------------------------------------------------------\u001b[0m",
      "\u001b[1;31mAttributeError\u001b[0m                            Traceback (most recent call last)",
      "\u001b[1;32m<ipython-input-7-c1f2f7e053f2>\u001b[0m in \u001b[0;36m<module>\u001b[1;34m\u001b[0m\n\u001b[0;32m      5\u001b[0m \u001b[1;32mimport\u001b[0m \u001b[0mmatplotlib\u001b[0m\u001b[1;33m.\u001b[0m\u001b[0mpyplot\u001b[0m \u001b[1;32mas\u001b[0m \u001b[0mplt\u001b[0m\u001b[1;33m\u001b[0m\u001b[1;33m\u001b[0m\u001b[0m\n\u001b[0;32m      6\u001b[0m \u001b[1;32mimport\u001b[0m \u001b[0mtensorflow\u001b[0m \u001b[1;32mas\u001b[0m \u001b[0mtf\u001b[0m\u001b[1;33m\u001b[0m\u001b[1;33m\u001b[0m\u001b[0m\n\u001b[1;32m----> 7\u001b[1;33m \u001b[1;32mimport\u001b[0m \u001b[0mtensorflow_hub\u001b[0m \u001b[1;32mas\u001b[0m \u001b[0mhub\u001b[0m\u001b[1;33m\u001b[0m\u001b[1;33m\u001b[0m\u001b[0m\n\u001b[0m\u001b[0;32m      8\u001b[0m \u001b[1;32mimport\u001b[0m \u001b[0mtensorflow_text\u001b[0m \u001b[1;32mas\u001b[0m \u001b[0mtext\u001b[0m\u001b[1;33m\u001b[0m\u001b[1;33m\u001b[0m\u001b[0m\n\u001b[0;32m      9\u001b[0m \u001b[1;33m\u001b[0m\u001b[0m\n",
      "\u001b[1;32m~\\AppData\\Roaming\\Python\\Python38\\site-packages\\tensorflow_hub\\__init__.py\u001b[0m in \u001b[0;36m<module>\u001b[1;34m\u001b[0m\n\u001b[0;32m     83\u001b[0m             present=tf.__version__))\n\u001b[0;32m     84\u001b[0m \u001b[1;33m\u001b[0m\u001b[0m\n\u001b[1;32m---> 85\u001b[1;33m \u001b[0m_ensure_tf_install\u001b[0m\u001b[1;33m(\u001b[0m\u001b[1;33m)\u001b[0m\u001b[1;33m\u001b[0m\u001b[1;33m\u001b[0m\u001b[0m\n\u001b[0m\u001b[0;32m     86\u001b[0m \u001b[1;33m\u001b[0m\u001b[0m\n\u001b[0;32m     87\u001b[0m \u001b[1;33m\u001b[0m\u001b[0m\n",
      "\u001b[1;32m~\\AppData\\Roaming\\Python\\Python38\\site-packages\\tensorflow_hub\\__init__.py\u001b[0m in \u001b[0;36m_ensure_tf_install\u001b[1;34m()\u001b[0m\n\u001b[0;32m     72\u001b[0m   \u001b[1;31m#\u001b[0m\u001b[1;33m\u001b[0m\u001b[1;33m\u001b[0m\u001b[1;33m\u001b[0m\u001b[0m\n\u001b[0;32m     73\u001b[0m   \u001b[0mrequired_tensorflow_version\u001b[0m \u001b[1;33m=\u001b[0m \u001b[1;34m\"1.15.0\"\u001b[0m\u001b[1;33m\u001b[0m\u001b[1;33m\u001b[0m\u001b[0m\n\u001b[1;32m---> 74\u001b[1;33m   if (distutils.version.LooseVersion(tf.__version__) <\n\u001b[0m\u001b[0;32m     75\u001b[0m       distutils.version.LooseVersion(required_tensorflow_version)):\n\u001b[0;32m     76\u001b[0m     raise ImportError(\n",
      "\u001b[1;31mAttributeError\u001b[0m: module 'tensorflow' has no attribute '__version__'"
     ]
    }
   ],
   "source": [
    "import os\n",
    "import shutil\n",
    "\n",
    "import pandas as pd\n",
    "import matplotlib.pyplot as plt\n",
    "import tensorflow as tf\n",
    "import tensorflow_hub as hub\n",
    "import tensorflow_text as text\n",
    "\n",
    "from official.nlp import optimization\n",
    "\n",
    "tf.get_logger().setLevel('ERROR')"
   ]
  },
  {
   "cell_type": "code",
   "execution_count": null,
   "metadata": {},
   "outputs": [],
   "source": [
    "# tf.config.set_visible_devices([], 'GPU')\n",
    "tf.config.list_physical_devices()"
   ]
  },
  {
   "cell_type": "markdown",
   "metadata": {},
   "source": [
    "## Read Files\n",
    "Read the files into memory and convert them to TensorFlow datasets to begin pre-processing."
   ]
  },
  {
   "cell_type": "code",
   "execution_count": null,
   "metadata": {},
   "outputs": [],
   "source": [
    "RESOURCES_PATH = './resources/{}'\n",
    "BATCH_SIZE=32\n",
    "\n",
    "def twitter_data_to_dataset(filename):\n",
    "    pd_df = pd.read_csv(RESOURCES_PATH.format(filename), encoding = 'ISO-8859-1', compression='zip')\n",
    "    tweets =  tf.constant(pd_df['tweet'].to_numpy(dtype='U'), dtype=tf.string)\n",
    "    targets = tf.constant(pd_df['target'].to_numpy(dtype='i4'), dtype=tf.int32)\n",
    "    raw_ds = tf.data.Dataset.from_tensor_slices((tweets, targets))\n",
    "    return raw_ds.batch(BATCH_SIZE, drop_remainder=False).cache().prefetch(buffer_size=tf.data.AUTOTUNE)\n",
    "\n",
    "train_ds = twitter_data_to_dataset('train_twitter_data.zip')\n",
    "test_ds = twitter_data_to_dataset('test_twitter_data.zip')\n",
    "val_ds = twitter_data_to_dataset('validate_twitter_data.zip')"
   ]
  },
  {
   "cell_type": "code",
   "execution_count": null,
   "metadata": {
    "scrolled": true
   },
   "outputs": [],
   "source": [
    "for text_batch, label_batch in train_ds.take(1):\n",
    "    for i in range(3):\n",
    "        print(f'Review: {text_batch.numpy()[i]}')\n",
    "        print(f'Label : {label_batch.numpy()[i]}')"
   ]
  },
  {
   "cell_type": "markdown",
   "metadata": {},
   "source": [
    "## Load BERT Resources"
   ]
  },
  {
   "cell_type": "code",
   "execution_count": null,
   "metadata": {
    "scrolled": true
   },
   "outputs": [],
   "source": [
    "tfhub_handle_encoder = 'https://tfhub.dev/tensorflow/small_bert/bert_en_uncased_L-4_H-512_A-8/1'\n",
    "tfhub_handle_preprocess = 'https://tfhub.dev/tensorflow/bert_en_uncased_preprocess/3'\n",
    "\n",
    "print(f'BERT model           : {tfhub_handle_encoder}')\n",
    "print(f'Preprocess model     : {tfhub_handle_preprocess}')"
   ]
  },
  {
   "cell_type": "markdown",
   "metadata": {},
   "source": [
    "### Pre-Processor"
   ]
  },
  {
   "cell_type": "code",
   "execution_count": null,
   "metadata": {},
   "outputs": [],
   "source": [
    "bert_preprocess_model = hub.KerasLayer(tfhub_handle_preprocess)"
   ]
  },
  {
   "cell_type": "code",
   "execution_count": null,
   "metadata": {
    "scrolled": true
   },
   "outputs": [],
   "source": [
    "text_test = ['this is a positive tweet']\n",
    "text_preprocessed = bert_preprocess_model(text_test)\n",
    "\n",
    "print(f'Keys       : {list(text_preprocessed.keys())}')\n",
    "print(f'Shape      : {text_preprocessed[\"input_word_ids\"].shape}')\n",
    "print(f'Word Ids   : {text_preprocessed[\"input_word_ids\"][0, :12]}')\n",
    "print(f'Input Mask : {text_preprocessed[\"input_mask\"][0, :12]}')\n",
    "print(f'Type Ids   : {text_preprocessed[\"input_type_ids\"][0, :12]}')"
   ]
  },
  {
   "cell_type": "markdown",
   "metadata": {},
   "source": [
    "### Model"
   ]
  },
  {
   "cell_type": "code",
   "execution_count": null,
   "metadata": {},
   "outputs": [],
   "source": [
    "bert_model = hub.KerasLayer(tfhub_handle_encoder)"
   ]
  },
  {
   "cell_type": "code",
   "execution_count": null,
   "metadata": {
    "scrolled": true
   },
   "outputs": [],
   "source": [
    "bert_results = bert_model(text_preprocessed)\n",
    "\n",
    "print(f'Loaded BERT: {tfhub_handle_encoder}')\n",
    "print(f'Pooled Outputs Shape:{bert_results[\"pooled_output\"].shape}')\n",
    "print(f'Pooled Outputs Values:{bert_results[\"pooled_output\"][0, :12]}')\n",
    "print(f'Sequence Outputs Shape:{bert_results[\"sequence_output\"].shape}')\n",
    "print(f'Sequence Outputs Values:{bert_results[\"sequence_output\"][0, :12]}')"
   ]
  },
  {
   "cell_type": "markdown",
   "metadata": {},
   "source": [
    "## Define Model\n",
    "A fine-tuned model for tweet sentiment analysis will be constructed using the input layer, a pre-processing model, the uncased BERT model, one Dense layer, and a Dropout layer.\n"
   ]
  },
  {
   "cell_type": "code",
   "execution_count": null,
   "metadata": {},
   "outputs": [],
   "source": [
    "def build_classifier_model():\n",
    "    text_input = tf.keras.layers.Input(shape=(), dtype=tf.string, name='text')\n",
    "    preprocessing_layer = hub.KerasLayer(tfhub_handle_preprocess, name='preprocessing')\n",
    "    encoder_inputs = preprocessing_layer(text_input)\n",
    "    encoder = hub.KerasLayer(tfhub_handle_encoder, trainable=True, name='BERT_encoder')\n",
    "    outputs = encoder(encoder_inputs)\n",
    "    net = outputs['pooled_output']\n",
    "    net = tf.keras.layers.Dropout(0.1)(net)\n",
    "    net = tf.keras.layers.Dense(1, activation=None, name='classifier')(net)\n",
    "    return tf.keras.Model(text_input, net)"
   ]
  },
  {
   "cell_type": "code",
   "execution_count": null,
   "metadata": {},
   "outputs": [],
   "source": [
    "classifier_model = build_classifier_model()\n",
    "bert_raw_result = classifier_model(tf.constant(text_test))\n",
    "print(tf.sigmoid(bert_raw_result))"
   ]
  },
  {
   "cell_type": "code",
   "execution_count": null,
   "metadata": {},
   "outputs": [],
   "source": [
    "tf.keras.utils.plot_model(classifier_model, RESOURCES_PATH.format('model.png'))"
   ]
  },
  {
   "cell_type": "markdown",
   "metadata": {},
   "source": [
    "## Train Model"
   ]
  },
  {
   "cell_type": "markdown",
   "metadata": {},
   "source": [
    "### Loss Function\n",
    "Tweet sentiment classification between positive and negative is actually a binary classification problem at its core. It outputs a singlue-unit layer in the form of a probability making binary crossentropy the function of choice to measure loss."
   ]
  },
  {
   "cell_type": "code",
   "execution_count": null,
   "metadata": {},
   "outputs": [],
   "source": [
    "loss = tf.keras.losses.BinaryCrossentropy(from_logits=True)\n",
    "metrics = tf.metrics.BinaryAccuracy()"
   ]
  },
  {
   "cell_type": "markdown",
   "metadata": {},
   "source": [
    "### Optimizer\n",
    "Use the same optimizer BERT was trained with the Adam (Adaptive Moments) optimizer."
   ]
  },
  {
   "cell_type": "code",
   "execution_count": null,
   "metadata": {},
   "outputs": [],
   "source": [
    "EPOCHS = 5\n",
    "steps_per_epoch = tf.data.experimental.cardinality(train_ds).numpy()\n",
    "num_train_steps = steps_per_epoch * EPOCHS\n",
    "num_warmup_steps = int(0.1*num_train_steps)\n",
    "\n",
    "init_lr = 3e-5\n",
    "optimizer = optimization.create_optimizer(init_lr=init_lr,\n",
    "                                          num_train_steps=num_train_steps,\n",
    "                                          num_warmup_steps=num_warmup_steps,\n",
    "                                          optimizer_type='adamw')"
   ]
  },
  {
   "cell_type": "markdown",
   "metadata": {},
   "source": [
    "### Compile and Train\n",
    "Now that `loss`, `metrics`, and our `optimizer` are defined we can compile our model and begin training."
   ]
  },
  {
   "cell_type": "code",
   "execution_count": null,
   "metadata": {},
   "outputs": [],
   "source": [
    "classifier_model.compile(optimizer=optimizer,\n",
    "                         loss=loss,\n",
    "                         metrics=metrics)"
   ]
  },
  {
   "cell_type": "code",
   "execution_count": null,
   "metadata": {},
   "outputs": [],
   "source": [
    "print(f'Training model with {tfhub_handle_encoder}')\n",
    "history = classifier_model.fit(x=train_ds,\n",
    "                               validation_data=val_ds,\n",
    "                               epochs=EPOCHS)"
   ]
  },
  {
   "cell_type": "code",
   "execution_count": null,
   "metadata": {},
   "outputs": [],
   "source": []
  }
 ],
 "metadata": {
  "kernelspec": {
   "display_name": "Python 3",
   "language": "python",
   "name": "python3"
  },
  "language_info": {
   "codemirror_mode": {
    "name": "ipython",
    "version": 3
   },
   "file_extension": ".py",
   "mimetype": "text/x-python",
   "name": "python",
   "nbconvert_exporter": "python",
   "pygments_lexer": "ipython3",
   "version": "3.8.8"
  }
 },
 "nbformat": 4,
 "nbformat_minor": 4
}
