{
 "cells": [
  {
   "cell_type": "code",
   "execution_count": 1,
   "metadata": {},
   "outputs": [
    {
     "name": "stdout",
     "output_type": "stream",
     "text": [
      "Wed Mar 10 13:45:41 2021       \n",
      "+-----------------------------------------------------------------------------+\n",
      "| NVIDIA-SMI 461.72       Driver Version: 461.72       CUDA Version: 11.2     |\n",
      "|-------------------------------+----------------------+----------------------+\n",
      "| GPU  Name            TCC/WDDM | Bus-Id        Disp.A | Volatile Uncorr. ECC |\n",
      "| Fan  Temp  Perf  Pwr:Usage/Cap|         Memory-Usage | GPU-Util  Compute M. |\n",
      "|                               |                      |               MIG M. |\n",
      "|===============================+======================+======================|\n",
      "|   0  GeForce GTX 106... WDDM  | 00000000:02:00.0  On |                  N/A |\n",
      "|  0%   41C    P5     8W / 120W |    606MiB /  6144MiB |      1%      Default |\n",
      "|                               |                      |                  N/A |\n",
      "+-------------------------------+----------------------+----------------------+\n",
      "                                                                               \n",
      "+-----------------------------------------------------------------------------+\n",
      "| Processes:                                                                  |\n",
      "|  GPU   GI   CI        PID   Type   Process name                  GPU Memory |\n",
      "|        ID   ID                                                   Usage      |\n",
      "|=============================================================================|\n",
      "|    0   N/A  N/A      1036    C+G   Insufficient Permissions        N/A      |\n",
      "|    0   N/A  N/A      1776    C+G   ...8wekyb3d8bbwe\\GameBar.exe    N/A      |\n",
      "|    0   N/A  N/A      3028    C+G   ...nputApp\\TextInputHost.exe    N/A      |\n",
      "|    0   N/A  N/A      4160    C+G   ...me\\Application\\chrome.exe    N/A      |\n",
      "|    0   N/A  N/A      5896    C+G   C:\\Windows\\explorer.exe         N/A      |\n",
      "|    0   N/A  N/A      6700    C+G   ...perience\\NVIDIA Share.exe    N/A      |\n",
      "|    0   N/A  N/A      6972    C+G   ...5n1h2txyewy\\SearchApp.exe    N/A      |\n",
      "|    0   N/A  N/A      7052    C+G   ...artMenuExperienceHost.exe    N/A      |\n",
      "|    0   N/A  N/A      7572    C+G   ...cw5n1h2txyewy\\LockApp.exe    N/A      |\n",
      "|    0   N/A  N/A      7892    C+G   ...ekyb3d8bbwe\\YourPhone.exe    N/A      |\n",
      "|    0   N/A  N/A      8248    C+G   ...kyb3d8bbwe\\Calculator.exe    N/A      |\n",
      "|    0   N/A  N/A      8796    C+G   ...indows\\System32\\mstsc.exe    N/A      |\n",
      "|    0   N/A  N/A      9500    C+G   ...in7x64\\steamwebhelper.exe    N/A      |\n",
      "|    0   N/A  N/A     10524    C+G   ...lPanel\\SystemSettings.exe    N/A      |\n",
      "+-----------------------------------------------------------------------------+\n"
     ]
    }
   ],
   "source": [
    "!nvidia-smi\n",
    "# https://medium.com/analytics-vidhya/install-tensorflow-gpu-2-4-0-with-cuda-11-0-and-cudnn-8-using-anaconda-8c6472c9653f"
   ]
  },
  {
   "cell_type": "markdown",
   "metadata": {},
   "source": [
    "# Pre-Processing and Training the Model\n",
    "This notebook goes through the steps in turning the cleaned data into a representation that can be used to train a pre-trained BERT model for sentiment analysis.\n",
    "\n",
    "__Columns__\n",
    "- `target` sentiment of tweet (0=positive, 1=negative)\n",
    "- `tweet` cleaned tweet text\n",
    "\n",
    "The processes used in this notebook were inspired by the [this tutorial](https://www.tensorflow.org/tutorials/text/classify_text_with_bert) in the TensorFlow Docs.\n",
    "\n",
    "_Note:_\n",
    "_This notebook expects the zipped datasets to be in the ./resources sub-directory with the names train_twitter_data.zip, test_twitter_data, and validate_twitter_data (e.g., ./resources/train_twitter_data.zip). If the datasets do not exist open and run the `cleaning.ipynb` notebook to generate them._"
   ]
  },
  {
   "cell_type": "code",
   "execution_count": 2,
   "metadata": {
    "scrolled": true
   },
   "outputs": [
    {
     "name": "stdout",
     "output_type": "stream",
     "text": [
      "Requirement already satisfied: tf-nightly in c:\\users\\ryand\\appdata\\roaming\\python\\python38\\site-packages (2.5.0.dev20210310)\n",
      "Requirement already satisfied: wheel~=0.35 in c:\\users\\ryand\\anaconda3\\envs\\tf-nlp\\lib\\site-packages (from tf-nightly) (0.36.2)\n",
      "Requirement already satisfied: h5py~=3.1.0 in c:\\users\\ryand\\appdata\\roaming\\python\\python38\\site-packages (from tf-nightly) (3.1.0)\n",
      "Requirement already satisfied: keras-preprocessing~=1.1.2 in c:\\users\\ryand\\anaconda3\\envs\\tf-nlp\\lib\\site-packages (from tf-nightly) (1.1.2)\n",
      "Requirement already satisfied: astunparse~=1.6.3 in c:\\users\\ryand\\anaconda3\\envs\\tf-nlp\\lib\\site-packages (from tf-nightly) (1.6.3)\n",
      "Requirement already satisfied: absl-py~=0.10 in c:\\users\\ryand\\anaconda3\\envs\\tf-nlp\\lib\\site-packages (from tf-nightly) (0.10.0)\n",
      "Requirement already satisfied: tb-nightly~=2.5.0.a in c:\\users\\ryand\\appdata\\roaming\\python\\python38\\site-packages (from tf-nightly) (2.5.0a20210310)\n",
      "Requirement already satisfied: six~=1.15.0 in c:\\users\\ryand\\anaconda3\\envs\\tf-nlp\\lib\\site-packages (from tf-nightly) (1.15.0)\n",
      "Requirement already satisfied: termcolor~=1.1.0 in c:\\users\\ryand\\anaconda3\\envs\\tf-nlp\\lib\\site-packages (from tf-nightly) (1.1.0)\n",
      "Requirement already satisfied: tf-estimator-nightly~=2.5.0.dev in c:\\users\\ryand\\appdata\\roaming\\python\\python38\\site-packages (from tf-nightly) (2.5.0.dev2021031001)\n",
      "Requirement already satisfied: opt-einsum~=3.3.0 in c:\\users\\ryand\\anaconda3\\envs\\tf-nlp\\lib\\site-packages (from tf-nightly) (3.3.0)\n",
      "Requirement already satisfied: gast==0.4.0 in c:\\users\\ryand\\appdata\\roaming\\python\\python38\\site-packages (from tf-nightly) (0.4.0)\n",
      "Requirement already satisfied: numpy~=1.19.2 in c:\\users\\ryand\\anaconda3\\envs\\tf-nlp\\lib\\site-packages (from tf-nightly) (1.19.5)\n",
      "Requirement already satisfied: typing-extensions~=3.7.4 in c:\\users\\ryand\\anaconda3\\envs\\tf-nlp\\lib\\site-packages (from tf-nightly) (3.7.4.3)\n",
      "Requirement already satisfied: wrapt~=1.12.1 in c:\\users\\ryand\\anaconda3\\envs\\tf-nlp\\lib\\site-packages (from tf-nightly) (1.12.1)\n",
      "Requirement already satisfied: grpcio~=1.34.0 in c:\\users\\ryand\\appdata\\roaming\\python\\python38\\site-packages (from tf-nightly) (1.34.1)\n",
      "Requirement already satisfied: flatbuffers~=1.12.0 in c:\\users\\ryand\\anaconda3\\envs\\tf-nlp\\lib\\site-packages (from tf-nightly) (1.12)\n",
      "Requirement already satisfied: protobuf>=3.9.2 in c:\\users\\ryand\\anaconda3\\envs\\tf-nlp\\lib\\site-packages (from tf-nightly) (3.15.5)\n",
      "Requirement already satisfied: google-pasta~=0.2 in c:\\users\\ryand\\anaconda3\\envs\\tf-nlp\\lib\\site-packages (from tf-nightly) (0.2.0)\n",
      "Requirement already satisfied: werkzeug>=0.11.15 in c:\\users\\ryand\\anaconda3\\envs\\tf-nlp\\lib\\site-packages (from tb-nightly~=2.5.0.a->tf-nightly) (1.0.1)\n",
      "Requirement already satisfied: google-auth<2,>=1.6.3 in c:\\users\\ryand\\anaconda3\\envs\\tf-nlp\\lib\\site-packages (from tb-nightly~=2.5.0.a->tf-nightly) (1.27.1)\n",
      "Requirement already satisfied: google-auth-oauthlib<0.5,>=0.4.1 in c:\\users\\ryand\\anaconda3\\envs\\tf-nlp\\lib\\site-packages (from tb-nightly~=2.5.0.a->tf-nightly) (0.4.3)\n",
      "Requirement already satisfied: setuptools>=41.0.0 in c:\\users\\ryand\\anaconda3\\envs\\tf-nlp\\lib\\site-packages (from tb-nightly~=2.5.0.a->tf-nightly) (52.0.0.post20210125)\n",
      "Requirement already satisfied: tensorboard-data-server<0.4.0,>=0.3.0 in c:\\users\\ryand\\appdata\\roaming\\python\\python38\\site-packages (from tb-nightly~=2.5.0.a->tf-nightly) (0.3.0)\n",
      "Requirement already satisfied: markdown>=2.6.8 in c:\\users\\ryand\\anaconda3\\envs\\tf-nlp\\lib\\site-packages (from tb-nightly~=2.5.0.a->tf-nightly) (3.3.4)\n",
      "Requirement already satisfied: tensorboard-plugin-wit>=1.6.0 in c:\\users\\ryand\\anaconda3\\envs\\tf-nlp\\lib\\site-packages (from tb-nightly~=2.5.0.a->tf-nightly) (1.8.0)\n",
      "Requirement already satisfied: requests<3,>=2.21.0 in c:\\users\\ryand\\anaconda3\\envs\\tf-nlp\\lib\\site-packages (from tb-nightly~=2.5.0.a->tf-nightly) (2.25.1)\n",
      "Requirement already satisfied: rsa<5,>=3.1.4 in c:\\users\\ryand\\anaconda3\\envs\\tf-nlp\\lib\\site-packages (from google-auth<2,>=1.6.3->tb-nightly~=2.5.0.a->tf-nightly) (4.7.2)\n",
      "Requirement already satisfied: pyasn1-modules>=0.2.1 in c:\\users\\ryand\\anaconda3\\envs\\tf-nlp\\lib\\site-packages (from google-auth<2,>=1.6.3->tb-nightly~=2.5.0.a->tf-nightly) (0.2.8)\n",
      "Requirement already satisfied: cachetools<5.0,>=2.0.0 in c:\\users\\ryand\\anaconda3\\envs\\tf-nlp\\lib\\site-packages (from google-auth<2,>=1.6.3->tb-nightly~=2.5.0.a->tf-nightly) (4.2.1)\n",
      "Requirement already satisfied: requests-oauthlib>=0.7.0 in c:\\users\\ryand\\anaconda3\\envs\\tf-nlp\\lib\\site-packages (from google-auth-oauthlib<0.5,>=0.4.1->tb-nightly~=2.5.0.a->tf-nightly) (1.3.0)\n",
      "Requirement already satisfied: pyasn1<0.5.0,>=0.4.6 in c:\\users\\ryand\\anaconda3\\envs\\tf-nlp\\lib\\site-packages (from pyasn1-modules>=0.2.1->google-auth<2,>=1.6.3->tb-nightly~=2.5.0.a->tf-nightly) (0.4.8)\n",
      "Requirement already satisfied: urllib3<1.27,>=1.21.1 in c:\\users\\ryand\\anaconda3\\envs\\tf-nlp\\lib\\site-packages (from requests<3,>=2.21.0->tb-nightly~=2.5.0.a->tf-nightly) (1.26.3)\n",
      "Requirement already satisfied: idna<3,>=2.5 in c:\\users\\ryand\\anaconda3\\envs\\tf-nlp\\lib\\site-packages (from requests<3,>=2.21.0->tb-nightly~=2.5.0.a->tf-nightly) (2.10)\n",
      "Requirement already satisfied: chardet<5,>=3.0.2 in c:\\users\\ryand\\anaconda3\\envs\\tf-nlp\\lib\\site-packages (from requests<3,>=2.21.0->tb-nightly~=2.5.0.a->tf-nightly) (4.0.0)\n",
      "Requirement already satisfied: certifi>=2017.4.17 in c:\\users\\ryand\\anaconda3\\envs\\tf-nlp\\lib\\site-packages (from requests<3,>=2.21.0->tb-nightly~=2.5.0.a->tf-nightly) (2020.12.5)\n",
      "Requirement already satisfied: oauthlib>=3.0.0 in c:\\users\\ryand\\anaconda3\\envs\\tf-nlp\\lib\\site-packages (from requests-oauthlib>=0.7.0->google-auth-oauthlib<0.5,>=0.4.1->tb-nightly~=2.5.0.a->tf-nightly) (3.1.0)\n",
      "Requirement already satisfied: tensorflow-text-nightly in c:\\users\\ryand\\appdata\\roaming\\python\\python38\\site-packages (2.5.0.dev20210305)\n",
      "Requirement already satisfied: tensorflow-hub>=0.8.0 in c:\\users\\ryand\\anaconda3\\envs\\tf-nlp\\lib\\site-packages (from tensorflow-text-nightly) (0.11.0)\n",
      "Requirement already satisfied: numpy>=1.12.0 in c:\\users\\ryand\\anaconda3\\envs\\tf-nlp\\lib\\site-packages (from tensorflow-hub>=0.8.0->tensorflow-text-nightly) (1.19.5)\n",
      "Requirement already satisfied: protobuf>=3.8.0 in c:\\users\\ryand\\anaconda3\\envs\\tf-nlp\\lib\\site-packages (from tensorflow-hub>=0.8.0->tensorflow-text-nightly) (3.15.5)\n",
      "Requirement already satisfied: six>=1.9 in c:\\users\\ryand\\anaconda3\\envs\\tf-nlp\\lib\\site-packages (from protobuf>=3.8.0->tensorflow-hub>=0.8.0->tensorflow-text-nightly) (1.15.0)\n",
      "Requirement already satisfied: tf-models-nightly in c:\\users\\ryand\\appdata\\roaming\\python\\python38\\site-packages (2.4.0.dev20210310)\n",
      "Requirement already satisfied: seqeval in c:\\users\\ryand\\anaconda3\\envs\\tf-nlp\\lib\\site-packages (from tf-models-nightly) (1.2.2)\n",
      "Requirement already satisfied: scipy>=0.19.1 in c:\\users\\ryand\\anaconda3\\envs\\tf-nlp\\lib\\site-packages (from tf-models-nightly) (1.6.1)\n",
      "Requirement already satisfied: oauth2client in c:\\users\\ryand\\anaconda3\\envs\\tf-nlp\\lib\\site-packages (from tf-models-nightly) (4.1.3)\n",
      "Requirement already satisfied: pandas>=0.22.0 in c:\\users\\ryand\\anaconda3\\envs\\tf-nlp\\lib\\site-packages (from tf-models-nightly) (1.2.3)\n",
      "Requirement already satisfied: pyyaml>=5.1 in c:\\users\\ryand\\anaconda3\\envs\\tf-nlp\\lib\\site-packages (from tf-models-nightly) (5.4.1)\n",
      "Requirement already satisfied: tensorflow-datasets in c:\\users\\ryand\\anaconda3\\envs\\tf-nlp\\lib\\site-packages (from tf-models-nightly) (4.2.0)\n",
      "Requirement already satisfied: opencv-python-headless in c:\\users\\ryand\\anaconda3\\envs\\tf-nlp\\lib\\site-packages (from tf-models-nightly) (4.5.1.48)\n",
      "Requirement already satisfied: gin-config in c:\\users\\ryand\\anaconda3\\envs\\tf-nlp\\lib\\site-packages (from tf-models-nightly) (0.4.0)\n",
      "Requirement already satisfied: pycocotools in c:\\users\\ryand\\anaconda3\\envs\\tf-nlp\\lib\\site-packages (from tf-models-nightly) (2.0.2)\n",
      "Requirement already satisfied: tensorflow-addons in c:\\users\\ryand\\anaconda3\\envs\\tf-nlp\\lib\\site-packages (from tf-models-nightly) (0.12.1)\n",
      "Requirement already satisfied: six in c:\\users\\ryand\\anaconda3\\envs\\tf-nlp\\lib\\site-packages (from tf-models-nightly) (1.15.0)\n",
      "Requirement already satisfied: tensorflow-model-optimization>=0.4.1 in c:\\users\\ryand\\anaconda3\\envs\\tf-nlp\\lib\\site-packages (from tf-models-nightly) (0.5.0)\n",
      "Requirement already satisfied: tensorflow-text-nightly in c:\\users\\ryand\\appdata\\roaming\\python\\python38\\site-packages (from tf-models-nightly) (2.5.0.dev20210305)\n",
      "Requirement already satisfied: Pillow in c:\\users\\ryand\\anaconda3\\envs\\tf-nlp\\lib\\site-packages (from tf-models-nightly) (8.1.2)\n",
      "Requirement already satisfied: tf-nightly in c:\\users\\ryand\\appdata\\roaming\\python\\python38\\site-packages (from tf-models-nightly) (2.5.0.dev20210310)\n",
      "Requirement already satisfied: numpy>=1.15.4 in c:\\users\\ryand\\anaconda3\\envs\\tf-nlp\\lib\\site-packages (from tf-models-nightly) (1.19.5)\n",
      "Requirement already satisfied: Cython in c:\\users\\ryand\\anaconda3\\envs\\tf-nlp\\lib\\site-packages (from tf-models-nightly) (0.29.22)\n",
      "Requirement already satisfied: py-cpuinfo>=3.3.0 in c:\\users\\ryand\\anaconda3\\envs\\tf-nlp\\lib\\site-packages (from tf-models-nightly) (7.0.0)\n",
      "Requirement already satisfied: kaggle>=1.3.9 in c:\\users\\ryand\\anaconda3\\envs\\tf-nlp\\lib\\site-packages (from tf-models-nightly) (1.5.10)\n",
      "Requirement already satisfied: google-api-python-client>=1.6.7 in c:\\users\\ryand\\anaconda3\\envs\\tf-nlp\\lib\\site-packages (from tf-models-nightly) (2.0.2)\n",
      "Requirement already satisfied: matplotlib in c:\\users\\ryand\\anaconda3\\envs\\tf-nlp\\lib\\site-packages (from tf-models-nightly) (3.3.4)\n",
      "Requirement already satisfied: sentencepiece in c:\\users\\ryand\\anaconda3\\envs\\tf-nlp\\lib\\site-packages (from tf-models-nightly) (0.1.95)\n",
      "Requirement already satisfied: psutil>=5.4.3 in c:\\users\\ryand\\anaconda3\\envs\\tf-nlp\\lib\\site-packages (from tf-models-nightly) (5.8.0)\n",
      "Requirement already satisfied: google-cloud-bigquery>=0.31.0 in c:\\users\\ryand\\anaconda3\\envs\\tf-nlp\\lib\\site-packages (from tf-models-nightly) (2.11.0)\n",
      "Requirement already satisfied: sacrebleu in c:\\users\\ryand\\appdata\\roaming\\python\\python38\\site-packages (from tf-models-nightly) (1.5.1)\n",
      "Requirement already satisfied: tensorflow-hub>=0.6.0 in c:\\users\\ryand\\anaconda3\\envs\\tf-nlp\\lib\\site-packages (from tf-models-nightly) (0.11.0)\n",
      "Requirement already satisfied: tf-slim>=1.1.0 in c:\\users\\ryand\\anaconda3\\envs\\tf-nlp\\lib\\site-packages (from tf-models-nightly) (1.1.0)\n",
      "Requirement already satisfied: uritemplate<4dev,>=3.0.0 in c:\\users\\ryand\\anaconda3\\envs\\tf-nlp\\lib\\site-packages (from google-api-python-client>=1.6.7->tf-models-nightly) (3.0.1)\n",
      "Requirement already satisfied: google-api-core<2dev,>=1.21.0 in c:\\users\\ryand\\anaconda3\\envs\\tf-nlp\\lib\\site-packages (from google-api-python-client>=1.6.7->tf-models-nightly) (1.26.1)\n",
      "Requirement already satisfied: google-auth<2dev,>=1.16.0 in c:\\users\\ryand\\anaconda3\\envs\\tf-nlp\\lib\\site-packages (from google-api-python-client>=1.6.7->tf-models-nightly) (1.27.1)\n",
      "Requirement already satisfied: google-auth-httplib2>=0.0.3 in c:\\users\\ryand\\anaconda3\\envs\\tf-nlp\\lib\\site-packages (from google-api-python-client>=1.6.7->tf-models-nightly) (0.1.0)\n",
      "Requirement already satisfied: httplib2<1dev,>=0.15.0 in c:\\users\\ryand\\anaconda3\\envs\\tf-nlp\\lib\\site-packages (from google-api-python-client>=1.6.7->tf-models-nightly) (0.19.0)\n",
      "Requirement already satisfied: protobuf>=3.12.0 in c:\\users\\ryand\\anaconda3\\envs\\tf-nlp\\lib\\site-packages (from google-api-core<2dev,>=1.21.0->google-api-python-client>=1.6.7->tf-models-nightly) (3.15.5)\n",
      "Requirement already satisfied: requests<3.0.0dev,>=2.18.0 in c:\\users\\ryand\\anaconda3\\envs\\tf-nlp\\lib\\site-packages (from google-api-core<2dev,>=1.21.0->google-api-python-client>=1.6.7->tf-models-nightly) (2.25.1)\n",
      "Requirement already satisfied: pytz in c:\\users\\ryand\\anaconda3\\envs\\tf-nlp\\lib\\site-packages (from google-api-core<2dev,>=1.21.0->google-api-python-client>=1.6.7->tf-models-nightly) (2021.1)\n",
      "Requirement already satisfied: googleapis-common-protos<2.0dev,>=1.6.0 in c:\\users\\ryand\\anaconda3\\envs\\tf-nlp\\lib\\site-packages (from google-api-core<2dev,>=1.21.0->google-api-python-client>=1.6.7->tf-models-nightly) (1.53.0)\n",
      "Requirement already satisfied: setuptools>=40.3.0 in c:\\users\\ryand\\anaconda3\\envs\\tf-nlp\\lib\\site-packages (from google-api-core<2dev,>=1.21.0->google-api-python-client>=1.6.7->tf-models-nightly) (52.0.0.post20210125)\n",
      "Requirement already satisfied: packaging>=14.3 in c:\\users\\ryand\\anaconda3\\envs\\tf-nlp\\lib\\site-packages (from google-api-core<2dev,>=1.21.0->google-api-python-client>=1.6.7->tf-models-nightly) (20.9)\n",
      "Requirement already satisfied: cachetools<5.0,>=2.0.0 in c:\\users\\ryand\\anaconda3\\envs\\tf-nlp\\lib\\site-packages (from google-auth<2dev,>=1.16.0->google-api-python-client>=1.6.7->tf-models-nightly) (4.2.1)\n",
      "Requirement already satisfied: rsa<5,>=3.1.4 in c:\\users\\ryand\\anaconda3\\envs\\tf-nlp\\lib\\site-packages (from google-auth<2dev,>=1.16.0->google-api-python-client>=1.6.7->tf-models-nightly) (4.7.2)\n",
      "Requirement already satisfied: pyasn1-modules>=0.2.1 in c:\\users\\ryand\\anaconda3\\envs\\tf-nlp\\lib\\site-packages (from google-auth<2dev,>=1.16.0->google-api-python-client>=1.6.7->tf-models-nightly) (0.2.8)\n",
      "Requirement already satisfied: google-cloud-core<2.0dev,>=1.4.1 in c:\\users\\ryand\\anaconda3\\envs\\tf-nlp\\lib\\site-packages (from google-cloud-bigquery>=0.31.0->tf-models-nightly) (1.6.0)\n",
      "Requirement already satisfied: google-resumable-media<2.0dev,>=0.6.0 in c:\\users\\ryand\\anaconda3\\envs\\tf-nlp\\lib\\site-packages (from google-cloud-bigquery>=0.31.0->tf-models-nightly) (1.2.0)\n",
      "Requirement already satisfied: proto-plus>=1.10.0 in c:\\users\\ryand\\anaconda3\\envs\\tf-nlp\\lib\\site-packages (from google-cloud-bigquery>=0.31.0->tf-models-nightly) (1.14.2)\n",
      "Requirement already satisfied: grpcio<2.0dev,>=1.29.0 in c:\\users\\ryand\\appdata\\roaming\\python\\python38\\site-packages (from google-api-core<2dev,>=1.21.0->google-api-python-client>=1.6.7->tf-models-nightly) (1.34.1)\n",
      "Requirement already satisfied: google-crc32c<2.0dev,>=1.0 in c:\\users\\ryand\\anaconda3\\envs\\tf-nlp\\lib\\site-packages (from google-resumable-media<2.0dev,>=0.6.0->google-cloud-bigquery>=0.31.0->tf-models-nightly) (1.1.2)\n",
      "Requirement already satisfied: cffi>=1.0.0 in c:\\users\\ryand\\anaconda3\\envs\\tf-nlp\\lib\\site-packages (from google-crc32c<2.0dev,>=1.0->google-resumable-media<2.0dev,>=0.6.0->google-cloud-bigquery>=0.31.0->tf-models-nightly) (1.14.5)\n",
      "Requirement already satisfied: pycparser in c:\\users\\ryand\\anaconda3\\envs\\tf-nlp\\lib\\site-packages (from cffi>=1.0.0->google-crc32c<2.0dev,>=1.0->google-resumable-media<2.0dev,>=0.6.0->google-cloud-bigquery>=0.31.0->tf-models-nightly) (2.20)\n",
      "Requirement already satisfied: pyparsing<3,>=2.4.2 in c:\\users\\ryand\\anaconda3\\envs\\tf-nlp\\lib\\site-packages (from httplib2<1dev,>=0.15.0->google-api-python-client>=1.6.7->tf-models-nightly) (2.4.7)\n",
      "Requirement already satisfied: python-slugify in c:\\users\\ryand\\anaconda3\\envs\\tf-nlp\\lib\\site-packages (from kaggle>=1.3.9->tf-models-nightly) (4.0.1)\n",
      "Requirement already satisfied: tqdm in c:\\users\\ryand\\anaconda3\\envs\\tf-nlp\\lib\\site-packages (from kaggle>=1.3.9->tf-models-nightly) (4.59.0)\n",
      "Requirement already satisfied: urllib3 in c:\\users\\ryand\\anaconda3\\envs\\tf-nlp\\lib\\site-packages (from kaggle>=1.3.9->tf-models-nightly) (1.26.3)\n",
      "Requirement already satisfied: python-dateutil in c:\\users\\ryand\\anaconda3\\envs\\tf-nlp\\lib\\site-packages (from kaggle>=1.3.9->tf-models-nightly) (2.8.1)\n",
      "Requirement already satisfied: certifi in c:\\users\\ryand\\anaconda3\\envs\\tf-nlp\\lib\\site-packages (from kaggle>=1.3.9->tf-models-nightly) (2020.12.5)\n",
      "Requirement already satisfied: pyasn1<0.5.0,>=0.4.6 in c:\\users\\ryand\\anaconda3\\envs\\tf-nlp\\lib\\site-packages (from pyasn1-modules>=0.2.1->google-auth<2dev,>=1.16.0->google-api-python-client>=1.6.7->tf-models-nightly) (0.4.8)\n",
      "Requirement already satisfied: idna<3,>=2.5 in c:\\users\\ryand\\anaconda3\\envs\\tf-nlp\\lib\\site-packages (from requests<3.0.0dev,>=2.18.0->google-api-core<2dev,>=1.21.0->google-api-python-client>=1.6.7->tf-models-nightly) (2.10)\n",
      "Requirement already satisfied: chardet<5,>=3.0.2 in c:\\users\\ryand\\anaconda3\\envs\\tf-nlp\\lib\\site-packages (from requests<3.0.0dev,>=2.18.0->google-api-core<2dev,>=1.21.0->google-api-python-client>=1.6.7->tf-models-nightly) (4.0.0)\n",
      "Requirement already satisfied: dm-tree~=0.1.1 in c:\\users\\ryand\\anaconda3\\envs\\tf-nlp\\lib\\site-packages (from tensorflow-model-optimization>=0.4.1->tf-models-nightly) (0.1.5)\n",
      "Requirement already satisfied: absl-py>=0.2.2 in c:\\users\\ryand\\anaconda3\\envs\\tf-nlp\\lib\\site-packages (from tf-slim>=1.1.0->tf-models-nightly) (0.10.0)\n",
      "Requirement already satisfied: kiwisolver>=1.0.1 in c:\\users\\ryand\\anaconda3\\envs\\tf-nlp\\lib\\site-packages (from matplotlib->tf-models-nightly) (1.3.1)\n",
      "Requirement already satisfied: cycler>=0.10 in c:\\users\\ryand\\anaconda3\\envs\\tf-nlp\\lib\\site-packages (from matplotlib->tf-models-nightly) (0.10.0)\n",
      "Requirement already satisfied: text-unidecode>=1.3 in c:\\users\\ryand\\anaconda3\\envs\\tf-nlp\\lib\\site-packages (from python-slugify->kaggle>=1.3.9->tf-models-nightly) (1.3)\n",
      "Requirement already satisfied: portalocker==2.0.0 in c:\\users\\ryand\\appdata\\roaming\\python\\python38\\site-packages (from sacrebleu->tf-models-nightly) (2.0.0)\n",
      "Requirement already satisfied: pywin32!=226 in c:\\users\\ryand\\anaconda3\\envs\\tf-nlp\\lib\\site-packages (from portalocker==2.0.0->sacrebleu->tf-models-nightly) (227)\n",
      "Requirement already satisfied: scikit-learn>=0.21.3 in c:\\users\\ryand\\anaconda3\\envs\\tf-nlp\\lib\\site-packages (from seqeval->tf-models-nightly) (0.24.1)\n",
      "Requirement already satisfied: joblib>=0.11 in c:\\users\\ryand\\anaconda3\\envs\\tf-nlp\\lib\\site-packages (from scikit-learn>=0.21.3->seqeval->tf-models-nightly) (1.0.1)\n",
      "Requirement already satisfied: threadpoolctl>=2.0.0 in c:\\users\\ryand\\anaconda3\\envs\\tf-nlp\\lib\\site-packages (from scikit-learn>=0.21.3->seqeval->tf-models-nightly) (2.1.0)\n",
      "Requirement already satisfied: typeguard>=2.7 in c:\\users\\ryand\\anaconda3\\envs\\tf-nlp\\lib\\site-packages (from tensorflow-addons->tf-models-nightly) (2.11.1)\n",
      "Requirement already satisfied: future in c:\\users\\ryand\\anaconda3\\envs\\tf-nlp\\lib\\site-packages (from tensorflow-datasets->tf-models-nightly) (0.18.2)\n",
      "Requirement already satisfied: dill in c:\\users\\ryand\\anaconda3\\envs\\tf-nlp\\lib\\site-packages (from tensorflow-datasets->tf-models-nightly) (0.3.3)\n",
      "Requirement already satisfied: attrs>=18.1.0 in c:\\users\\ryand\\anaconda3\\envs\\tf-nlp\\lib\\site-packages (from tensorflow-datasets->tf-models-nightly) (20.3.0)\n",
      "Requirement already satisfied: termcolor in c:\\users\\ryand\\anaconda3\\envs\\tf-nlp\\lib\\site-packages (from tensorflow-datasets->tf-models-nightly) (1.1.0)\n",
      "Requirement already satisfied: promise in c:\\users\\ryand\\anaconda3\\envs\\tf-nlp\\lib\\site-packages (from tensorflow-datasets->tf-models-nightly) (2.3)\n",
      "Requirement already satisfied: tensorflow-metadata in c:\\users\\ryand\\anaconda3\\envs\\tf-nlp\\lib\\site-packages (from tensorflow-datasets->tf-models-nightly) (0.28.0)\n",
      "Requirement already satisfied: importlib-resources in c:\\users\\ryand\\anaconda3\\envs\\tf-nlp\\lib\\site-packages (from tensorflow-datasets->tf-models-nightly) (5.1.2)\n",
      "Requirement already satisfied: wrapt~=1.12.1 in c:\\users\\ryand\\anaconda3\\envs\\tf-nlp\\lib\\site-packages (from tf-nightly->tf-models-nightly) (1.12.1)\n",
      "Requirement already satisfied: gast==0.4.0 in c:\\users\\ryand\\appdata\\roaming\\python\\python38\\site-packages (from tf-nightly->tf-models-nightly) (0.4.0)\n",
      "Requirement already satisfied: wheel~=0.35 in c:\\users\\ryand\\anaconda3\\envs\\tf-nlp\\lib\\site-packages (from tf-nightly->tf-models-nightly) (0.36.2)\n",
      "Requirement already satisfied: keras-preprocessing~=1.1.2 in c:\\users\\ryand\\anaconda3\\envs\\tf-nlp\\lib\\site-packages (from tf-nightly->tf-models-nightly) (1.1.2)\n",
      "Requirement already satisfied: google-pasta~=0.2 in c:\\users\\ryand\\anaconda3\\envs\\tf-nlp\\lib\\site-packages (from tf-nightly->tf-models-nightly) (0.2.0)\n",
      "Requirement already satisfied: flatbuffers~=1.12.0 in c:\\users\\ryand\\anaconda3\\envs\\tf-nlp\\lib\\site-packages (from tf-nightly->tf-models-nightly) (1.12)\n",
      "Requirement already satisfied: astunparse~=1.6.3 in c:\\users\\ryand\\anaconda3\\envs\\tf-nlp\\lib\\site-packages (from tf-nightly->tf-models-nightly) (1.6.3)\n",
      "Requirement already satisfied: opt-einsum~=3.3.0 in c:\\users\\ryand\\anaconda3\\envs\\tf-nlp\\lib\\site-packages (from tf-nightly->tf-models-nightly) (3.3.0)\n",
      "Requirement already satisfied: typing-extensions~=3.7.4 in c:\\users\\ryand\\anaconda3\\envs\\tf-nlp\\lib\\site-packages (from tf-nightly->tf-models-nightly) (3.7.4.3)\n",
      "Requirement already satisfied: tb-nightly~=2.5.0.a in c:\\users\\ryand\\appdata\\roaming\\python\\python38\\site-packages (from tf-nightly->tf-models-nightly) (2.5.0a20210310)\n",
      "Requirement already satisfied: h5py~=3.1.0 in c:\\users\\ryand\\appdata\\roaming\\python\\python38\\site-packages (from tf-nightly->tf-models-nightly) (3.1.0)\n",
      "Requirement already satisfied: tf-estimator-nightly~=2.5.0.dev in c:\\users\\ryand\\appdata\\roaming\\python\\python38\\site-packages (from tf-nightly->tf-models-nightly) (2.5.0.dev2021031001)\n",
      "Requirement already satisfied: tensorboard-plugin-wit>=1.6.0 in c:\\users\\ryand\\anaconda3\\envs\\tf-nlp\\lib\\site-packages (from tb-nightly~=2.5.0.a->tf-nightly->tf-models-nightly) (1.8.0)\n",
      "Requirement already satisfied: google-auth-oauthlib<0.5,>=0.4.1 in c:\\users\\ryand\\anaconda3\\envs\\tf-nlp\\lib\\site-packages (from tb-nightly~=2.5.0.a->tf-nightly->tf-models-nightly) (0.4.3)\n",
      "Requirement already satisfied: werkzeug>=0.11.15 in c:\\users\\ryand\\anaconda3\\envs\\tf-nlp\\lib\\site-packages (from tb-nightly~=2.5.0.a->tf-nightly->tf-models-nightly) (1.0.1)\n",
      "Requirement already satisfied: markdown>=2.6.8 in c:\\users\\ryand\\anaconda3\\envs\\tf-nlp\\lib\\site-packages (from tb-nightly~=2.5.0.a->tf-nightly->tf-models-nightly) (3.3.4)\n",
      "Requirement already satisfied: tensorboard-data-server<0.4.0,>=0.3.0 in c:\\users\\ryand\\appdata\\roaming\\python\\python38\\site-packages (from tb-nightly~=2.5.0.a->tf-nightly->tf-models-nightly) (0.3.0)\n",
      "Requirement already satisfied: requests-oauthlib>=0.7.0 in c:\\users\\ryand\\anaconda3\\envs\\tf-nlp\\lib\\site-packages (from google-auth-oauthlib<0.5,>=0.4.1->tb-nightly~=2.5.0.a->tf-nightly->tf-models-nightly) (1.3.0)\n",
      "Requirement already satisfied: oauthlib>=3.0.0 in c:\\users\\ryand\\anaconda3\\envs\\tf-nlp\\lib\\site-packages (from requests-oauthlib>=0.7.0->google-auth-oauthlib<0.5,>=0.4.1->tb-nightly~=2.5.0.a->tf-nightly->tf-models-nightly) (3.1.0)\n"
     ]
    },
    {
     "name": "stdout",
     "output_type": "stream",
     "text": [
      "Requirement already satisfied: pydot in c:\\users\\ryand\\anaconda3\\envs\\tf-nlp\\lib\\site-packages (1.4.2)\n",
      "Requirement already satisfied: pyparsing>=2.1.4 in c:\\users\\ryand\\anaconda3\\envs\\tf-nlp\\lib\\site-packages (from pydot) (2.4.7)\n"
     ]
    }
   ],
   "source": [
    "import sys \n",
    "!{sys.executable} -m pip install tf-nightly --user\n",
    "!{sys.executable} -m pip install tensorflow-text-nightly --user\n",
    "!{sys.executable} -m pip install tf-models-nightly --user\n",
    "!{sys.executable} -m pip install pydot"
   ]
  },
  {
   "cell_type": "code",
   "execution_count": 3,
   "metadata": {},
   "outputs": [
    {
     "name": "stderr",
     "output_type": "stream",
     "text": [
      "C:\\Users\\ryand\\anaconda3\\envs\\tf-nlp\\lib\\site-packages\\tensorflow_addons\\utils\\ensure_tf_install.py:37: UserWarning: You are currently using a nightly version of TensorFlow (2.5.0-dev20210310). \n",
      "TensorFlow Addons offers no support for the nightly versions of TensorFlow. Some things might work, some other might not. \n",
      "If you encounter a bug, do not file an issue on GitHub.\n",
      "  warnings.warn(\n"
     ]
    }
   ],
   "source": [
    "import os\n",
    "import shutil\n",
    "\n",
    "import pandas as pd\n",
    "import matplotlib.pyplot as plt\n",
    "import tensorflow as tf\n",
    "import tensorflow_hub as hub\n",
    "import tensorflow_text as text\n",
    "\n",
    "from official.nlp import optimization\n",
    "\n",
    "tf.get_logger().setLevel('ERROR')"
   ]
  },
  {
   "cell_type": "code",
   "execution_count": 4,
   "metadata": {},
   "outputs": [
    {
     "data": {
      "text/plain": [
       "[PhysicalDevice(name='/physical_device:CPU:0', device_type='CPU'),\n",
       " PhysicalDevice(name='/physical_device:GPU:0', device_type='GPU')]"
      ]
     },
     "execution_count": 4,
     "metadata": {},
     "output_type": "execute_result"
    }
   ],
   "source": [
    "# tf.config.set_visible_devices([], 'GPU')\n",
    "tf.config.list_physical_devices()"
   ]
  },
  {
   "cell_type": "markdown",
   "metadata": {},
   "source": [
    "## Read Files\n",
    "Read the files into memory and convert them to TensorFlow datasets to begin pre-processing."
   ]
  },
  {
   "cell_type": "code",
   "execution_count": 5,
   "metadata": {},
   "outputs": [],
   "source": [
    "RESOURCES_PATH = './resources/{}'\n",
    "BATCH_SIZE=32\n",
    "\n",
    "def twitter_data_to_dataset(filename):\n",
    "    pd_df = pd.read_csv(RESOURCES_PATH.format(filename), encoding = 'ISO-8859-1', compression='zip')\n",
    "    tweets =  tf.constant(pd_df['tweet'].to_numpy(dtype='U'), dtype=tf.string)\n",
    "    targets = tf.constant(pd_df['target'].to_numpy(dtype='i4'), dtype=tf.int32)\n",
    "    raw_ds = tf.data.Dataset.from_tensor_slices((tweets, targets))\n",
    "    return raw_ds.batch(BATCH_SIZE, drop_remainder=False).cache().prefetch(buffer_size=tf.data.AUTOTUNE)\n",
    "\n",
    "train_ds = twitter_data_to_dataset('train_twitter_data.zip')\n",
    "test_ds = twitter_data_to_dataset('test_twitter_data.zip')\n",
    "val_ds = twitter_data_to_dataset('validate_twitter_data.zip')"
   ]
  },
  {
   "cell_type": "code",
   "execution_count": 6,
   "metadata": {
    "scrolled": true
   },
   "outputs": [
    {
     "name": "stdout",
     "output_type": "stream",
     "text": [
      "Review: b'how long you been on here is not too shabby youll get more'\n",
      "Label : 1\n"
     ]
    }
   ],
   "source": [
    "for text_batch, label_batch in train_ds.take(1):\n",
    "    for i in range(3):\n",
    "        print(f'Review: {text_batch.numpy()[i]}')\n",
    "        print(f'Label : {label_batch.numpy()[i]}')"
   ]
  },
  {
   "cell_type": "markdown",
   "metadata": {},
   "source": [
    "## Load BERT Resources"
   ]
  },
  {
   "cell_type": "code",
   "execution_count": 7,
   "metadata": {
    "scrolled": true
   },
   "outputs": [
    {
     "name": "stdout",
     "output_type": "stream",
     "text": [
      "BERT model           : https://tfhub.dev/tensorflow/small_bert/bert_en_uncased_L-4_H-512_A-8/1\n",
      "Preprocess model     : https://tfhub.dev/tensorflow/bert_en_uncased_preprocess/3\n"
     ]
    }
   ],
   "source": [
    "tfhub_handle_encoder = 'https://tfhub.dev/tensorflow/small_bert/bert_en_uncased_L-4_H-512_A-8/1'\n",
    "tfhub_handle_preprocess = 'https://tfhub.dev/tensorflow/bert_en_uncased_preprocess/3'\n",
    "\n",
    "print(f'BERT model           : {tfhub_handle_encoder}')\n",
    "print(f'Preprocess model     : {tfhub_handle_preprocess}')"
   ]
  },
  {
   "cell_type": "markdown",
   "metadata": {},
   "source": [
    "### Pre-Processor"
   ]
  },
  {
   "cell_type": "code",
   "execution_count": 8,
   "metadata": {},
   "outputs": [],
   "source": [
    "bert_preprocess_model = hub.KerasLayer(tfhub_handle_preprocess)"
   ]
  },
  {
   "cell_type": "code",
   "execution_count": null,
   "metadata": {
    "scrolled": true
   },
   "outputs": [],
   "source": [
    "text_test = ['this is a positive tweet']\n",
    "text_preprocessed = bert_preprocess_model(text_test)\n",
    "\n",
    "print(f'Keys       : {list(text_preprocessed.keys())}')\n",
    "print(f'Shape      : {text_preprocessed[\"input_word_ids\"].shape}')\n",
    "print(f'Word Ids   : {text_preprocessed[\"input_word_ids\"][0, :12]}')\n",
    "print(f'Input Mask : {text_preprocessed[\"input_mask\"][0, :12]}')\n",
    "print(f'Type Ids   : {text_preprocessed[\"input_type_ids\"][0, :12]}')"
   ]
  },
  {
   "cell_type": "markdown",
   "metadata": {},
   "source": [
    "### Model"
   ]
  },
  {
   "cell_type": "code",
   "execution_count": null,
   "metadata": {},
   "outputs": [],
   "source": [
    "bert_model = hub.KerasLayer(tfhub_handle_encoder)"
   ]
  },
  {
   "cell_type": "code",
   "execution_count": null,
   "metadata": {
    "scrolled": true
   },
   "outputs": [],
   "source": [
    "bert_results = bert_model(text_preprocessed)\n",
    "\n",
    "print(f'Loaded BERT: {tfhub_handle_encoder}')\n",
    "print(f'Pooled Outputs Shape:{bert_results[\"pooled_output\"].shape}')\n",
    "print(f'Pooled Outputs Values:{bert_results[\"pooled_output\"][0, :12]}')\n",
    "print(f'Sequence Outputs Shape:{bert_results[\"sequence_output\"].shape}')\n",
    "print(f'Sequence Outputs Values:{bert_results[\"sequence_output\"][0, :12]}')"
   ]
  },
  {
   "cell_type": "markdown",
   "metadata": {},
   "source": [
    "## Define Model\n",
    "A fine-tuned model for tweet sentiment analysis will be constructed using the input layer, a pre-processing model, the uncased BERT model, one Dense layer, and a Dropout layer.\n"
   ]
  },
  {
   "cell_type": "code",
   "execution_count": null,
   "metadata": {},
   "outputs": [],
   "source": [
    "def build_classifier_model():\n",
    "    text_input = tf.keras.layers.Input(shape=(), dtype=tf.string, name='text')\n",
    "    preprocessing_layer = hub.KerasLayer(tfhub_handle_preprocess, name='preprocessing')\n",
    "    encoder_inputs = preprocessing_layer(text_input)\n",
    "    encoder = hub.KerasLayer(tfhub_handle_encoder, trainable=True, name='BERT_encoder')\n",
    "    outputs = encoder(encoder_inputs)\n",
    "    net = outputs['pooled_output']\n",
    "    net = tf.keras.layers.Dropout(0.1)(net)\n",
    "    net = tf.keras.layers.Dense(1, activation=None, name='classifier')(net)\n",
    "    return tf.keras.Model(text_input, net)"
   ]
  },
  {
   "cell_type": "code",
   "execution_count": null,
   "metadata": {},
   "outputs": [],
   "source": [
    "classifier_model = build_classifier_model()\n",
    "bert_raw_result = classifier_model(tf.constant(text_test))\n",
    "print(tf.sigmoid(bert_raw_result))"
   ]
  },
  {
   "cell_type": "code",
   "execution_count": null,
   "metadata": {},
   "outputs": [],
   "source": [
    "tf.keras.utils.plot_model(classifier_model, RESOURCES_PATH.format('model.png'))"
   ]
  },
  {
   "cell_type": "markdown",
   "metadata": {},
   "source": [
    "## Train Model"
   ]
  },
  {
   "cell_type": "markdown",
   "metadata": {},
   "source": [
    "### Loss Function\n",
    "Tweet sentiment classification between positive and negative is actually a binary classification problem at its core. It outputs a singlue-unit layer in the form of a probability making binary crossentropy the function of choice to measure loss."
   ]
  },
  {
   "cell_type": "code",
   "execution_count": null,
   "metadata": {},
   "outputs": [],
   "source": [
    "loss = tf.keras.losses.BinaryCrossentropy(from_logits=True)\n",
    "metrics = tf.metrics.BinaryAccuracy()"
   ]
  },
  {
   "cell_type": "markdown",
   "metadata": {},
   "source": [
    "### Optimizer\n",
    "Use the same optimizer BERT was trained with the Adam (Adaptive Moments) optimizer."
   ]
  },
  {
   "cell_type": "code",
   "execution_count": null,
   "metadata": {},
   "outputs": [],
   "source": [
    "EPOCHS = 5\n",
    "steps_per_epoch = tf.data.experimental.cardinality(train_ds).numpy()\n",
    "num_train_steps = steps_per_epoch * EPOCHS\n",
    "num_warmup_steps = int(0.1*num_train_steps)\n",
    "\n",
    "init_lr = 3e-5\n",
    "optimizer = optimization.create_optimizer(init_lr=init_lr,\n",
    "                                          num_train_steps=num_train_steps,\n",
    "                                          num_warmup_steps=num_warmup_steps,\n",
    "                                          optimizer_type='adamw')"
   ]
  },
  {
   "cell_type": "markdown",
   "metadata": {},
   "source": [
    "### Compile and Train\n",
    "Now that `loss`, `metrics`, and our `optimizer` are defined we can compile our model and begin training."
   ]
  },
  {
   "cell_type": "code",
   "execution_count": null,
   "metadata": {},
   "outputs": [],
   "source": [
    "classifier_model.compile(optimizer=optimizer,\n",
    "                         loss=loss,\n",
    "                         metrics=metrics)"
   ]
  },
  {
   "cell_type": "code",
   "execution_count": null,
   "metadata": {},
   "outputs": [],
   "source": [
    "print(f'Training model with {tfhub_handle_encoder}')\n",
    "history = classifier_model.fit(x=train_ds,\n",
    "                               validation_data=val_ds,\n",
    "                               epochs=EPOCHS)"
   ]
  },
  {
   "cell_type": "code",
   "execution_count": null,
   "metadata": {},
   "outputs": [],
   "source": []
  }
 ],
 "metadata": {
  "kernelspec": {
   "display_name": "Python 3",
   "language": "python",
   "name": "python3"
  },
  "language_info": {
   "codemirror_mode": {
    "name": "ipython",
    "version": 3
   },
   "file_extension": ".py",
   "mimetype": "text/x-python",
   "name": "python",
   "nbconvert_exporter": "python",
   "pygments_lexer": "ipython3",
   "version": "3.8.5"
  }
 },
 "nbformat": 4,
 "nbformat_minor": 4
}
