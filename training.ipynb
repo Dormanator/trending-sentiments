{
 "cells": [
  {
   "cell_type": "code",
   "execution_count": 1,
   "metadata": {},
   "outputs": [
    {
     "name": "stdout",
     "output_type": "stream",
     "text": [
      "Tue Mar 09 17:07:22 2021       \n",
      "+-----------------------------------------------------------------------------+\n",
      "| NVIDIA-SMI 456.71       Driver Version: 456.71       CUDA Version: 11.1     |\n",
      "|-------------------------------+----------------------+----------------------+\n",
      "| GPU  Name            TCC/WDDM | Bus-Id        Disp.A | Volatile Uncorr. ECC |\n",
      "| Fan  Temp  Perf  Pwr:Usage/Cap|         Memory-Usage | GPU-Util  Compute M. |\n",
      "|===============================+======================+======================|\n",
      "|   0  GeForce GTX 106... WDDM  | 00000000:02:00.0  On |                  N/A |\n",
      "|  0%   37C    P8     7W / 120W |    584MiB /  6144MiB |      0%      Default |\n",
      "+-------------------------------+----------------------+----------------------+\n",
      "                                                                               \n",
      "+-----------------------------------------------------------------------------+\n",
      "| Processes:                                                                  |\n",
      "|  GPU   GI   CI        PID   Type   Process name                  GPU Memory |\n",
      "|        ID   ID                                                   Usage      |\n",
      "|=============================================================================|\n",
      "|    0   N/A  N/A       476    C+G   Insufficient Permissions        N/A      |\n",
      "|    0   N/A  N/A      3572    C+G   C:\\Windows\\explorer.exe         N/A      |\n",
      "|    0   N/A  N/A      3876    C+G   ...y\\ShellExperienceHost.exe    N/A      |\n",
      "|    0   N/A  N/A      4368    C+G   ...indows\\System32\\mstsc.exe    N/A      |\n",
      "|    0   N/A  N/A      4484    C+G   ...b3d8bbwe\\WinStore.App.exe    N/A      |\n",
      "|    0   N/A  N/A      5196    C+G   ...artMenuExperienceHost.exe    N/A      |\n",
      "|    0   N/A  N/A      5464    C+G   ...5n1h2txyewy\\SearchApp.exe    N/A      |\n",
      "|    0   N/A  N/A      6044    C+G   ...ekyb3d8bbwe\\YourPhone.exe    N/A      |\n",
      "|    0   N/A  N/A      6848    C+G   ...nputApp\\TextInputHost.exe    N/A      |\n",
      "|    0   N/A  N/A      7376    C+G   ...cw5n1h2txyewy\\LockApp.exe    N/A      |\n",
      "|    0   N/A  N/A      7612    C+G   ...in7x64\\steamwebhelper.exe    N/A      |\n",
      "|    0   N/A  N/A      8368    C+G   ...lPanel\\SystemSettings.exe    N/A      |\n",
      "|    0   N/A  N/A      9460    C+G   ...8wekyb3d8bbwe\\GameBar.exe    N/A      |\n",
      "|    0   N/A  N/A      9588    C+G   ...kyb3d8bbwe\\Calculator.exe    N/A      |\n",
      "|    0   N/A  N/A     12248    C+G   ...me\\Application\\chrome.exe    N/A      |\n",
      "+-----------------------------------------------------------------------------+\n"
     ]
    }
   ],
   "source": [
    "!nvidia-smi"
   ]
  },
  {
   "cell_type": "markdown",
   "metadata": {},
   "source": [
    "# Pre-Processing and Training the Model\n",
    "This notebook goes through the steps in turning the cleaned data into a representation that can be used to train a pre-trained BERT model for sentiment analysis.\n",
    "\n",
    "__Columns__\n",
    "- `target` sentiment of tweet (0=positive, 1=negative)\n",
    "- `tweet` cleaned tweet text\n",
    "\n",
    "_Note_\n",
    "_This notebook expects the zipped datasets to be in the ./resources sub-directory with the names train_twitter_data.zip, test_twitter_data, and validate_twitter_data (e.g., ./resources/train_twitter_data.zip). If the datasets do not exist open and run the `cleaning.ipynb` notebook to generate them._"
   ]
  },
  {
   "cell_type": "code",
   "execution_count": 2,
   "metadata": {},
   "outputs": [
    {
     "name": "stdout",
     "output_type": "stream",
     "text": [
      "Requirement already satisfied: tf-nightly in c:\\users\\ryand\\appdata\\roaming\\python\\python38\\site-packages (2.5.0.dev20210309)\n",
      "Requirement already satisfied: h5py~=3.1.0 in c:\\users\\ryand\\appdata\\roaming\\python\\python38\\site-packages (from tf-nightly) (3.1.0)\n",
      "Requirement already satisfied: termcolor~=1.1.0 in c:\\developer\\lib\\anaconda3\\lib\\site-packages (from tf-nightly) (1.1.0)\n",
      "Requirement already satisfied: wheel~=0.35 in c:\\developer\\lib\\anaconda3\\lib\\site-packages (from tf-nightly) (0.35.1)\n",
      "Requirement already satisfied: numpy~=1.19.2 in c:\\developer\\lib\\anaconda3\\lib\\site-packages (from tf-nightly) (1.19.2)\n",
      "Requirement already satisfied: protobuf>=3.9.2 in c:\\developer\\lib\\anaconda3\\lib\\site-packages (from tf-nightly) (3.15.5)\n",
      "Requirement already satisfied: tf-estimator-nightly~=2.5.0.dev in c:\\developer\\lib\\anaconda3\\lib\\site-packages (from tf-nightly) (2.5.0.dev2021030901)\n",
      "Requirement already satisfied: google-pasta~=0.2 in c:\\developer\\lib\\anaconda3\\lib\\site-packages (from tf-nightly) (0.2.0)\n",
      "Requirement already satisfied: six~=1.15.0 in c:\\developer\\lib\\anaconda3\\lib\\site-packages (from tf-nightly) (1.15.0)\n",
      "Requirement already satisfied: grpcio~=1.34.0 in c:\\users\\ryand\\appdata\\roaming\\python\\python38\\site-packages (from tf-nightly) (1.34.1)\n",
      "Requirement already satisfied: tb-nightly~=2.5.0.a in c:\\users\\ryand\\appdata\\roaming\\python\\python38\\site-packages (from tf-nightly) (2.5.0a20210309)\n",
      "Requirement already satisfied: keras-preprocessing~=1.1.2 in c:\\developer\\lib\\anaconda3\\lib\\site-packages (from tf-nightly) (1.1.2)\n",
      "Requirement already satisfied: opt-einsum~=3.3.0 in c:\\developer\\lib\\anaconda3\\lib\\site-packages (from tf-nightly) (3.3.0)\n",
      "Requirement already satisfied: astunparse~=1.6.3 in c:\\developer\\lib\\anaconda3\\lib\\site-packages (from tf-nightly) (1.6.3)\n",
      "Requirement already satisfied: wrapt~=1.12.1 in c:\\developer\\lib\\anaconda3\\lib\\site-packages (from tf-nightly) (1.12.1)\n",
      "Requirement already satisfied: typing-extensions~=3.7.4 in c:\\developer\\lib\\anaconda3\\lib\\site-packages (from tf-nightly) (3.7.4.3)\n",
      "Requirement already satisfied: flatbuffers~=1.12.0 in c:\\developer\\lib\\anaconda3\\lib\\site-packages (from tf-nightly) (1.12)\n",
      "Requirement already satisfied: absl-py~=0.10 in c:\\developer\\lib\\anaconda3\\lib\\site-packages (from tf-nightly) (0.10.0)\n",
      "Requirement already satisfied: gast==0.4.0 in c:\\users\\ryand\\appdata\\roaming\\python\\python38\\site-packages (from tf-nightly) (0.4.0)\n",
      "Requirement already satisfied: numpy~=1.19.2 in c:\\developer\\lib\\anaconda3\\lib\\site-packages (from tf-nightly) (1.19.2)\n",
      "Requirement already satisfied: six~=1.15.0 in c:\\developer\\lib\\anaconda3\\lib\\site-packages (from tf-nightly) (1.15.0)\n",
      "Requirement already satisfied: six~=1.15.0 in c:\\developer\\lib\\anaconda3\\lib\\site-packages (from tf-nightly) (1.15.0)\n",
      "Requirement already satisfied: six~=1.15.0 in c:\\developer\\lib\\anaconda3\\lib\\site-packages (from tf-nightly) (1.15.0)\n",
      "Requirement already satisfied: numpy~=1.19.2 in c:\\developer\\lib\\anaconda3\\lib\\site-packages (from tf-nightly) (1.19.2)\n",
      "Requirement already satisfied: requests<3,>=2.21.0 in c:\\developer\\lib\\anaconda3\\lib\\site-packages (from tb-nightly~=2.5.0.a->tf-nightly) (2.24.0)\n",
      "Requirement already satisfied: google-auth-oauthlib<0.5,>=0.4.1 in c:\\developer\\lib\\anaconda3\\lib\\site-packages (from tb-nightly~=2.5.0.a->tf-nightly) (0.4.3)\n",
      "Requirement already satisfied: wheel~=0.35 in c:\\developer\\lib\\anaconda3\\lib\\site-packages (from tf-nightly) (0.35.1)\n",
      "Requirement already satisfied: setuptools>=41.0.0 in c:\\developer\\lib\\anaconda3\\lib\\site-packages (from tb-nightly~=2.5.0.a->tf-nightly) (50.3.1.post20201107)\n",
      "Requirement already satisfied: protobuf>=3.9.2 in c:\\developer\\lib\\anaconda3\\lib\\site-packages (from tf-nightly) (3.15.5)\n",
      "Requirement already satisfied: google-auth<2,>=1.6.3 in c:\\developer\\lib\\anaconda3\\lib\\site-packages (from tb-nightly~=2.5.0.a->tf-nightly) (1.27.1)\n",
      "Requirement already satisfied: grpcio~=1.34.0 in c:\\users\\ryand\\appdata\\roaming\\python\\python38\\site-packages (from tf-nightly) (1.34.1)\n",
      "Requirement already satisfied: markdown>=2.6.8 in c:\\developer\\lib\\anaconda3\\lib\\site-packages (from tb-nightly~=2.5.0.a->tf-nightly) (3.3.4)\n",
      "Requirement already satisfied: werkzeug>=0.11.15 in c:\\developer\\lib\\anaconda3\\lib\\site-packages (from tb-nightly~=2.5.0.a->tf-nightly) (1.0.1)\n",
      "Requirement already satisfied: tensorboard-data-server<0.4.0,>=0.3.0 in c:\\users\\ryand\\appdata\\roaming\\python\\python38\\site-packages (from tb-nightly~=2.5.0.a->tf-nightly) (0.3.0)\n",
      "Requirement already satisfied: absl-py~=0.10 in c:\\developer\\lib\\anaconda3\\lib\\site-packages (from tf-nightly) (0.10.0)\n",
      "Requirement already satisfied: tensorboard-plugin-wit>=1.6.0 in c:\\developer\\lib\\anaconda3\\lib\\site-packages (from tb-nightly~=2.5.0.a->tf-nightly) (1.8.0)\n",
      "Requirement already satisfied: six~=1.15.0 in c:\\developer\\lib\\anaconda3\\lib\\site-packages (from tf-nightly) (1.15.0)\n",
      "Requirement already satisfied: numpy~=1.19.2 in c:\\developer\\lib\\anaconda3\\lib\\site-packages (from tf-nightly) (1.19.2)\n",
      "Requirement already satisfied: numpy~=1.19.2 in c:\\developer\\lib\\anaconda3\\lib\\site-packages (from tf-nightly) (1.19.2)\n",
      "Requirement already satisfied: wheel~=0.35 in c:\\developer\\lib\\anaconda3\\lib\\site-packages (from tf-nightly) (0.35.1)\n",
      "Requirement already satisfied: six~=1.15.0 in c:\\developer\\lib\\anaconda3\\lib\\site-packages (from tf-nightly) (1.15.0)\n",
      "Requirement already satisfied: six~=1.15.0 in c:\\developer\\lib\\anaconda3\\lib\\site-packages (from tf-nightly) (1.15.0)\n",
      "Requirement already satisfied: idna<3,>=2.5 in c:\\developer\\lib\\anaconda3\\lib\\site-packages (from requests<3,>=2.21.0->tb-nightly~=2.5.0.a->tf-nightly) (2.10)\n",
      "Requirement already satisfied: chardet<4,>=3.0.2 in c:\\developer\\lib\\anaconda3\\lib\\site-packages (from requests<3,>=2.21.0->tb-nightly~=2.5.0.a->tf-nightly) (3.0.4)\n",
      "Requirement already satisfied: certifi>=2017.4.17 in c:\\developer\\lib\\anaconda3\\lib\\site-packages (from requests<3,>=2.21.0->tb-nightly~=2.5.0.a->tf-nightly) (2020.6.20)\n",
      "Requirement already satisfied: urllib3!=1.25.0,!=1.25.1,<1.26,>=1.21.1 in c:\\developer\\lib\\anaconda3\\lib\\site-packages (from requests<3,>=2.21.0->tb-nightly~=2.5.0.a->tf-nightly) (1.25.11)\n",
      "Requirement already satisfied: requests-oauthlib>=0.7.0 in c:\\developer\\lib\\anaconda3\\lib\\site-packages (from google-auth-oauthlib<0.5,>=0.4.1->tb-nightly~=2.5.0.a->tf-nightly) (1.3.0)\n",
      "Requirement already satisfied: google-auth<2,>=1.6.3 in c:\\developer\\lib\\anaconda3\\lib\\site-packages (from tb-nightly~=2.5.0.a->tf-nightly) (1.27.1)\n",
      "Requirement already satisfied: setuptools>=41.0.0 in c:\\developer\\lib\\anaconda3\\lib\\site-packages (from tb-nightly~=2.5.0.a->tf-nightly) (50.3.1.post20201107)\n",
      "Requirement already satisfied: cachetools<5.0,>=2.0.0 in c:\\developer\\lib\\anaconda3\\lib\\site-packages (from google-auth<2,>=1.6.3->tb-nightly~=2.5.0.a->tf-nightly) (4.2.1)\n",
      "Requirement already satisfied: pyasn1-modules>=0.2.1 in c:\\developer\\lib\\anaconda3\\lib\\site-packages (from google-auth<2,>=1.6.3->tb-nightly~=2.5.0.a->tf-nightly) (0.2.8)\n",
      "Requirement already satisfied: rsa<5,>=3.1.4 in c:\\developer\\lib\\anaconda3\\lib\\site-packages (from google-auth<2,>=1.6.3->tb-nightly~=2.5.0.a->tf-nightly) (4.7.2)\n",
      "Requirement already satisfied: six~=1.15.0 in c:\\developer\\lib\\anaconda3\\lib\\site-packages (from tf-nightly) (1.15.0)\n",
      "Requirement already satisfied: requests<3,>=2.21.0 in c:\\developer\\lib\\anaconda3\\lib\\site-packages (from tb-nightly~=2.5.0.a->tf-nightly) (2.24.0)\n",
      "Requirement already satisfied: oauthlib>=3.0.0 in c:\\developer\\lib\\anaconda3\\lib\\site-packages (from requests-oauthlib>=0.7.0->google-auth-oauthlib<0.5,>=0.4.1->tb-nightly~=2.5.0.a->tf-nightly) (3.1.0)\n",
      "Requirement already satisfied: pyasn1<0.5.0,>=0.4.6 in c:\\developer\\lib\\anaconda3\\lib\\site-packages (from pyasn1-modules>=0.2.1->google-auth<2,>=1.6.3->tb-nightly~=2.5.0.a->tf-nightly) (0.4.8)\n",
      "Requirement already satisfied: pyasn1<0.5.0,>=0.4.6 in c:\\developer\\lib\\anaconda3\\lib\\site-packages (from pyasn1-modules>=0.2.1->google-auth<2,>=1.6.3->tb-nightly~=2.5.0.a->tf-nightly) (0.4.8)\n",
      "Requirement already satisfied: tensorflow-text-nightly in c:\\users\\ryand\\appdata\\roaming\\python\\python38\\site-packages (2.5.0.dev20210305)\n",
      "Requirement already satisfied: tensorflow-hub>=0.8.0 in c:\\developer\\lib\\anaconda3\\lib\\site-packages (from tensorflow-text-nightly) (0.11.0)\n",
      "Requirement already satisfied: numpy>=1.12.0 in c:\\developer\\lib\\anaconda3\\lib\\site-packages (from tensorflow-hub>=0.8.0->tensorflow-text-nightly) (1.19.2)\n",
      "Requirement already satisfied: protobuf>=3.8.0 in c:\\developer\\lib\\anaconda3\\lib\\site-packages (from tensorflow-hub>=0.8.0->tensorflow-text-nightly) (3.15.5)\n",
      "Requirement already satisfied: six>=1.9 in c:\\developer\\lib\\anaconda3\\lib\\site-packages (from protobuf>=3.8.0->tensorflow-hub>=0.8.0->tensorflow-text-nightly) (1.15.0)\n"
     ]
    },
    {
     "name": "stdout",
     "output_type": "stream",
     "text": [
      "Requirement already satisfied: tf-models-nightly in c:\\users\\ryand\\appdata\\roaming\\python\\python38\\site-packages (2.4.0.dev20210309)\n",
      "Requirement already satisfied: psutil>=5.4.3 in c:\\developer\\lib\\anaconda3\\lib\\site-packages (from tf-models-nightly) (5.7.2)\n",
      "Requirement already satisfied: tensorflow-text-nightly in c:\\users\\ryand\\appdata\\roaming\\python\\python38\\site-packages (from tf-models-nightly) (2.5.0.dev20210305)\n",
      "Requirement already satisfied: numpy>=1.15.4 in c:\\developer\\lib\\anaconda3\\lib\\site-packages (from tf-models-nightly) (1.19.2)\n",
      "Requirement already satisfied: Cython in c:\\developer\\lib\\anaconda3\\lib\\site-packages (from tf-models-nightly) (0.29.14)\n",
      "Requirement already satisfied: tensorflow-addons in c:\\developer\\lib\\anaconda3\\lib\\site-packages (from tf-models-nightly) (0.12.1)\n",
      "Requirement already satisfied: py-cpuinfo>=3.3.0 in c:\\developer\\lib\\anaconda3\\lib\\site-packages (from tf-models-nightly) (7.0.0)\n",
      "Requirement already satisfied: pyyaml>=5.1 in c:\\developer\\lib\\anaconda3\\lib\\site-packages (from tf-models-nightly) (5.3.1)\n",
      "Requirement already satisfied: tensorflow-model-optimization>=0.4.1 in c:\\developer\\lib\\anaconda3\\lib\\site-packages (from tf-models-nightly) (0.5.0)\n",
      "Requirement already satisfied: tf-slim>=1.1.0 in c:\\developer\\lib\\anaconda3\\lib\\site-packages (from tf-models-nightly) (1.1.0)\n",
      "Requirement already satisfied: tf-nightly in c:\\users\\ryand\\appdata\\roaming\\python\\python38\\site-packages (from tf-models-nightly) (2.5.0.dev20210309)\n",
      "Requirement already satisfied: kaggle>=1.3.9 in c:\\developer\\lib\\anaconda3\\lib\\site-packages (from tf-models-nightly) (1.5.10)\n",
      "Requirement already satisfied: pandas>=0.22.0 in c:\\developer\\lib\\anaconda3\\lib\\site-packages (from tf-models-nightly) (1.1.3)\n",
      "Requirement already satisfied: sacrebleu in c:\\users\\ryand\\appdata\\roaming\\python\\python38\\site-packages (from tf-models-nightly) (1.5.1)\n",
      "Requirement already satisfied: sentencepiece in c:\\developer\\lib\\anaconda3\\lib\\site-packages (from tf-models-nightly) (0.1.95)\n",
      "Requirement already satisfied: pycocotools in c:\\developer\\lib\\anaconda3\\lib\\site-packages (from tf-models-nightly) (2.0.2)\n",
      "Requirement already satisfied: gin-config in c:\\developer\\lib\\anaconda3\\lib\\site-packages (from tf-models-nightly) (0.4.0)\n",
      "Requirement already satisfied: six in c:\\developer\\lib\\anaconda3\\lib\\site-packages (from tf-models-nightly) (1.15.0)\n",
      "Requirement already satisfied: oauth2client in c:\\developer\\lib\\anaconda3\\lib\\site-packages (from tf-models-nightly) (4.1.3)\n",
      "Requirement already satisfied: opencv-python-headless in c:\\developer\\lib\\anaconda3\\lib\\site-packages (from tf-models-nightly) (4.5.1.48)\n",
      "Requirement already satisfied: tensorflow-datasets in c:\\developer\\lib\\anaconda3\\lib\\site-packages (from tf-models-nightly) (4.2.0)\n",
      "Requirement already satisfied: seqeval in c:\\developer\\lib\\anaconda3\\lib\\site-packages (from tf-models-nightly) (1.2.2)\n",
      "Requirement already satisfied: google-api-python-client>=1.6.7 in c:\\developer\\lib\\anaconda3\\lib\\site-packages (from tf-models-nightly) (2.0.2)\n",
      "Requirement already satisfied: matplotlib in c:\\developer\\lib\\anaconda3\\lib\\site-packages (from tf-models-nightly) (3.3.2)\n",
      "Requirement already satisfied: google-cloud-bigquery>=0.31.0 in c:\\developer\\lib\\anaconda3\\lib\\site-packages (from tf-models-nightly) (2.10.0)\n",
      "Requirement already satisfied: Pillow in c:\\developer\\lib\\anaconda3\\lib\\site-packages (from tf-models-nightly) (8.0.1)\n",
      "Requirement already satisfied: scipy>=0.19.1 in c:\\developer\\lib\\anaconda3\\lib\\site-packages (from tf-models-nightly) (1.5.2)\n",
      "Requirement already satisfied: tensorflow-hub>=0.6.0 in c:\\developer\\lib\\anaconda3\\lib\\site-packages (from tf-models-nightly) (0.11.0)\n",
      "Requirement already satisfied: tensorflow-hub>=0.6.0 in c:\\developer\\lib\\anaconda3\\lib\\site-packages (from tf-models-nightly) (0.11.0)\n",
      "Requirement already satisfied: typeguard>=2.7 in c:\\developer\\lib\\anaconda3\\lib\\site-packages (from tensorflow-addons->tf-models-nightly) (2.11.1)\n",
      "Requirement already satisfied: six in c:\\developer\\lib\\anaconda3\\lib\\site-packages (from tf-models-nightly) (1.15.0)\n",
      "Requirement already satisfied: dm-tree~=0.1.1 in c:\\developer\\lib\\anaconda3\\lib\\site-packages (from tensorflow-model-optimization>=0.4.1->tf-models-nightly) (0.1.5)\n",
      "Requirement already satisfied: numpy>=1.15.4 in c:\\developer\\lib\\anaconda3\\lib\\site-packages (from tf-models-nightly) (1.19.2)\n",
      "Requirement already satisfied: absl-py>=0.2.2 in c:\\developer\\lib\\anaconda3\\lib\\site-packages (from tf-slim>=1.1.0->tf-models-nightly) (0.10.0)\n",
      "Requirement already satisfied: keras-preprocessing~=1.1.2 in c:\\developer\\lib\\anaconda3\\lib\\site-packages (from tf-nightly->tf-models-nightly) (1.1.2)\n",
      "Requirement already satisfied: absl-py>=0.2.2 in c:\\developer\\lib\\anaconda3\\lib\\site-packages (from tf-slim>=1.1.0->tf-models-nightly) (0.10.0)\n",
      "Requirement already satisfied: six in c:\\developer\\lib\\anaconda3\\lib\\site-packages (from tf-models-nightly) (1.15.0)\n",
      "Requirement already satisfied: termcolor~=1.1.0 in c:\\developer\\lib\\anaconda3\\lib\\site-packages (from tf-nightly->tf-models-nightly) (1.1.0)\n",
      "Requirement already satisfied: wheel~=0.35 in c:\\developer\\lib\\anaconda3\\lib\\site-packages (from tf-nightly->tf-models-nightly) (0.35.1)\n",
      "Requirement already satisfied: gast==0.4.0 in c:\\users\\ryand\\appdata\\roaming\\python\\python38\\site-packages (from tf-nightly->tf-models-nightly) (0.4.0)\n",
      "Requirement already satisfied: protobuf>=3.9.2 in c:\\developer\\lib\\anaconda3\\lib\\site-packages (from tf-nightly->tf-models-nightly) (3.15.5)\n",
      "Requirement already satisfied: tf-estimator-nightly~=2.5.0.dev in c:\\developer\\lib\\anaconda3\\lib\\site-packages (from tf-nightly->tf-models-nightly) (2.5.0.dev2021030901)\n",
      "Requirement already satisfied: numpy>=1.15.4 in c:\\developer\\lib\\anaconda3\\lib\\site-packages (from tf-models-nightly) (1.19.2)\n",
      "Requirement already satisfied: astunparse~=1.6.3 in c:\\developer\\lib\\anaconda3\\lib\\site-packages (from tf-nightly->tf-models-nightly) (1.6.3)\n",
      "Requirement already satisfied: wrapt~=1.12.1 in c:\\developer\\lib\\anaconda3\\lib\\site-packages (from tf-nightly->tf-models-nightly) (1.12.1)\n",
      "Requirement already satisfied: opt-einsum~=3.3.0 in c:\\developer\\lib\\anaconda3\\lib\\site-packages (from tf-nightly->tf-models-nightly) (3.3.0)\n",
      "Requirement already satisfied: h5py~=3.1.0 in c:\\users\\ryand\\appdata\\roaming\\python\\python38\\site-packages (from tf-nightly->tf-models-nightly) (3.1.0)\n",
      "Requirement already satisfied: grpcio~=1.34.0 in c:\\users\\ryand\\appdata\\roaming\\python\\python38\\site-packages (from tf-nightly->tf-models-nightly) (1.34.1)\n",
      "Requirement already satisfied: flatbuffers~=1.12.0 in c:\\developer\\lib\\anaconda3\\lib\\site-packages (from tf-nightly->tf-models-nightly) (1.12)\n",
      "Requirement already satisfied: tb-nightly~=2.5.0.a in c:\\users\\ryand\\appdata\\roaming\\python\\python38\\site-packages (from tf-nightly->tf-models-nightly) (2.5.0a20210309)\n",
      "Requirement already satisfied: google-pasta~=0.2 in c:\\developer\\lib\\anaconda3\\lib\\site-packages (from tf-nightly->tf-models-nightly) (0.2.0)\n",
      "Requirement already satisfied: typing-extensions~=3.7.4 in c:\\developer\\lib\\anaconda3\\lib\\site-packages (from tf-nightly->tf-models-nightly) (3.7.4.3)\n",
      "Requirement already satisfied: six in c:\\developer\\lib\\anaconda3\\lib\\site-packages (from tf-models-nightly) (1.15.0)\n",
      "Requirement already satisfied: python-slugify in c:\\developer\\lib\\anaconda3\\lib\\site-packages (from kaggle>=1.3.9->tf-models-nightly) (4.0.1)\n",
      "Requirement already satisfied: urllib3 in c:\\developer\\lib\\anaconda3\\lib\\site-packages (from kaggle>=1.3.9->tf-models-nightly) (1.25.11)\n",
      "Requirement already satisfied: tqdm in c:\\developer\\lib\\anaconda3\\lib\\site-packages (from kaggle>=1.3.9->tf-models-nightly) (4.50.2)\n",
      "Requirement already satisfied: python-dateutil in c:\\developer\\lib\\anaconda3\\lib\\site-packages (from kaggle>=1.3.9->tf-models-nightly) (2.8.1)\n",
      "Requirement already satisfied: certifi in c:\\developer\\lib\\anaconda3\\lib\\site-packages (from kaggle>=1.3.9->tf-models-nightly) (2020.6.20)\n",
      "Requirement already satisfied: requests in c:\\developer\\lib\\anaconda3\\lib\\site-packages (from kaggle>=1.3.9->tf-models-nightly) (2.24.0)\n",
      "Requirement already satisfied: python-dateutil in c:\\developer\\lib\\anaconda3\\lib\\site-packages (from kaggle>=1.3.9->tf-models-nightly) (2.8.1)\n",
      "Requirement already satisfied: numpy>=1.15.4 in c:\\developer\\lib\\anaconda3\\lib\\site-packages (from tf-models-nightly) (1.19.2)\n",
      "Requirement already satisfied: pytz>=2017.2 in c:\\developer\\lib\\anaconda3\\lib\\site-packages (from pandas>=0.22.0->tf-models-nightly) (2020.1)\n",
      "Requirement already satisfied: portalocker==2.0.0 in c:\\users\\ryand\\appdata\\roaming\\python\\python38\\site-packages (from sacrebleu->tf-models-nightly) (2.0.0)\n",
      "Requirement already satisfied: matplotlib in c:\\developer\\lib\\anaconda3\\lib\\site-packages (from tf-models-nightly) (3.3.2)\n",
      "Requirement already satisfied: Cython in c:\\developer\\lib\\anaconda3\\lib\\site-packages (from tf-models-nightly) (0.29.14)\n",
      "Requirement already satisfied: setuptools>=18.0 in c:\\developer\\lib\\anaconda3\\lib\\site-packages (from pycocotools->tf-models-nightly) (50.3.1.post20201107)\n",
      "Requirement already satisfied: rsa>=3.1.4 in c:\\developer\\lib\\anaconda3\\lib\\site-packages (from oauth2client->tf-models-nightly) (4.7.2)\n",
      "Requirement already satisfied: pyasn1>=0.1.7 in c:\\developer\\lib\\anaconda3\\lib\\site-packages (from oauth2client->tf-models-nightly) (0.4.8)\n",
      "Requirement already satisfied: six in c:\\developer\\lib\\anaconda3\\lib\\site-packages (from tf-models-nightly) (1.15.0)\n",
      "Requirement already satisfied: httplib2>=0.9.1 in c:\\developer\\lib\\anaconda3\\lib\\site-packages (from oauth2client->tf-models-nightly) (0.19.0)\n",
      "Requirement already satisfied: pyasn1-modules>=0.0.5 in c:\\developer\\lib\\anaconda3\\lib\\site-packages (from oauth2client->tf-models-nightly) (0.2.8)\n",
      "Requirement already satisfied: numpy>=1.15.4 in c:\\developer\\lib\\anaconda3\\lib\\site-packages (from tf-models-nightly) (1.19.2)\n",
      "Requirement already satisfied: protobuf>=3.9.2 in c:\\developer\\lib\\anaconda3\\lib\\site-packages (from tf-nightly->tf-models-nightly) (3.15.5)\n",
      "Requirement already satisfied: importlib-resources in c:\\developer\\lib\\anaconda3\\lib\\site-packages (from tensorflow-datasets->tf-models-nightly) (5.1.2)\n",
      "Requirement already satisfied: numpy>=1.15.4 in c:\\developer\\lib\\anaconda3\\lib\\site-packages (from tf-models-nightly) (1.19.2)\n",
      "Requirement already satisfied: requests in c:\\developer\\lib\\anaconda3\\lib\\site-packages (from kaggle>=1.3.9->tf-models-nightly) (2.24.0)\n",
      "Requirement already satisfied: termcolor~=1.1.0 in c:\\developer\\lib\\anaconda3\\lib\\site-packages (from tf-nightly->tf-models-nightly) (1.1.0)\n",
      "Requirement already satisfied: six in c:\\developer\\lib\\anaconda3\\lib\\site-packages (from tf-models-nightly) (1.15.0)\n",
      "Requirement already satisfied: dill in c:\\developer\\lib\\anaconda3\\lib\\site-packages (from tensorflow-datasets->tf-models-nightly) (0.3.3)\n",
      "Requirement already satisfied: attrs>=18.1.0 in c:\\developer\\lib\\anaconda3\\lib\\site-packages (from tensorflow-datasets->tf-models-nightly) (20.3.0)\n",
      "Requirement already satisfied: tqdm in c:\\developer\\lib\\anaconda3\\lib\\site-packages (from kaggle>=1.3.9->tf-models-nightly) (4.50.2)\n",
      "Requirement already satisfied: tensorflow-metadata in c:\\developer\\lib\\anaconda3\\lib\\site-packages (from tensorflow-datasets->tf-models-nightly) (0.28.0)\n",
      "Requirement already satisfied: absl-py>=0.2.2 in c:\\developer\\lib\\anaconda3\\lib\\site-packages (from tf-slim>=1.1.0->tf-models-nightly) (0.10.0)\n",
      "Requirement already satisfied: promise in c:\\developer\\lib\\anaconda3\\lib\\site-packages (from tensorflow-datasets->tf-models-nightly) (2.3)\n",
      "Requirement already satisfied: future in c:\\developer\\lib\\anaconda3\\lib\\site-packages (from tensorflow-datasets->tf-models-nightly) (0.18.2)\n",
      "Requirement already satisfied: scikit-learn>=0.21.3 in c:\\developer\\lib\\anaconda3\\lib\\site-packages (from seqeval->tf-models-nightly) (0.23.2)\n",
      "Requirement already satisfied: numpy>=1.15.4 in c:\\developer\\lib\\anaconda3\\lib\\site-packages (from tf-models-nightly) (1.19.2)\n",
      "Requirement already satisfied: google-auth<2dev,>=1.16.0 in c:\\developer\\lib\\anaconda3\\lib\\site-packages (from google-api-python-client>=1.6.7->tf-models-nightly) (1.27.1)\n",
      "Requirement already satisfied: google-auth-httplib2>=0.0.3 in c:\\developer\\lib\\anaconda3\\lib\\site-packages (from google-api-python-client>=1.6.7->tf-models-nightly) (0.1.0)\n",
      "Requirement already satisfied: google-api-core<2dev,>=1.21.0 in c:\\developer\\lib\\anaconda3\\lib\\site-packages (from google-api-python-client>=1.6.7->tf-models-nightly) (1.26.1)\n",
      "Requirement already satisfied: httplib2>=0.9.1 in c:\\developer\\lib\\anaconda3\\lib\\site-packages (from oauth2client->tf-models-nightly) (0.19.0)\n",
      "Requirement already satisfied: six in c:\\developer\\lib\\anaconda3\\lib\\site-packages (from tf-models-nightly) (1.15.0)\n",
      "Requirement already satisfied: uritemplate<4dev,>=3.0.0 in c:\\developer\\lib\\anaconda3\\lib\\site-packages (from google-api-python-client>=1.6.7->tf-models-nightly) (3.0.1)\n",
      "Requirement already satisfied: cycler>=0.10 in c:\\developer\\lib\\anaconda3\\lib\\site-packages (from matplotlib->tf-models-nightly) (0.10.0)\n",
      "Requirement already satisfied: numpy>=1.15.4 in c:\\developer\\lib\\anaconda3\\lib\\site-packages (from tf-models-nightly) (1.19.2)\n",
      "Requirement already satisfied: python-dateutil in c:\\developer\\lib\\anaconda3\\lib\\site-packages (from kaggle>=1.3.9->tf-models-nightly) (2.8.1)\n",
      "Requirement already satisfied: kiwisolver>=1.0.1 in c:\\developer\\lib\\anaconda3\\lib\\site-packages (from matplotlib->tf-models-nightly) (1.3.0)\n",
      "Requirement already satisfied: Pillow in c:\\developer\\lib\\anaconda3\\lib\\site-packages (from tf-models-nightly) (8.0.1)\n",
      "Requirement already satisfied: pyparsing!=2.0.4,!=2.1.2,!=2.1.6,>=2.0.3 in c:\\developer\\lib\\anaconda3\\lib\\site-packages (from matplotlib->tf-models-nightly) (2.4.7)\n",
      "Requirement already satisfied: certifi in c:\\developer\\lib\\anaconda3\\lib\\site-packages (from kaggle>=1.3.9->tf-models-nightly) (2020.6.20)\n",
      "Requirement already satisfied: packaging>=14.3 in c:\\developer\\lib\\anaconda3\\lib\\site-packages (from google-cloud-bigquery>=0.31.0->tf-models-nightly) (20.4)\n",
      "Requirement already satisfied: google-cloud-core<2.0dev,>=1.4.1 in c:\\developer\\lib\\anaconda3\\lib\\site-packages (from google-cloud-bigquery>=0.31.0->tf-models-nightly) (1.6.0)\n",
      "Requirement already satisfied: google-api-core[grpc]<2.0.0dev,>=1.23.0 in c:\\developer\\lib\\anaconda3\\lib\\site-packages (from google-cloud-bigquery>=0.31.0->tf-models-nightly) (1.26.1)\n",
      "Requirement already satisfied: google-resumable-media<2.0dev,>=0.6.0 in c:\\developer\\lib\\anaconda3\\lib\\site-packages (from google-cloud-bigquery>=0.31.0->tf-models-nightly) (1.2.0)\n",
      "Requirement already satisfied: protobuf>=3.9.2 in c:\\developer\\lib\\anaconda3\\lib\\site-packages (from tf-nightly->tf-models-nightly) (3.15.5)\n",
      "Requirement already satisfied: proto-plus>=1.10.0 in c:\\developer\\lib\\anaconda3\\lib\\site-packages (from google-cloud-bigquery>=0.31.0->tf-models-nightly) (1.14.2)\n",
      "Requirement already satisfied: numpy>=1.15.4 in c:\\developer\\lib\\anaconda3\\lib\\site-packages (from tf-models-nightly) (1.19.2)\n",
      "Requirement already satisfied: protobuf>=3.9.2 in c:\\developer\\lib\\anaconda3\\lib\\site-packages (from tf-nightly->tf-models-nightly) (3.15.5)\n",
      "Requirement already satisfied: numpy>=1.15.4 in c:\\developer\\lib\\anaconda3\\lib\\site-packages (from tf-models-nightly) (1.19.2)\n",
      "Requirement already satisfied: six in c:\\developer\\lib\\anaconda3\\lib\\site-packages (from tf-models-nightly) (1.15.0)\n",
      "Requirement already satisfied: six in c:\\developer\\lib\\anaconda3\\lib\\site-packages (from tf-models-nightly) (1.15.0)\n",
      "Requirement already satisfied: numpy>=1.15.4 in c:\\developer\\lib\\anaconda3\\lib\\site-packages (from tf-models-nightly) (1.19.2)\n",
      "Requirement already satisfied: six in c:\\developer\\lib\\anaconda3\\lib\\site-packages (from tf-models-nightly) (1.15.0)\n",
      "Requirement already satisfied: six in c:\\developer\\lib\\anaconda3\\lib\\site-packages (from tf-models-nightly) (1.15.0)\n",
      "Requirement already satisfied: wheel~=0.35 in c:\\developer\\lib\\anaconda3\\lib\\site-packages (from tf-nightly->tf-models-nightly) (0.35.1)\n",
      "Requirement already satisfied: six in c:\\developer\\lib\\anaconda3\\lib\\site-packages (from tf-models-nightly) (1.15.0)\n",
      "Requirement already satisfied: numpy>=1.15.4 in c:\\developer\\lib\\anaconda3\\lib\\site-packages (from tf-models-nightly) (1.19.2)\n",
      "Requirement already satisfied: numpy>=1.15.4 in c:\\developer\\lib\\anaconda3\\lib\\site-packages (from tf-models-nightly) (1.19.2)\n",
      "Requirement already satisfied: six in c:\\developer\\lib\\anaconda3\\lib\\site-packages (from tf-models-nightly) (1.15.0)\n",
      "Requirement already satisfied: markdown>=2.6.8 in c:\\developer\\lib\\anaconda3\\lib\\site-packages (from tb-nightly~=2.5.0.a->tf-nightly->tf-models-nightly) (3.3.4)\n",
      "Requirement already satisfied: requests in c:\\developer\\lib\\anaconda3\\lib\\site-packages (from kaggle>=1.3.9->tf-models-nightly) (2.24.0)\n",
      "Requirement already satisfied: google-auth-oauthlib<0.5,>=0.4.1 in c:\\developer\\lib\\anaconda3\\lib\\site-packages (from tb-nightly~=2.5.0.a->tf-nightly->tf-models-nightly) (0.4.3)\n",
      "Requirement already satisfied: numpy>=1.15.4 in c:\\developer\\lib\\anaconda3\\lib\\site-packages (from tf-models-nightly) (1.19.2)\n",
      "Requirement already satisfied: grpcio~=1.34.0 in c:\\users\\ryand\\appdata\\roaming\\python\\python38\\site-packages (from tf-nightly->tf-models-nightly) (1.34.1)\n",
      "Requirement already satisfied: tensorboard-plugin-wit>=1.6.0 in c:\\developer\\lib\\anaconda3\\lib\\site-packages (from tb-nightly~=2.5.0.a->tf-nightly->tf-models-nightly) (1.8.0)\n",
      "Requirement already satisfied: absl-py>=0.2.2 in c:\\developer\\lib\\anaconda3\\lib\\site-packages (from tf-slim>=1.1.0->tf-models-nightly) (0.10.0)\n",
      "Requirement already satisfied: google-auth<2dev,>=1.16.0 in c:\\developer\\lib\\anaconda3\\lib\\site-packages (from google-api-python-client>=1.6.7->tf-models-nightly) (1.27.1)\n",
      "Requirement already satisfied: tensorboard-data-server<0.4.0,>=0.3.0 in c:\\users\\ryand\\appdata\\roaming\\python\\python38\\site-packages (from tb-nightly~=2.5.0.a->tf-nightly->tf-models-nightly) (0.3.0)\n",
      "Requirement already satisfied: protobuf>=3.9.2 in c:\\developer\\lib\\anaconda3\\lib\\site-packages (from tf-nightly->tf-models-nightly) (3.15.5)\n",
      "Requirement already satisfied: wheel~=0.35 in c:\\developer\\lib\\anaconda3\\lib\\site-packages (from tf-nightly->tf-models-nightly) (0.35.1)\n",
      "Requirement already satisfied: werkzeug>=0.11.15 in c:\\developer\\lib\\anaconda3\\lib\\site-packages (from tb-nightly~=2.5.0.a->tf-nightly->tf-models-nightly) (1.0.1)\n",
      "Requirement already satisfied: setuptools>=18.0 in c:\\developer\\lib\\anaconda3\\lib\\site-packages (from pycocotools->tf-models-nightly) (50.3.1.post20201107)\n",
      "Requirement already satisfied: six in c:\\developer\\lib\\anaconda3\\lib\\site-packages (from tf-models-nightly) (1.15.0)\n",
      "Requirement already satisfied: text-unidecode>=1.3 in c:\\developer\\lib\\anaconda3\\lib\\site-packages (from python-slugify->kaggle>=1.3.9->tf-models-nightly) (1.3)\n",
      "Requirement already satisfied: six in c:\\developer\\lib\\anaconda3\\lib\\site-packages (from tf-models-nightly) (1.15.0)\n",
      "Requirement already satisfied: certifi in c:\\developer\\lib\\anaconda3\\lib\\site-packages (from kaggle>=1.3.9->tf-models-nightly) (2020.6.20)\n",
      "Requirement already satisfied: chardet<4,>=3.0.2 in c:\\developer\\lib\\anaconda3\\lib\\site-packages (from requests->kaggle>=1.3.9->tf-models-nightly) (3.0.4)\n",
      "Requirement already satisfied: idna<3,>=2.5 in c:\\developer\\lib\\anaconda3\\lib\\site-packages (from requests->kaggle>=1.3.9->tf-models-nightly) (2.10)\n",
      "Requirement already satisfied: urllib3 in c:\\developer\\lib\\anaconda3\\lib\\site-packages (from kaggle>=1.3.9->tf-models-nightly) (1.25.11)\n",
      "Requirement already satisfied: pywin32!=226 in c:\\developer\\lib\\anaconda3\\lib\\site-packages (from portalocker==2.0.0->sacrebleu->tf-models-nightly) (227)\n",
      "Requirement already satisfied: pyasn1>=0.1.7 in c:\\developer\\lib\\anaconda3\\lib\\site-packages (from oauth2client->tf-models-nightly) (0.4.8)\n",
      "Requirement already satisfied: pyparsing!=2.0.4,!=2.1.2,!=2.1.6,>=2.0.3 in c:\\developer\\lib\\anaconda3\\lib\\site-packages (from matplotlib->tf-models-nightly) (2.4.7)\n",
      "Requirement already satisfied: pyasn1>=0.1.7 in c:\\developer\\lib\\anaconda3\\lib\\site-packages (from oauth2client->tf-models-nightly) (0.4.8)\n",
      "Requirement already satisfied: googleapis-common-protos<2,>=1.52.0 in c:\\developer\\lib\\anaconda3\\lib\\site-packages (from tensorflow-metadata->tensorflow-datasets->tf-models-nightly) (1.53.0)\n",
      "Requirement already satisfied: protobuf>=3.9.2 in c:\\developer\\lib\\anaconda3\\lib\\site-packages (from tf-nightly->tf-models-nightly) (3.15.5)\n",
      "Requirement already satisfied: absl-py>=0.2.2 in c:\\developer\\lib\\anaconda3\\lib\\site-packages (from tf-slim>=1.1.0->tf-models-nightly) (0.10.0)\n",
      "Requirement already satisfied: six in c:\\developer\\lib\\anaconda3\\lib\\site-packages (from tf-models-nightly) (1.15.0)\n",
      "Requirement already satisfied: joblib>=0.11 in c:\\developer\\lib\\anaconda3\\lib\\site-packages (from scikit-learn>=0.21.3->seqeval->tf-models-nightly) (0.17.0)\n",
      "Requirement already satisfied: threadpoolctl>=2.0.0 in c:\\developer\\lib\\anaconda3\\lib\\site-packages (from scikit-learn>=0.21.3->seqeval->tf-models-nightly) (2.1.0)\n",
      "Requirement already satisfied: numpy>=1.15.4 in c:\\developer\\lib\\anaconda3\\lib\\site-packages (from tf-models-nightly) (1.19.2)\n",
      "Requirement already satisfied: scipy>=0.19.1 in c:\\developer\\lib\\anaconda3\\lib\\site-packages (from tf-models-nightly) (1.5.2)\n",
      "Requirement already satisfied: cachetools<5.0,>=2.0.0 in c:\\developer\\lib\\anaconda3\\lib\\site-packages (from google-auth<2dev,>=1.16.0->google-api-python-client>=1.6.7->tf-models-nightly) (4.2.1)\n",
      "Requirement already satisfied: pyasn1-modules>=0.0.5 in c:\\developer\\lib\\anaconda3\\lib\\site-packages (from oauth2client->tf-models-nightly) (0.2.8)\n",
      "Requirement already satisfied: six in c:\\developer\\lib\\anaconda3\\lib\\site-packages (from tf-models-nightly) (1.15.0)\n",
      "Requirement already satisfied: setuptools>=18.0 in c:\\developer\\lib\\anaconda3\\lib\\site-packages (from pycocotools->tf-models-nightly) (50.3.1.post20201107)\n",
      "Requirement already satisfied: rsa>=3.1.4 in c:\\developer\\lib\\anaconda3\\lib\\site-packages (from oauth2client->tf-models-nightly) (4.7.2)\n",
      "Requirement already satisfied: httplib2>=0.9.1 in c:\\developer\\lib\\anaconda3\\lib\\site-packages (from oauth2client->tf-models-nightly) (0.19.0)\n",
      "Requirement already satisfied: six in c:\\developer\\lib\\anaconda3\\lib\\site-packages (from tf-models-nightly) (1.15.0)\n",
      "Requirement already satisfied: google-auth<2dev,>=1.16.0 in c:\\developer\\lib\\anaconda3\\lib\\site-packages (from google-api-python-client>=1.6.7->tf-models-nightly) (1.27.1)\n",
      "Requirement already satisfied: packaging>=14.3 in c:\\developer\\lib\\anaconda3\\lib\\site-packages (from google-cloud-bigquery>=0.31.0->tf-models-nightly) (20.4)\n",
      "Requirement already satisfied: googleapis-common-protos<2,>=1.52.0 in c:\\developer\\lib\\anaconda3\\lib\\site-packages (from tensorflow-metadata->tensorflow-datasets->tf-models-nightly) (1.53.0)\n",
      "Requirement already satisfied: google-auth<2dev,>=1.16.0 in c:\\developer\\lib\\anaconda3\\lib\\site-packages (from google-api-python-client>=1.6.7->tf-models-nightly) (1.27.1)\n",
      "Requirement already satisfied: six in c:\\developer\\lib\\anaconda3\\lib\\site-packages (from tf-models-nightly) (1.15.0)\n",
      "Requirement already satisfied: requests in c:\\developer\\lib\\anaconda3\\lib\\site-packages (from kaggle>=1.3.9->tf-models-nightly) (2.24.0)\n",
      "Requirement already satisfied: setuptools>=18.0 in c:\\developer\\lib\\anaconda3\\lib\\site-packages (from pycocotools->tf-models-nightly) (50.3.1.post20201107)\n",
      "Requirement already satisfied: protobuf>=3.9.2 in c:\\developer\\lib\\anaconda3\\lib\\site-packages (from tf-nightly->tf-models-nightly) (3.15.5)\n",
      "Requirement already satisfied: pytz>=2017.2 in c:\\developer\\lib\\anaconda3\\lib\\site-packages (from pandas>=0.22.0->tf-models-nightly) (2020.1)\n",
      "Requirement already satisfied: six in c:\\developer\\lib\\anaconda3\\lib\\site-packages (from tf-models-nightly) (1.15.0)\n",
      "Requirement already satisfied: six in c:\\developer\\lib\\anaconda3\\lib\\site-packages (from tf-models-nightly) (1.15.0)\n",
      "Requirement already satisfied: pyparsing!=2.0.4,!=2.1.2,!=2.1.6,>=2.0.3 in c:\\developer\\lib\\anaconda3\\lib\\site-packages (from matplotlib->tf-models-nightly) (2.4.7)\n",
      "Requirement already satisfied: six in c:\\developer\\lib\\anaconda3\\lib\\site-packages (from tf-models-nightly) (1.15.0)\n",
      "Requirement already satisfied: google-api-core<2dev,>=1.21.0 in c:\\developer\\lib\\anaconda3\\lib\\site-packages (from google-api-python-client>=1.6.7->tf-models-nightly) (1.26.1)\n",
      "Requirement already satisfied: google-auth<2dev,>=1.16.0 in c:\\developer\\lib\\anaconda3\\lib\\site-packages (from google-api-python-client>=1.6.7->tf-models-nightly) (1.27.1)\n",
      "Requirement already satisfied: packaging>=14.3 in c:\\developer\\lib\\anaconda3\\lib\\site-packages (from google-cloud-bigquery>=0.31.0->tf-models-nightly) (20.4)\n",
      "Requirement already satisfied: googleapis-common-protos<2,>=1.52.0 in c:\\developer\\lib\\anaconda3\\lib\\site-packages (from tensorflow-metadata->tensorflow-datasets->tf-models-nightly) (1.53.0)\n",
      "Requirement already satisfied: google-auth<2dev,>=1.16.0 in c:\\developer\\lib\\anaconda3\\lib\\site-packages (from google-api-python-client>=1.6.7->tf-models-nightly) (1.27.1)\n",
      "Requirement already satisfied: six in c:\\developer\\lib\\anaconda3\\lib\\site-packages (from tf-models-nightly) (1.15.0)\n",
      "Requirement already satisfied: requests in c:\\developer\\lib\\anaconda3\\lib\\site-packages (from kaggle>=1.3.9->tf-models-nightly) (2.24.0)\n",
      "Requirement already satisfied: setuptools>=18.0 in c:\\developer\\lib\\anaconda3\\lib\\site-packages (from pycocotools->tf-models-nightly) (50.3.1.post20201107)\n",
      "Requirement already satisfied: protobuf>=3.9.2 in c:\\developer\\lib\\anaconda3\\lib\\site-packages (from tf-nightly->tf-models-nightly) (3.15.5)\n",
      "Requirement already satisfied: pytz>=2017.2 in c:\\developer\\lib\\anaconda3\\lib\\site-packages (from pandas>=0.22.0->tf-models-nightly) (2020.1)\n",
      "Requirement already satisfied: grpcio~=1.34.0 in c:\\users\\ryand\\appdata\\roaming\\python\\python38\\site-packages (from tf-nightly->tf-models-nightly) (1.34.1)\n",
      "Requirement already satisfied: six in c:\\developer\\lib\\anaconda3\\lib\\site-packages (from tf-models-nightly) (1.15.0)\n",
      "Requirement already satisfied: google-crc32c<2.0dev,>=1.0 in c:\\developer\\lib\\anaconda3\\lib\\site-packages (from google-resumable-media<2.0dev,>=0.6.0->google-cloud-bigquery>=0.31.0->tf-models-nightly) (1.1.2)\n",
      "Requirement already satisfied: protobuf>=3.9.2 in c:\\developer\\lib\\anaconda3\\lib\\site-packages (from tf-nightly->tf-models-nightly) (3.15.5)\n",
      "Requirement already satisfied: requests-oauthlib>=0.7.0 in c:\\developer\\lib\\anaconda3\\lib\\site-packages (from google-auth-oauthlib<0.5,>=0.4.1->tb-nightly~=2.5.0.a->tf-nightly->tf-models-nightly) (1.3.0)\n",
      "Requirement already satisfied: google-auth<2dev,>=1.16.0 in c:\\developer\\lib\\anaconda3\\lib\\site-packages (from google-api-python-client>=1.6.7->tf-models-nightly) (1.27.1)\n",
      "Requirement already satisfied: protobuf>=3.9.2 in c:\\developer\\lib\\anaconda3\\lib\\site-packages (from tf-nightly->tf-models-nightly) (3.15.5)\n",
      "Requirement already satisfied: cffi>=1.0.0 in c:\\developer\\lib\\anaconda3\\lib\\site-packages (from google-crc32c<2.0dev,>=1.0->google-resumable-media<2.0dev,>=0.6.0->google-cloud-bigquery>=0.31.0->tf-models-nightly) (1.14.3)\n",
      "Requirement already satisfied: oauthlib>=3.0.0 in c:\\developer\\lib\\anaconda3\\lib\\site-packages (from requests-oauthlib>=0.7.0->google-auth-oauthlib<0.5,>=0.4.1->tb-nightly~=2.5.0.a->tf-nightly->tf-models-nightly) (3.1.0)\n",
      "Requirement already satisfied: requests in c:\\developer\\lib\\anaconda3\\lib\\site-packages (from kaggle>=1.3.9->tf-models-nightly) (2.24.0)\n",
      "Requirement already satisfied: pycparser in c:\\developer\\lib\\anaconda3\\lib\\site-packages (from cffi>=1.0.0->google-crc32c<2.0dev,>=1.0->google-resumable-media<2.0dev,>=0.6.0->google-cloud-bigquery>=0.31.0->tf-models-nightly) (2.20)\n"
     ]
    }
   ],
   "source": [
    "import sys \n",
    "!{sys.executable} -m pip install tf-nightly --user --use-feature=2020-resolver\n",
    "!{sys.executable} -m pip install tensorflow-text-nightly --user --use-feature=2020-resolver\n",
    "!{sys.executable} -m pip install tf-models-nightly --user --use-feature=2020-resolver"
   ]
  },
  {
   "cell_type": "code",
   "execution_count": 3,
   "metadata": {},
   "outputs": [
    {
     "name": "stderr",
     "output_type": "stream",
     "text": [
      "C:\\Developer\\lib\\anaconda3\\lib\\site-packages\\tensorflow_addons\\utils\\ensure_tf_install.py:37: UserWarning: You are currently using a nightly version of TensorFlow (2.5.0-dev20210309). \n",
      "TensorFlow Addons offers no support for the nightly versions of TensorFlow. Some things might work, some other might not. \n",
      "If you encounter a bug, do not file an issue on GitHub.\n",
      "  warnings.warn(\n"
     ]
    }
   ],
   "source": [
    "import os\n",
    "import shutil\n",
    "\n",
    "import pandas as pd\n",
    "import matplotlib.pyplot as plt\n",
    "import tensorflow as tf\n",
    "import tensorflow_hub as hub\n",
    "import tensorflow_text as text\n",
    "\n",
    "from official.nlp import optimization\n",
    "\n",
    "tf.get_logger().setLevel('ERROR')"
   ]
  },
  {
   "cell_type": "markdown",
   "metadata": {},
   "source": [
    "## Read Files\n",
    "Read the files into memory and convert them to TensorFlow datasets to begin pre-processing."
   ]
  },
  {
   "cell_type": "code",
   "execution_count": 4,
   "metadata": {},
   "outputs": [],
   "source": [
    "RESOURCES_PATH = './resources/{}'\n",
    "\n",
    "def twitter_data_to_dataset(filename):\n",
    "    pd_df = pd.read_csv(RESOURCES_PATH.format(filename), encoding = 'ISO-8859-1', compression='zip')\n",
    "    tweets =  tf.constant(pd_df['tweet'].to_numpy(dtype='U'), dtype=tf.string)\n",
    "    targets = tf.constant(pd_df['target'].to_numpy(dtype='i4'), dtype=tf.int32)\n",
    "    raw_ds = tf.data.Dataset.from_tensor_slices((tweets, targets))\n",
    "    return raw_ds.cache().prefetch(buffer_size=tf.data.AUTOTUNE)\n",
    "\n",
    "train_ds = twitter_data_to_dataset('train_twitter_data.zip')\n",
    "test_ds = twitter_data_to_dataset('test_twitter_data.zip')\n",
    "validate_ds = twitter_data_to_dataset('validate_twitter_data.zip')"
   ]
  },
  {
   "cell_type": "code",
   "execution_count": 5,
   "metadata": {
    "scrolled": true
   },
   "outputs": [
    {
     "name": "stdout",
     "output_type": "stream",
     "text": [
      "Features: b'how long you been on here is not too shabby youll get more'\n",
      "Target: 1\n",
      "Features: b'i have drunk hickups i had a pretty laid back great night but i still can not help but be mad about the situation i put myself in'\n",
      "Target: 1\n",
      "Features: b'yeahshe passed last week so sad'\n",
      "Target: 1\n",
      "Features: b'although the guy playing the dmeo is playing it alot better'\n",
      "Target: 1\n",
      "Features: b'no I am even more frustrated'\n",
      "Target: 1\n"
     ]
    }
   ],
   "source": [
    "for feat, targ in train_ds.take(5):\n",
    "  print ('Features: {}'.format(feat))\n",
    "  print ('Target: {}'.format(targ))"
   ]
  },
  {
   "cell_type": "markdown",
   "metadata": {},
   "source": [
    "## Load BERT Resources"
   ]
  },
  {
   "cell_type": "code",
   "execution_count": 6,
   "metadata": {
    "scrolled": true
   },
   "outputs": [
    {
     "name": "stdout",
     "output_type": "stream",
     "text": [
      "BERT model selected           : https://tfhub.dev/tensorflow/small_bert/bert_en_uncased_L-4_H-512_A-8/1\n",
      "Preprocess model auto-selected: https://tfhub.dev/tensorflow/bert_en_uncased_preprocess/3\n"
     ]
    }
   ],
   "source": [
    "tfhub_handle_encoder = 'https://tfhub.dev/tensorflow/small_bert/bert_en_uncased_L-4_H-512_A-8/1'\n",
    "tfhub_handle_preprocess = 'https://tfhub.dev/tensorflow/bert_en_uncased_preprocess/3'\n",
    "\n",
    "print(f'BERT model selected           : {tfhub_handle_encoder}')\n",
    "print(f'Preprocess model auto-selected: {tfhub_handle_preprocess}')"
   ]
  },
  {
   "cell_type": "markdown",
   "metadata": {},
   "source": [
    "### Pre-Processor"
   ]
  },
  {
   "cell_type": "code",
   "execution_count": null,
   "metadata": {},
   "outputs": [],
   "source": [
    "bert_preprocess_model = hub.KerasLayer(tfhub_handle_preprocess)"
   ]
  },
  {
   "cell_type": "code",
   "execution_count": 8,
   "metadata": {
    "scrolled": true
   },
   "outputs": [
    {
     "name": "stdout",
     "output_type": "stream",
     "text": [
      "Keys       : ['input_mask', 'input_type_ids', 'input_word_ids']\n",
      "Shape      : (1, 128)\n",
      "Word Ids   : [ 101 2023 2003 2107 2019 6429 3185  999  102    0    0    0]\n",
      "Input Mask : [1 1 1 1 1 1 1 1 1 0 0 0]\n",
      "Type Ids   : [0 0 0 0 0 0 0 0 0 0 0 0]\n"
     ]
    }
   ],
   "source": [
    "text_test = ['this is such an amazing movie!']\n",
    "text_preprocessed = bert_preprocess_model(text_test)\n",
    "\n",
    "print(f'Keys       : {list(text_preprocessed.keys())}')\n",
    "print(f'Shape      : {text_preprocessed[\"input_word_ids\"].shape}')\n",
    "print(f'Word Ids   : {text_preprocessed[\"input_word_ids\"][0, :12]}')\n",
    "print(f'Input Mask : {text_preprocessed[\"input_mask\"][0, :12]}')\n",
    "print(f'Type Ids   : {text_preprocessed[\"input_type_ids\"][0, :12]}')"
   ]
  },
  {
   "cell_type": "markdown",
   "metadata": {},
   "source": [
    "### Model"
   ]
  },
  {
   "cell_type": "code",
   "execution_count": null,
   "metadata": {},
   "outputs": [],
   "source": [
    "bert_model = hub.KerasLayer(tfhub_handle_encoder)"
   ]
  },
  {
   "cell_type": "code",
   "execution_count": 10,
   "metadata": {
    "scrolled": true
   },
   "outputs": [
    {
     "name": "stdout",
     "output_type": "stream",
     "text": [
      "Loaded BERT: https://tfhub.dev/tensorflow/small_bert/bert_en_uncased_L-4_H-512_A-8/1\n",
      "Pooled Outputs Shape:(1, 512)\n",
      "Pooled Outputs Values:[ 0.76262873  0.9928099  -0.1861185   0.3667384   0.15233701  0.6550448\n",
      "  0.9681154  -0.9486271   0.00216167 -0.9877732   0.06842678 -0.9763059 ]\n",
      "Sequence Outputs Shape:(1, 128, 512)\n",
      "Sequence Outputs Values:[[-0.28946328  0.3432129   0.3323155  ...  0.21300781  0.71020806\n",
      "  -0.05771036]\n",
      " [-0.28742033  0.31981045 -0.2301859  ...  0.5845505  -0.21329637\n",
      "   0.72692126]\n",
      " [-0.6615699   0.6887682  -0.87433034 ...  0.10877267 -0.26173192\n",
      "   0.47855562]\n",
      " ...\n",
      " [-0.22561109 -0.28925675 -0.07064371 ...  0.47566092  0.8327719\n",
      "   0.40025437]\n",
      " [-0.2982412  -0.27473122 -0.0545058  ...  0.4884973   1.0955354\n",
      "   0.18163367]\n",
      " [-0.44378173  0.00930707  0.07223696 ...  0.17290184  1.1833246\n",
      "   0.07897995]]\n"
     ]
    }
   ],
   "source": [
    "bert_results = bert_model(text_preprocessed)\n",
    "\n",
    "print(f'Loaded BERT: {tfhub_handle_encoder}')\n",
    "print(f'Pooled Outputs Shape:{bert_results[\"pooled_output\"].shape}')\n",
    "print(f'Pooled Outputs Values:{bert_results[\"pooled_output\"][0, :12]}')\n",
    "print(f'Sequence Outputs Shape:{bert_results[\"sequence_output\"].shape}')\n",
    "print(f'Sequence Outputs Values:{bert_results[\"sequence_output\"][0, :12]}')"
   ]
  },
  {
   "cell_type": "markdown",
   "metadata": {},
   "source": [
    "## Define Model\n",
    "A fine-tuned model for tweet sentiment analysis will be constructed using the the pre-processing model, the uncased BERT model, one Dense layer, and a Dropout layer."
   ]
  },
  {
   "cell_type": "code",
   "execution_count": null,
   "metadata": {},
   "outputs": [],
   "source": []
  }
 ],
 "metadata": {
  "kernelspec": {
   "display_name": "Python 3",
   "language": "python",
   "name": "python3"
  },
  "language_info": {
   "codemirror_mode": {
    "name": "ipython",
    "version": 3
   },
   "file_extension": ".py",
   "mimetype": "text/x-python",
   "name": "python",
   "nbconvert_exporter": "python",
   "pygments_lexer": "ipython3",
   "version": "3.8.5"
  }
 },
 "nbformat": 4,
 "nbformat_minor": 4
}
