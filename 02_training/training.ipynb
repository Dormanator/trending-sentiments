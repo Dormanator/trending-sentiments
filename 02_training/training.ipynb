{
  "nbformat": 4,
  "nbformat_minor": 0,
  "metadata": {
    "colab": {
      "name": "training.ipynb",
      "provenance": [],
      "collapsed_sections": []
    },
    "kernelspec": {
      "display_name": "Python 3",
      "language": "python",
      "name": "python3"
    },
    "language_info": {
      "codemirror_mode": {
        "name": "ipython",
        "version": 3
      },
      "file_extension": ".py",
      "mimetype": "text/x-python",
      "name": "python",
      "nbconvert_exporter": "python",
      "pygments_lexer": "ipython3",
      "version": "3.8.5"
    }
  },
  "cells": [
    {
      "cell_type": "markdown",
      "metadata": {
        "id": "jatz6BXUTGmP"
      },
      "source": [
        "# Pre-Processing and Training the Model\n",
        "This notebook goes through the steps in turning the cleaned data into a representation that can be used to train a pre-trained BERT model for sentiment analysis.\n",
        "\n",
        "__Columns__\n",
        "- `target` sentiment of tweet (0=positive, 1=negative)\n",
        "- `tweet` cleaned tweet text\n",
        "\n",
        "The processes used in this notebook were inspired by the [this tutorial](https://www.tensorflow.org/tutorials/text/classify_text_with_bert) in the TensorFlow Docs.\n",
        "\n",
        "_Note:_\n",
        "_This notebook expects the zipped datasets to be in your Google Drive in a `twitter_sentiment` sub-directory with the names `train_twitter_data.zip`, `test_twitter_data.zip`, and `validate_twitter_data.zip` (e.g., `./MyDrive/twitter_sentiment/train_twitter_data.zip`). If the datasets do not exist open and run the `cleaning.ipynb` notebook and generate them. If this dataset is in another location set `RESOURCES_PATH` accordingly._"
      ]
    },
    {
      "cell_type": "code",
      "metadata": {
        "id": "JIwuHhecTGmQ",
        "scrolled": true,
        "colab": {
          "base_uri": "https://localhost:8080/"
        },
        "outputId": "ba8a7dc3-5159-4b27-da66-60d396d06063"
      },
      "source": [
        "!pip install tensorflow -q\n",
        "!pip install tensorflow-text -q\n",
        "!pip install tf-models-official -q\n",
        "!pip install pydot -q"
      ],
      "execution_count": null,
      "outputs": [
        {
          "output_type": "stream",
          "text": [
            "\u001b[K     |████████████████████████████████| 3.4MB 8.1MB/s \n",
            "\u001b[K     |████████████████████████████████| 1.1MB 8.8MB/s \n",
            "\u001b[K     |████████████████████████████████| 51kB 6.5MB/s \n",
            "\u001b[K     |████████████████████████████████| 706kB 28.2MB/s \n",
            "\u001b[K     |████████████████████████████████| 102kB 11.2MB/s \n",
            "\u001b[K     |████████████████████████████████| 37.6MB 173kB/s \n",
            "\u001b[K     |████████████████████████████████| 358kB 44.8MB/s \n",
            "\u001b[K     |████████████████████████████████| 645kB 25.4MB/s \n",
            "\u001b[K     |████████████████████████████████| 1.2MB 42.9MB/s \n",
            "\u001b[K     |████████████████████████████████| 174kB 16.2MB/s \n",
            "\u001b[?25h  Building wheel for seqeval (setup.py) ... \u001b[?25l\u001b[?25hdone\n",
            "  Building wheel for py-cpuinfo (setup.py) ... \u001b[?25l\u001b[?25hdone\n"
          ],
          "name": "stdout"
        }
      ]
    },
    {
      "cell_type": "code",
      "metadata": {
        "id": "8O-X65NmTGmR"
      },
      "source": [
        "import os\n",
        "import shutil\n",
        "\n",
        "import pandas as pd\n",
        "import matplotlib.pyplot as plt\n",
        "import tensorflow as tf\n",
        "import tensorflow_hub as hub\n",
        "import tensorflow_text as text\n",
        "\n",
        "from official.nlp import optimization\n",
        "\n",
        "tf.get_logger().setLevel('ERROR')"
      ],
      "execution_count": null,
      "outputs": []
    },
    {
      "cell_type": "markdown",
      "metadata": {
        "id": "qW64FsNxTGmS"
      },
      "source": [
        "## Read Files\n",
        "Read the files into memory and convert them to TensorFlow datasets to begin pre-processing."
      ]
    },
    {
      "cell_type": "code",
      "metadata": {
        "colab": {
          "base_uri": "https://localhost:8080/"
        },
        "id": "kWbLZRhdWb00",
        "outputId": "efb15587-2ce0-48ed-dcd3-2871cbfa0a8a"
      },
      "source": [
        "from google.colab import drive\n",
        "drive.mount('/content/drive')"
      ],
      "execution_count": null,
      "outputs": [
        {
          "output_type": "stream",
          "text": [
            "Mounted at /content/drive\n"
          ],
          "name": "stdout"
        }
      ]
    },
    {
      "cell_type": "code",
      "metadata": {
        "id": "-r0yWaozTGmS"
      },
      "source": [
        "RESOURCES_PATH = './drive/MyDrive/twitter_sentiment/{}'\n",
        "BATCH_SIZE=32\n",
        "\n",
        "def twitter_data_to_dataset(filename):\n",
        "    pd_df = pd.read_csv(RESOURCES_PATH.format(filename), encoding = 'ISO-8859-1', compression='zip')\n",
        "    tweets =  tf.constant(pd_df['text'].to_numpy(dtype='U'), dtype=tf.string)\n",
        "    targets = tf.constant(pd_df['target'].to_numpy(dtype='i4'), dtype=tf.int32)\n",
        "    raw_ds = tf.data.Dataset.from_tensor_slices((tweets, targets))\n",
        "    return raw_ds.batch(BATCH_SIZE, drop_remainder=False).cache().prefetch(buffer_size=tf.data.AUTOTUNE)\n",
        "\n",
        "train_ds = twitter_data_to_dataset('train_twitter_data.zip')\n",
        "test_ds = twitter_data_to_dataset('test_twitter_data.zip')\n",
        "val_ds = twitter_data_to_dataset('validate_twitter_data.zip')"
      ],
      "execution_count": null,
      "outputs": []
    },
    {
      "cell_type": "code",
      "metadata": {
        "colab": {
          "base_uri": "https://localhost:8080/"
        },
        "id": "Ttbdw_7qTGmS",
        "scrolled": true,
        "outputId": "4eaee939-f564-4fbd-c360-4785b706e379"
      },
      "source": [
        "for text_batch, label_batch in train_ds.take(1):\n",
        "    for i in range(3):\n",
        "        print(f'Review: {text_batch.numpy()[i]}')\n",
        "        print(f'Label : {label_batch.numpy()[i]}')"
      ],
      "execution_count": null,
      "outputs": [
        {
          "output_type": "stream",
          "text": [
            "Review: b'eating cookies yummiii lt'\n",
            "Label : 1\n",
            "Review: b'what a bummer i could not give next time i will be prepared'\n",
            "Label : 1\n",
            "Review: b'hope youve had a gd wk my lovely i missed ya show last nite so just caught up on itv lol take care n hugs kids'\n",
            "Label : 1\n"
          ],
          "name": "stdout"
        }
      ]
    },
    {
      "cell_type": "markdown",
      "metadata": {
        "id": "J_aSbMBDTGmT"
      },
      "source": [
        "## Load BERT Resources"
      ]
    },
    {
      "cell_type": "code",
      "metadata": {
        "colab": {
          "base_uri": "https://localhost:8080/"
        },
        "id": "2WaVhWEsTGmT",
        "scrolled": true,
        "outputId": "ed965d12-b941-4716-98e5-99ed49b3672a"
      },
      "source": [
        "# https://tfhub.dev/tensorflow/small_bert/bert_en_uncased_L-4_H-512_A-8/1 - 3hr per epoch\n",
        "# 'https://tfhub.dev/tensorflow/small_bert/bert_en_uncased_L-4_H-256_A-4/1' - 1hr per epoch\n",
        "tfhub_handle_encoder = 'https://tfhub.dev/tensorflow/small_bert/bert_en_uncased_L-4_H-512_A-8/1'\n",
        "tfhub_handle_preprocess = 'https://tfhub.dev/tensorflow/bert_en_uncased_preprocess/3'\n",
        "\n",
        "print(f'BERT model           : {tfhub_handle_encoder}')\n",
        "print(f'Preprocess model     : {tfhub_handle_preprocess}')"
      ],
      "execution_count": null,
      "outputs": [
        {
          "output_type": "stream",
          "text": [
            "BERT model           : https://tfhub.dev/tensorflow/small_bert/bert_en_uncased_L-4_H-512_A-8/1\n",
            "Preprocess model     : https://tfhub.dev/tensorflow/bert_en_uncased_preprocess/3\n"
          ],
          "name": "stdout"
        }
      ]
    },
    {
      "cell_type": "markdown",
      "metadata": {
        "id": "W8vnMTKsTGmU"
      },
      "source": [
        "### Pre-Processor"
      ]
    },
    {
      "cell_type": "code",
      "metadata": {
        "id": "lElPZbhkTGmU"
      },
      "source": [
        "bert_preprocess_model = hub.KerasLayer(tfhub_handle_preprocess)"
      ],
      "execution_count": null,
      "outputs": []
    },
    {
      "cell_type": "code",
      "metadata": {
        "colab": {
          "base_uri": "https://localhost:8080/"
        },
        "id": "4Ifcelx6TGmU",
        "scrolled": true,
        "outputId": "cd0715af-803e-463e-8112-4dc0b2822c36"
      },
      "source": [
        "text_test = ['the product was my favorite']\n",
        "text_preprocessed = bert_preprocess_model(text_test)\n",
        "\n",
        "print(f'Keys       : {list(text_preprocessed.keys())}')\n",
        "print(f'Shape      : {text_preprocessed[\"input_word_ids\"].shape}')\n",
        "print(f'Word Ids   : {text_preprocessed[\"input_word_ids\"][0, :12]}')\n",
        "print(f'Input Mask : {text_preprocessed[\"input_mask\"][0, :12]}')\n",
        "print(f'Type Ids   : {text_preprocessed[\"input_type_ids\"][0, :12]}')"
      ],
      "execution_count": null,
      "outputs": [
        {
          "output_type": "stream",
          "text": [
            "Keys       : ['input_mask', 'input_type_ids', 'input_word_ids']\n",
            "Shape      : (1, 128)\n",
            "Word Ids   : [ 101 1996 4031 2001 2026 5440  102    0    0    0    0    0]\n",
            "Input Mask : [1 1 1 1 1 1 1 0 0 0 0 0]\n",
            "Type Ids   : [0 0 0 0 0 0 0 0 0 0 0 0]\n"
          ],
          "name": "stdout"
        }
      ]
    },
    {
      "cell_type": "markdown",
      "metadata": {
        "id": "wiOqRwgDTGmV"
      },
      "source": [
        "### Model"
      ]
    },
    {
      "cell_type": "code",
      "metadata": {
        "id": "4wIzXMckTGmV"
      },
      "source": [
        "bert_model = hub.KerasLayer(tfhub_handle_encoder)"
      ],
      "execution_count": null,
      "outputs": []
    },
    {
      "cell_type": "code",
      "metadata": {
        "colab": {
          "base_uri": "https://localhost:8080/"
        },
        "id": "cc95DpkPTGmV",
        "scrolled": true,
        "outputId": "19dfce3b-fcf8-4f0a-b40b-510f1686063b"
      },
      "source": [
        "bert_results = bert_model(text_preprocessed)\n",
        "\n",
        "print(f'Loaded BERT: {tfhub_handle_encoder}')\n",
        "print(f'Pooled Outputs Shape:{bert_results[\"pooled_output\"].shape}')\n",
        "print(f'Pooled Outputs Values:{bert_results[\"pooled_output\"][0, :12]}')\n",
        "print(f'Sequence Outputs Shape:{bert_results[\"sequence_output\"].shape}')\n",
        "print(f'Sequence Outputs Values:{bert_results[\"sequence_output\"][0, :12]}')"
      ],
      "execution_count": null,
      "outputs": [
        {
          "output_type": "stream",
          "text": [
            "Loaded BERT: https://tfhub.dev/tensorflow/small_bert/bert_en_uncased_L-4_H-512_A-8/1\n",
            "Pooled Outputs Shape:(1, 512)\n",
            "Pooled Outputs Values:[ 0.66917604  0.58543867 -0.03145603  0.48074466 -0.25392446  0.8787986\n",
            "  0.9961011  -0.9899796   0.09613919 -0.8066804  -0.01391786 -0.99810755]\n",
            "Sequence Outputs Shape:(1, 128, 512)\n",
            "Sequence Outputs Values:[[-0.01279747  0.9729933   0.32275668 ... -0.7604815   1.4174016\n",
            "  -0.5738532 ]\n",
            " [-0.11445975  0.30193993 -1.2570338  ... -0.32878417  0.74751073\n",
            "   0.21686542]\n",
            " [-0.9138987   0.12440738  0.7862907  ...  0.553769    1.3620054\n",
            "  -0.32195386]\n",
            " ...\n",
            " [-0.15185907 -0.08935614  0.14648217 ...  0.14573207  0.95670736\n",
            "   0.15815184]\n",
            " [-0.06271692 -0.01314835  0.16347823 ... -0.02113485  0.90248066\n",
            "  -0.17281112]\n",
            " [ 0.01646175  0.21027008  0.17396736 ... -0.10561232  0.9892051\n",
            "  -0.34659997]]\n"
          ],
          "name": "stdout"
        }
      ]
    },
    {
      "cell_type": "markdown",
      "metadata": {
        "id": "xfcPB08CTGmV"
      },
      "source": [
        "## Define Model\n",
        "A fine-tuned model for tweet sentiment analysis will be constructed using the input layer, a pre-processing model, the uncased BERT model, one Dense layer, and a Dropout layer.\n"
      ]
    },
    {
      "cell_type": "code",
      "metadata": {
        "id": "OmKVlqhvTGmW"
      },
      "source": [
        "def build_classifier_model():\n",
        "    text_input = tf.keras.layers.Input(shape=(), dtype=tf.string, name='text')\n",
        "    preprocessing_layer = hub.KerasLayer(tfhub_handle_preprocess, name='preprocessing')\n",
        "    encoder_inputs = preprocessing_layer(text_input)\n",
        "    encoder = hub.KerasLayer(tfhub_handle_encoder, trainable=True, name='BERT_encoder')\n",
        "    outputs = encoder(encoder_inputs)\n",
        "    net = outputs['pooled_output']\n",
        "    net = tf.keras.layers.Dropout(0.1)(net)\n",
        "    net = tf.keras.layers.Dense(1, activation=None, name='classifier')(net)\n",
        "    return tf.keras.Model(text_input, net)"
      ],
      "execution_count": null,
      "outputs": []
    },
    {
      "cell_type": "code",
      "metadata": {
        "colab": {
          "base_uri": "https://localhost:8080/"
        },
        "id": "sAAE2c6UTGmW",
        "outputId": "15386072-4a5f-4fb8-b3ed-eb5b83e9f7e7"
      },
      "source": [
        "classifier_model = build_classifier_model()\n",
        "bert_raw_result = classifier_model(tf.constant(text_test))\n",
        "print(tf.sigmoid(bert_raw_result))"
      ],
      "execution_count": null,
      "outputs": [
        {
          "output_type": "stream",
          "text": [
            "tf.Tensor([[0.24470577]], shape=(1, 1), dtype=float32)\n"
          ],
          "name": "stdout"
        }
      ]
    },
    {
      "cell_type": "code",
      "metadata": {
        "colab": {
          "base_uri": "https://localhost:8080/",
          "height": 466
        },
        "id": "bfXP3rRmTGmX",
        "outputId": "98d22552-93e9-48aa-a92f-0f268aa941e6"
      },
      "source": [
        "tf.keras.utils.plot_model(classifier_model, RESOURCES_PATH.format('model.png'))"
      ],
      "execution_count": null,
      "outputs": [
        {
          "output_type": "execute_result",
          "data": {
            "image/png": "[encoded data removed]",
            "text/plain": [
              "<IPython.core.display.Image object>"
            ]
          },
          "metadata": {
            "tags": []
          },
          "execution_count": 13
        }
      ]
    },
    {
      "cell_type": "markdown",
      "metadata": {
        "id": "RcS0E0VXTGmX"
      },
      "source": [
        "## Train Model"
      ]
    },
    {
      "cell_type": "markdown",
      "metadata": {
        "id": "hlE5XWzzTGmX"
      },
      "source": [
        "### Loss Function\n",
        "Tweet sentiment classification between positive and negative is actually a binary classification problem at its core. It outputs a singlue-unit layer in the form of a probability making binary crossentropy the function of choice to measure loss."
      ]
    },
    {
      "cell_type": "code",
      "metadata": {
        "id": "09u_eAdlTGmX"
      },
      "source": [
        "loss = tf.keras.losses.BinaryCrossentropy(from_logits=True)\n",
        "metrics = tf.metrics.BinaryAccuracy()"
      ],
      "execution_count": null,
      "outputs": []
    },
    {
      "cell_type": "markdown",
      "metadata": {
        "id": "jdR-PprKTGmY"
      },
      "source": [
        "### Optimizer\n",
        "Use the same optimizer BERT was trained with the Adam (Adaptive Moments) optimizer."
      ]
    },
    {
      "cell_type": "code",
      "metadata": {
        "id": "FJ4boLn_TGmY"
      },
      "source": [
        "epochs = 2\n",
        "steps_per_epoch = tf.data.experimental.cardinality(train_ds).numpy()\n",
        "num_train_steps = steps_per_epoch * epochs\n",
        "num_warmup_steps = int(0.1*num_train_steps)\n",
        "\n",
        "init_lr = 3e-5\n",
        "optimizer = optimization.create_optimizer(init_lr=init_lr,\n",
        "                                          num_train_steps=num_train_steps,\n",
        "                                          num_warmup_steps=num_warmup_steps,\n",
        "                                          optimizer_type='adamw')"
      ],
      "execution_count": null,
      "outputs": []
    },
    {
      "cell_type": "markdown",
      "metadata": {
        "id": "NnpO2asOTGmY"
      },
      "source": [
        "### Compile and Train\n",
        "Now that `loss`, `metrics`, and our `optimizer` are defined we can compile our model and begin training."
      ]
    },
    {
      "cell_type": "code",
      "metadata": {
        "id": "HYs9vZ0oTGmZ"
      },
      "source": [
        "classifier_model.compile(optimizer=optimizer,\n",
        "                         loss=loss,\n",
        "                         metrics=metrics)"
      ],
      "execution_count": null,
      "outputs": []
    },
    {
      "cell_type": "code",
      "metadata": {
        "colab": {
          "base_uri": "https://localhost:8080/"
        },
        "id": "aub1sIEzTGmZ",
        "outputId": "f7e13ecc-543e-4208-c177-9c0178a06f7f"
      },
      "source": [
        "print(f'Training model with {tfhub_handle_encoder}')\n",
        "history = classifier_model.fit(x=train_ds,\n",
        "                               validation_data=val_ds,\n",
        "                               epochs=epochs)"
      ],
      "execution_count": null,
      "outputs": [
        {
          "output_type": "stream",
          "text": [
            "Training model with https://tfhub.dev/tensorflow/small_bert/bert_en_uncased_L-4_H-512_A-8/1\n",
            "Epoch 1/2\n",
            "1250/1250 [==============================] - 6899s 6s/step - loss: 0.3650 - binary_accuracy: 0.8371 - val_loss: 0.4681 - val_binary_accuracy: 0.7912\n",
            "Epoch 2/2\n",
            " 876/1250 [====================>.........] - ETA: 33:15 - loss: 0.3284 - binary_accuracy: 0.8554"
          ],
          "name": "stdout"
        }
      ]
    },
    {
      "cell_type": "markdown",
      "metadata": {
        "id": "8RbXepg9TGmZ"
      },
      "source": [
        "### Evaluate"
      ]
    },
    {
      "cell_type": "code",
      "metadata": {
        "id": "QZFuihTSTGmZ"
      },
      "source": [
        "loss, accuracy = classifier_model.evaluate(test_ds)\n",
        "\n",
        "print(f'Loss: {loss}')\n",
        "print(f'Accuracy: {accuracy}')"
      ],
      "execution_count": null,
      "outputs": []
    },
    {
      "cell_type": "code",
      "metadata": {
        "id": "lc4yzdpkTGma"
      },
      "source": [
        "history_dict = history.history\n",
        "print(history_dict.keys())\n",
        "\n",
        "acc = history_dict['binary_accuracy']\n",
        "val_acc = history_dict['val_binary_accuracy']\n",
        "loss = history_dict['loss']\n",
        "val_loss = history_dict['val_loss']\n",
        "\n",
        "epochs = range(1, len(acc) + 1)\n",
        "fig = plt.figure(figsize=(10, 6))\n",
        "fig.tight_layout()\n",
        "\n",
        "plt.subplot(2, 1, 1)\n",
        "# \"bo\" is for \"blue dot\"\n",
        "plt.plot(epochs, loss, 'r', label='Training loss')\n",
        "# b is for \"solid blue line\"\n",
        "plt.plot(epochs, val_loss, 'b', label='Validation loss')\n",
        "plt.title('Training and validation loss')\n",
        "# plt.xlabel('Epochs')\n",
        "plt.ylabel('Loss')\n",
        "plt.legend()\n",
        "\n",
        "plt.subplot(2, 1, 2)\n",
        "plt.plot(epochs, acc, 'r', label='Training acc')\n",
        "plt.plot(epochs, val_acc, 'b', label='Validation acc')\n",
        "plt.title('Training and validation accuracy')\n",
        "plt.xlabel('Epochs')\n",
        "plt.ylabel('Accuracy')\n",
        "plt.legend(loc='lower right')"
      ],
      "execution_count": null,
      "outputs": []
    },
    {
      "cell_type": "markdown",
      "metadata": {
        "id": "P-v0di8ITGma"
      },
      "source": [
        "### Save Model"
      ]
    },
    {
      "cell_type": "code",
      "metadata": {
        "id": "s27mFI1tTGma",
        "colab": {
          "base_uri": "https://localhost:8080/",
          "height": 197
        },
        "outputId": "553a94c5-a8c8-4b45-ef48-6786675c9fa4"
      },
      "source": [
        "model_name = 'twitter_sentiment_bert_e5'\n",
        "saved_model_path = RESOURCES_PATH.format(model_name)\n",
        "\n",
        "classifier_model.save(saved_model_path, include_optimizer=False)"
      ],
      "execution_count": null,
      "outputs": [
        {
          "output_type": "error",
          "ename": "TypeError",
          "evalue": "ignored",
          "traceback": [
            "\u001b[0;31m---------------------------------------------------------------------------\u001b[0m",
            "\u001b[0;31mTypeError\u001b[0m                                 Traceback (most recent call last)",
            "\u001b[0;32m<ipython-input-19-d54be7481aeb>\u001b[0m in \u001b[0;36m<module>\u001b[0;34m()\u001b[0m\n\u001b[1;32m      2\u001b[0m \u001b[0msaved_model_path\u001b[0m \u001b[0;34m=\u001b[0m \u001b[0mRESOURCES_PATH\u001b[0m\u001b[0;34m.\u001b[0m\u001b[0mformat\u001b[0m\u001b[0;34m(\u001b[0m\u001b[0mmodel_name\u001b[0m\u001b[0;34m)\u001b[0m\u001b[0;34m\u001b[0m\u001b[0;34m\u001b[0m\u001b[0m\n\u001b[1;32m      3\u001b[0m \u001b[0;34m\u001b[0m\u001b[0m\n\u001b[0;32m----> 4\u001b[0;31m \u001b[0mclassifier_model\u001b[0m\u001b[0;34m.\u001b[0m\u001b[0msave\u001b[0m\u001b[0;34m(\u001b[0m\u001b[0msaved_model_pathinclude_optimizer\u001b[0m\u001b[0;34m=\u001b[0m\u001b[0;32mFalse\u001b[0m\u001b[0;34m)\u001b[0m\u001b[0;34m\u001b[0m\u001b[0;34m\u001b[0m\u001b[0m\n\u001b[0m",
            "\u001b[0;31mTypeError\u001b[0m: save() got an unexpected keyword argument 'saved_model_pathinclude_optimizer'"
          ]
        }
      ]
    },
    {
      "cell_type": "markdown",
      "metadata": {
        "id": "X6P05FoBTGma"
      },
      "source": [
        "### Reload Model and Test Locally"
      ]
    },
    {
      "cell_type": "code",
      "metadata": {
        "id": "uMfLI_u2TGmb"
      },
      "source": [
        "reloaded_model = tf.saved_model.load(saved_model_path)"
      ],
      "execution_count": null,
      "outputs": []
    },
    {
      "cell_type": "code",
      "metadata": {
        "id": "KWgB98FcTGmb"
      },
      "source": [
        "def print_my_examples(inputs, results):\n",
        "    result_for_printing = [f'input: {inputs[i]:<30} : score: {results[i][0]:.6f}' for i in range(len(inputs))]\n",
        "    print(*result_for_printing, sep='\\n')\n",
        "    print()\n",
        "\n",
        "\n",
        "examples = [\n",
        "    'the product was my favorite',  # this is the same sentence tried earlier\n",
        "    'the product was so great',\n",
        "    'the product was meh',\n",
        "    'the products was not good',\n",
        "    'the product was terrible'\n",
        "]\n",
        "\n",
        "reloaded_results = tf.sigmoid(reloaded_model(tf.constant(examples)))\n",
        "original_results = tf.sigmoid(classifier_model(tf.constant(examples)))\n",
        "\n",
        "print('Results from the saved model:')\n",
        "print_my_examples(examples, reloaded_results)\n",
        "\n",
        "print('Results from the model in memory:')\n",
        "print_my_examples(examples, original_results)"
      ],
      "execution_count": null,
      "outputs": []
    },
    {
      "cell_type": "markdown",
      "metadata": {
        "id": "iC6TAldr6ZWc"
      },
      "source": [
        "## Train with Additional Epochs\n",
        "Run this cell then the compile training cells above."
      ]
    },
    {
      "cell_type": "code",
      "metadata": {
        "id": "awrjddnUmq4l"
      },
      "source": [
        "model_name = 'twitter_sentiment_bert_e3'\n",
        "saved_model_path = RESOURCES_PATH.format(model_name)\n",
        "\n",
        "classifier_model = tf.keras.models.load_model(saved_model_path, compile=False)"
      ],
      "execution_count": null,
      "outputs": []
    },
    {
      "cell_type": "markdown",
      "metadata": {
        "id": "893GNIfU62_f"
      },
      "source": [
        ""
      ]
    }
  ]
}