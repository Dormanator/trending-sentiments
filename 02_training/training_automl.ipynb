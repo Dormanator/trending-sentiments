{
  "nbformat": 4,
  "nbformat_minor": 0,
  "metadata": {
    "colab": {
      "name": "training_automl.ipynb",
      "provenance": [],
      "collapsed_sections": []
    },
    "kernelspec": {
      "name": "python3",
      "display_name": "Python 3"
    }
  },
  "cells": [
    {
      "cell_type": "markdown",
      "metadata": {
        "id": "sDVcSUQHh1bs"
      },
      "source": [
        "# Create Google Cloud Resources and Train with AutoML"
      ]
    },
    {
      "cell_type": "markdown",
      "metadata": {
        "id": "TosYwamtiAW_"
      },
      "source": [
        "## Google Cloud Setup\r\n",
        "1. To train a twitter sentiment classification model with Google's AutoML cloud solution you must create a Google Cloud account [here](cloud.google.com)\r\n",
        "\r\n",
        "2. In the Google Cloud console create a new Google Cloud project.\r\n",
        "\r\n",
        "3. Confirm that billing is enabled for you Google Cloud project - [learn more](https://cloud.google.com/billing/docs/how-to/modify-project)\r\n",
        "\r\n",
        "4. Enable the AutoML and Cloud Storage APIs [here](https://console.cloud.google.com/flows/enableapi?apiid=storage-component.googleapis.com,automl.googleapis.com,storage-api.googleapis.com&redirect=https://console.cloud.google.com&_ga=2.19444408.1477944611.1615487721-641531934.1615487721)\r\n",
        "\r\n",
        "5. Create a service account with the roles `AutoML Admin` and `AutoML Service Agent` and download a key file for it [here](https://cloud.google.com/iam/docs/creating-managing-service-accounts#creating_a_service_account)\r\n",
        "\r\n",
        "6. Get the [Project ID](https://cloud.google.com/resource-manager/docs/creating-managing-projects#identifying_projects) for your Cloud project\r\n",
        "\r\n",
        "7. Create a [Cloud Storage bucket](https://cloud.google.com/storage/docs/creating-buckets) to import and store data in for model training\r\n",
        "\r\n",
        "8. Follow steps in this notebook\r\n",
        "\r\n",
        "---\r\n",
        "\r\n",
        "__Resources__\r\n",
        "\r\n",
        "\r\n",
        "* https://cloud.google.com/natural-language/automl/docs/how-to   \r\n",
        "\r\n",
        "* https://github.com/GoogleCloudPlatform/ai-platform-samples/blob/master/notebooks/samples/tables/census_income_prediction/getting_started_notebook.ipynb\r\n",
        "\r\n"
      ]
    },
    {
      "cell_type": "markdown",
      "metadata": {
        "id": "CtKUKKQij6lC"
      },
      "source": [
        "## Setup and Authenticate\r\n",
        "Fill in the necessary account information to begin."
      ]
    },
    {
      "cell_type": "code",
      "metadata": {
        "id": "rln6V3_-5G_a"
      },
      "source": [
        "!pip install --upgrade --quiet --user google-cloud-automl"
      ],
      "execution_count": null,
      "outputs": []
    },
    {
      "cell_type": "code",
      "metadata": {
        "id": "LarVwkLLkJuc"
      },
      "source": [
        "import sys\r\n",
        "\r\n",
        "from google.cloud import automl"
      ],
      "execution_count": null,
      "outputs": []
    },
    {
      "cell_type": "code",
      "metadata": {
        "id": "QztTYl6r5OFM"
      },
      "source": [
        "PROJECT_ID = '' #@param {type:\"string\"}\r\n",
        "DISPLAY_NAME = '' #@param {type:\"string\"}\r\n",
        "BUCKET_NAME = '' #@param {type:\"string\"}\r\n",
        "COMPUTE_REGION = 'us-central1' #@param {type:\"string\"}"
      ],
      "execution_count": null,
      "outputs": []
    },
    {
      "cell_type": "code",
      "metadata": {
        "id": "unOAn3fD4919"
      },
      "source": [
        "if 'google.colab' in sys.modules:    \r\n",
        "  from google.colab import files\r\n",
        "  keyfile_upload = files.upload()\r\n",
        "  keyfile = list(keyfile_upload.keys())[0]\r\n",
        "  %env GOOGLE_APPLICATION_CREDENTIALS $keyfile\r\n",
        "  !gcloud auth activate-service-account --key-file $keyfile"
      ],
      "execution_count": null,
      "outputs": []
    },
    {
      "cell_type": "code",
      "metadata": {
        "id": "kwuCXf515nWv"
      },
      "source": [
        "!gsutil ls -al gs://$BUCKET_NAME"
      ],
      "execution_count": null,
      "outputs": []
    },
    {
      "cell_type": "markdown",
      "metadata": {
        "id": "ImKKrzev5zjQ"
      },
      "source": [
        "## Create Dataset and Import Data\r\n",
        "Make sure the variable values are set correctly for your purposes."
      ]
    },
    {
      "cell_type": "code",
      "metadata": {
        "id": "Mbuq92Zy5Rvu"
      },
      "source": [
        "# A name for the AutoML tables Dataset to create.\r\n",
        "DATASET_DISPLAY_NAME = 'twitter_data' #@param {type: 'string'}\r\n",
        "# The GCS data to import data from (doesn't need to exist).\r\n",
        "INPUT_CSV_NAME = 'clean_twitter_data.csv' #@param {type: 'string'}\r\n",
        "# A name for the AutoML tables model to create.\r\n",
        "MODEL_DISPLAY_NAME = 'twitter_sentiment_model' #@param {type: 'string'}\r\n",
        "\r\n",
        "assert all([\r\n",
        "    PROJECT_ID,\r\n",
        "    COMPUTE_REGION,\r\n",
        "    DATASET_DISPLAY_NAME,\r\n",
        "    INPUT_CSV_NAME,\r\n",
        "    MODEL_DISPLAY_NAME,\r\n",
        "])"
      ],
      "execution_count": null,
      "outputs": []
    },
    {
      "cell_type": "markdown",
      "metadata": {
        "id": "FivIBKtC7pxy"
      },
      "source": [
        "## Import Training Data\r\n",
        "First we create the dataset in Google Cloud. Then we populate it with our data. Lastly, we test our import be reading the dataset from Google Cloud."
      ]
    },
    {
      "cell_type": "code",
      "metadata": {
        "id": "KkcjWv7L7lhy"
      },
      "source": [
        "client = automl.AutoMlClient()\r\n",
        "project_location = 'projects/{}/locations/{}'.format(PROJECT_ID, COMPUTE_REGION)\r\n",
        "\r\n",
        "metadata = automl.TextSentimentDatasetMetadata(\r\n",
        "    sentiment_max=1\r\n",
        ") \r\n",
        "\r\n",
        "dataset = automl.Dataset(\r\n",
        "    display_name=DATASET_DISPLAY_NAME, text_sentiment_dataset_metadata=metadata\r\n",
        ")\r\n",
        "\r\n",
        "response = client.create_dataset(parent=project_location, dataset=dataset)\r\n",
        "created_dataset = response.result()\r\n",
        "dataset_id = created_dataset.name.split('/')[-1]\r\n",
        "\r\n",
        "print('Dataset name: {}'.format(created_dataset.name))\r\n",
        "print('Dataset id: {}'.format(dataset_id))"
      ],
      "execution_count": null,
      "outputs": []
    },
    {
      "cell_type": "code",
      "metadata": {
        "id": "dO501CWH8S-N"
      },
      "source": [
        "gcs_dataset_uri = 'gs://{}/{}.csv'.format(BUCKET_NAME, INPUT_CSV_NAME)\r\n",
        "\r\n",
        "if 'google.colab' in sys.modules:    \r\n",
        "  from google.colab import files\r\n",
        "  dataset_upload = files.upload()\r\n",
        "  dataset_csv = list(dataset_upload.keys())[0]\r\n",
        "\r\n",
        "!gsutil ls gs://$BUCKET_NAME || gsutil mb -l $COMPUTE_REGION gs://$BUCKET_NAME\r\n",
        "!gsutil cp $dataset_csv $gcs_dataset_uri"
      ],
      "execution_count": null,
      "outputs": []
    },
    {
      "cell_type": "code",
      "metadata": {
        "id": "q0D58lTb82bl"
      },
      "source": [
        "dataset_full_id = client.dataset_path(PROJECT_ID, COMPUTE_REGION, dataset_id)\r\n",
        "\r\n",
        "input_uris = gcs_dataset_uri.split(\",\")\r\n",
        "gcs_source = automl.GcsSource(input_uris=input_uris)\r\n",
        "input_config = automl.InputConfig(gcs_source=gcs_source)\r\n",
        "\r\n",
        "response = client.import_data(name=dataset_full_id, input_config=input_config)\r\n",
        "\r\n",
        "print('Processing import...')\r\n",
        "print('Data imported. {}'.format(response.result()))"
      ],
      "execution_count": null,
      "outputs": []
    },
    {
      "cell_type": "markdown",
      "metadata": {
        "id": "ysKAKPuc9UWm"
      },
      "source": [
        "## Train Model\r\n",
        "Once the dataset has imported we can start the training job on Google Cloud. This takes several hours. You will be email when it completes."
      ]
    },
    {
      "cell_type": "code",
      "metadata": {
        "id": "sqbz0EGs9Wft"
      },
      "source": [
        "metadata = automl.TextSentimentModelMetadata()\r\n",
        "model = automl.Model(\r\n",
        "    display_name=MODEL_DISPLAY_NAME,\r\n",
        "    dataset_id=dataset_id,\r\n",
        "    text_sentiment_model_metadata=metadata,\r\n",
        ")\r\n",
        "\r\n",
        "response = client.create_model(parent=project_location, model=model)\r\n",
        "\r\n",
        "print('Training operation name: {}'.format(response.operation.name))\r\n",
        "print('Training started...')\r\n"
      ],
      "execution_count": null,
      "outputs": []
    },
    {
      "cell_type": "markdown",
      "metadata": {
        "id": "GTg4qYDlZ9gT"
      },
      "source": [
        "Confirm your model finished training and is accessible via GCS."
      ]
    },
    {
      "cell_type": "code",
      "metadata": {
        "id": "VzDIfA5-Z34D"
      },
      "source": [
        "created_model = response.result()\r\n",
        "print('Training finished. {}'.format(created_model))"
      ],
      "execution_count": null,
      "outputs": []
    },
    {
      "cell_type": "markdown",
      "metadata": {
        "id": "UMqiJ8kVZaJa"
      },
      "source": [
        "## Deploy Model\r\n",
        "Deploy the model once training has completed. Once the model is deployed verify its deployment."
      ]
    },
    {
      "cell_type": "code",
      "metadata": {
        "id": "uvR4vmX2ZZnv"
      },
      "source": [
        "response = client.deploy_model(name=created_model.name)\r\n",
        "print(f\"Model deployment finished. {response.result()}\")"
      ],
      "execution_count": null,
      "outputs": []
    }
  ]
}